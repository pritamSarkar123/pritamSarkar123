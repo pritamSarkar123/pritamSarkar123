{
 "cells": [
  {
   "cell_type": "raw",
   "metadata": {},
   "source": [
    "suppose I have a function which holds and then returns an entire list together(too much memory consuming)\n",
    "Instead we can use a generator, wich yields each element each time on our asking,(less memoty consuming)"
   ]
  },
  {
   "cell_type": "code",
   "execution_count": 1,
   "metadata": {},
   "outputs": [
    {
     "name": "stdout",
     "output_type": "stream",
     "text": [
      "[1, 4, 9, 16, 25]\n"
     ]
    }
   ],
   "source": [
    "#without generator\n",
    "def squaredlist(L):\n",
    "    r=[]\n",
    "    for i in L:\n",
    "        r.append(i*i)\n",
    "    return r\n",
    "\n",
    "if __name__==\"__main__\":\n",
    "    print(squaredlist([1,2,3,4,5]))"
   ]
  },
  {
   "cell_type": "code",
   "execution_count": 3,
   "metadata": {},
   "outputs": [
    {
     "name": "stdout",
     "output_type": "stream",
     "text": [
      "1 4 9 16 25 "
     ]
    }
   ],
   "source": [
    "#with generator\n",
    "def squaredlistGen(L):\n",
    "    for i in L:\n",
    "        yield i*i\n",
    "\n",
    "if __name__==\"__main__\":\n",
    "    L=[1,2,3,4,5]\n",
    "    squared=squaredlistGen(L)\n",
    "    for i in range(len(L)):\n",
    "        print(next(squared),end=\" \")\n",
    "    "
   ]
  },
  {
   "cell_type": "code",
   "execution_count": 4,
   "metadata": {},
   "outputs": [
    {
     "name": "stdout",
     "output_type": "stream",
     "text": [
      "1 4 9 16 25 "
     ]
    }
   ],
   "source": [
    "#easier way\n",
    "def squaredlistGen(L):\n",
    "    for i in L:\n",
    "        yield i*i\n",
    "\n",
    "if __name__==\"__main__\":\n",
    "    L=[1,2,3,4,5]\n",
    "    squared=squaredlistGen(L)\n",
    "    for square in squared:\n",
    "        print(square,end=\" \")"
   ]
  },
  {
   "cell_type": "code",
   "execution_count": 6,
   "metadata": {},
   "outputs": [
    {
     "name": "stdout",
     "output_type": "stream",
     "text": [
      "<class 'list'> <class 'generator'>\n",
      "<class 'list'> <class 'generator'> <class 'list'>\n"
     ]
    }
   ],
   "source": [
    "#generators at the place of list comprehension\n",
    "if __name__==\"__main__\":\n",
    "    L=[1,2,3,4,5]\n",
    "    squaredList=[x*x for x in L]\n",
    "    squaredGen=(x*x for x in L)\n",
    "    print(type(squaredList),type(squaredGen))\n",
    "    squaredGenToList=list(squaredGen #but this is loosing performance\n",
    "    print(type(squaredList),type(squaredGen),type(squaredGenToList))"
   ]
  },
  {
   "cell_type": "markdown",
   "metadata": {},
   "source": [
    "# how it is better then list?"
   ]
  },
  {
   "cell_type": "code",
   "execution_count": 18,
   "metadata": {},
   "outputs": [
    {
     "name": "stdout",
     "output_type": "stream",
     "text": [
      "Memory usage [119.67578125] Mb, before\n",
      "Memory usage [156.30078125] Mb, after\n",
      "Time taken 2.285085439682007 seconds\n"
     ]
    }
   ],
   "source": [
    "import random\n",
    "import time\n",
    "import memory_profiler \n",
    "\n",
    "print(f\"Memory usage {memory_profiler.memory_usage()} Mb, before\")\n",
    "def peopleList(num):\n",
    "    p=[]\n",
    "    for i in range(num):\n",
    "        p.append(random.randint(i,i*100))\n",
    "    return p\n",
    "\n",
    "def peopleGen(num):\n",
    "    for i in range(num):\n",
    "        yield random.randint(i,i*100)\n",
    "        \n",
    "\n",
    "if __name__==\"__main__\":\n",
    "    t0=time.time()\n",
    "    peopleL=peopleList(1000000)\n",
    "    t1=time.time()\n",
    "    \n",
    "\n",
    "#     t0=time.time()\n",
    "#     peopleG=peopleGen(1000000)\n",
    "#     t1=time.time()\n",
    "    \n",
    "    print(f\"Memory usage {memory_profiler.memory_usage()} Mb, after\")\n",
    "    print(f\"Time taken {t1-t0} seconds\")"
   ]
  },
  {
   "cell_type": "code",
   "execution_count": null,
   "metadata": {},
   "outputs": [],
   "source": []
  },
  {
   "cell_type": "code",
   "execution_count": null,
   "metadata": {},
   "outputs": [],
   "source": []
  }
 ],
 "metadata": {
  "kernelspec": {
   "display_name": "Python 3",
   "language": "python",
   "name": "python3"
  },
  "language_info": {
   "codemirror_mode": {
    "name": "ipython",
    "version": 3
   },
   "file_extension": ".py",
   "mimetype": "text/x-python",
   "name": "python",
   "nbconvert_exporter": "python",
   "pygments_lexer": "ipython3",
   "version": "3.7.6"
  }
 },
 "nbformat": 4,
 "nbformat_minor": 4
}
