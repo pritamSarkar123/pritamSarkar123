{
 "cells": [
  {
   "cell_type": "raw",
   "metadata": {},
   "source": [
    "1.instance Method and instance Variable\n",
    "2.class method and class variable\n",
    "3.alternate constructor using class method\n",
    "4.static method\n",
    "5.constructor overloading\n",
    "6.Inharitance\n",
    "7.Magic method and operator overloading \"__\"<- dunder\n",
    "8.Interface and abstract class"
   ]
  },
  {
   "cell_type": "markdown",
   "metadata": {},
   "source": [
    "# Instance Method and instance Variables"
   ]
  },
  {
   "cell_type": "code",
   "execution_count": 13,
   "metadata": {},
   "outputs": [
    {
     "name": "stdout",
     "output_type": "stream",
     "text": [
      "pritam sarkar\n",
      "eshani jas\n",
      "Obj destroyed\n"
     ]
    }
   ],
   "source": [
    "class Student:\n",
    "    def __init__(self,first_name,last_name,marks): #init implicitly returns the created object\n",
    "        self.first_name=first_name\n",
    "        self.last_name=last_name\n",
    "        self.marks=marks\n",
    "    def fullname(self):\n",
    "        return self.first_name+\" \"+self.last_name\n",
    "    def __del__(self):\n",
    "        print(\"Obj destroyed\")\n",
    "    \n",
    "s1=Student(\"pritam\",\"sarkar\",60)\n",
    "s2=Student(\"eshani\",\"jas\",65)\n",
    "\n",
    "print(s1.fullname())\n",
    "print(Student.fullname(s2))\n",
    "del s1"
   ]
  },
  {
   "cell_type": "markdown",
   "metadata": {},
   "source": [
    "# Class variable and Class Methods"
   ]
  },
  {
   "cell_type": "code",
   "execution_count": 14,
   "metadata": {},
   "outputs": [
    {
     "name": "stdout",
     "output_type": "stream",
     "text": [
      "0\n",
      "1\n",
      "Obj destroyed\n",
      "2\n",
      "2 2 2\n",
      "{'__module__': '__main__', 'studentCount': 2, '__init__': <function Student.__init__ at 0x00000217D0F19C18>, 'fullname': <function Student.fullname at 0x00000217D0EF2048>, 'increment': <classmethod object at 0x00000217D0DBDB88>, 'totalStudent': <classmethod object at 0x00000217D0DBD988>, 'setCount': <classmethod object at 0x00000217D0DBD5C8>, '__dict__': <attribute '__dict__' of 'Student' objects>, '__weakref__': <attribute '__weakref__' of 'Student' objects>, '__doc__': None}\n",
      "{'first_name': 'pritam', 'last_name': 'sarkar', 'marks': 60}\n",
      "3 3 3\n",
      "5 5 5\n",
      "10 10 10\n"
     ]
    }
   ],
   "source": [
    "class Student:\n",
    "    studentCount=0\n",
    "    def __init__(self,first_name,last_name,marks):\n",
    "        self.first_name=first_name\n",
    "        self.last_name=last_name\n",
    "        self.marks=marks\n",
    "        Student.increment()\n",
    "    def fullname(self):\n",
    "        return self.first_name+\" \"+self.last_name\n",
    "    @classmethod\n",
    "    def increment(cls):\n",
    "        cls.studentCount+=1\n",
    "    @classmethod\n",
    "    def totalStudent(cls):\n",
    "        print(cls.studentCount)\n",
    "        \n",
    "    @classmethod\n",
    "    def setCount(cls,val):\n",
    "        cls.studentCount=val\n",
    "\n",
    "Student.totalStudent()\n",
    "s1=Student(\"pritam\",\"sarkar\",60)\n",
    "s1.totalStudent() #can also be calles using obj name\n",
    "s2=Student(\"eshani\",\"jas\",65)\n",
    "Student.totalStudent()\n",
    "print(Student.studentCount,s1.studentCount,s2.studentCount) #same for class variable\n",
    "\n",
    "print(Student.__dict__) ##studentcount in it\n",
    "print(s1.__dict__) ### no studentcount in it\n",
    "\n",
    "Student.studentCount=3\n",
    "print(Student.studentCount,s1.studentCount,s2.studentCount)\n",
    "\n",
    "###but if we use any instance to update the value, it creates a instance variable and\n",
    "##put the value inside it overwritting occurs\n",
    "\n",
    "\n",
    "# s1.studentCount=5 #-_-\n",
    "# print(Student.studentCount,s1.studentCount,s2.studentCount)\n",
    "# print(s1.__dict__) #now a studentcount instance variable inside it\n",
    "\n",
    "##sometimes self. is use instead of cls. to access class variable in side of instance method\n",
    "\n",
    "\n",
    "#solution------------------->\n",
    "\n",
    "Student.setCount(5) #<<--updating class var using class name\n",
    "print(Student.studentCount,s1.studentCount,s2.studentCount)\n",
    "\n",
    "s1.setCount(10) #<<--updating class var using instance name\n",
    "print(Student.studentCount,s1.studentCount,s2.studentCount)\n",
    "\n",
    "##so conclusion:- access and update class variable using class name,\n",
    "#other wise use a \"set class method\""
   ]
  },
  {
   "cell_type": "markdown",
   "metadata": {},
   "source": [
    "# alternet constructor using class method"
   ]
  },
  {
   "cell_type": "code",
   "execution_count": 15,
   "metadata": {},
   "outputs": [
    {
     "name": "stdout",
     "output_type": "stream",
     "text": [
      "pritam sarkar 60\n",
      "eshani jas 65\n",
      "Rishika Kundu 67\n"
     ]
    }
   ],
   "source": [
    "class Student:\n",
    "\n",
    "    def __init__(self,first_name,last_name,marks):\n",
    "        self.first_name=first_name\n",
    "        self.last_name=last_name\n",
    "        self.marks=marks\n",
    "    \n",
    "    def fullname(self):\n",
    "        return self.first_name+\" \"+self.last_name\n",
    "    \n",
    "    @classmethod\n",
    "    def from_other(cls,obj):\n",
    "        if type(obj)==str:\n",
    "            first_name,last_name,marks=obj.split(' ')\n",
    "        elif type(obj)==list or type(obj)==tuple:\n",
    "            first_name,last_name,marks=obj\n",
    "        marks=int(marks)\n",
    "        return cls(first_name,last_name,marks) #creating constructor & return mandatory as is assigning after init called\n",
    "    \n",
    "s1=Student(\"pritam\",\"sarkar\",60)\n",
    "s2=Student.from_other(\"eshani jas 65\")\n",
    "s3=Student.from_other([\"Rishika\",\"Kundu\",67])\n",
    "print(s1.fullname(),s1.marks)\n",
    "print(s2.fullname(),s2.marks)\n",
    "print(s3.fullname(),s3.marks)"
   ]
  },
  {
   "cell_type": "markdown",
   "metadata": {},
   "source": [
    "# Static method"
   ]
  },
  {
   "cell_type": "code",
   "execution_count": 16,
   "metadata": {},
   "outputs": [
    {
     "name": "stdout",
     "output_type": "stream",
     "text": [
      "11\n",
      "30\n",
      "0.8333333333333334\n",
      "5\n",
      "-1\n",
      "True\n"
     ]
    }
   ],
   "source": [
    "class MyMath:\n",
    "    @staticmethod\n",
    "    def add(a,b):\n",
    "        return a+b\n",
    "    @staticmethod\n",
    "    def mult(a,b):\n",
    "        return a*b\n",
    "    @staticmethod\n",
    "    def div(a,b):\n",
    "        return a/b\n",
    "    @staticmethod\n",
    "    def mod(a,b):\n",
    "        return a%b\n",
    "    @staticmethod\n",
    "    def sub(a,b):\n",
    "        return a-b\n",
    "    @staticmethod\n",
    "    def is_weekday(day):\n",
    "        if day.weekday()==5 or day.weekday()==6:\n",
    "            return True\n",
    "        else:\n",
    "            return False\n",
    "import datetime\n",
    "print(MyMath.add(5,6))\n",
    "print(MyMath.mult(5,6))\n",
    "print(MyMath.div(5,6))\n",
    "print(MyMath.mod(5,6))\n",
    "print(MyMath.sub(5,6))\n",
    "my_date=datetime.date(2020,6,6)\n",
    "print(MyMath.is_weekday(my_date))"
   ]
  },
  {
   "cell_type": "markdown",
   "metadata": {},
   "source": [
    "# constructor overloading"
   ]
  },
  {
   "cell_type": "code",
   "execution_count": 17,
   "metadata": {},
   "outputs": [
    {
     "name": "stdout",
     "output_type": "stream",
     "text": [
      "(4, 5, 6)\n",
      "(1, 20)\n",
      "99\n",
      "None\n"
     ]
    }
   ],
   "source": [
    "class ABC:\n",
    "    def __init__(self,a=None,b=None,c=None):\n",
    "        self.a=a\n",
    "        self.b=b\n",
    "        self.c=c\n",
    "\n",
    "            \n",
    "    def fullABC(self):\n",
    "        if self.a!=None and self.b!=None and self.c!=None:\n",
    "            return (self.a,self.b,self.c)\n",
    "        elif self.a!=None and self.b!=None:\n",
    "            return (self.a,self.b)\n",
    "        elif self.a!=None:\n",
    "            return self.a\n",
    "        else:\n",
    "            return None\n",
    "\n",
    "\n",
    "abc1=ABC(4,5,6)\n",
    "abc2=ABC(1,20)\n",
    "abc3=ABC(99)\n",
    "abc4=ABC()\n",
    "print(abc1.fullABC())\n",
    "print(abc2.fullABC())\n",
    "print(abc3.fullABC())\n",
    "print(abc4.fullABC())"
   ]
  },
  {
   "cell_type": "markdown",
   "metadata": {},
   "source": [
    "# Inharitance"
   ]
  },
  {
   "cell_type": "raw",
   "metadata": {},
   "source": [
    "class variable and method overloading"
   ]
  },
  {
   "cell_type": "code",
   "execution_count": 18,
   "metadata": {},
   "outputs": [
    {
     "name": "stdout",
     "output_type": "stream",
     "text": [
      "Pritam Rarkar has salary of Rs60000, email:Pritam.Rarkar@gmail.com, users Python\n",
      "Rahul Banerjee has salary of Rs60000, email:Rahul.Banerjee@gmail.com, users Java\n",
      "Prakash Purakait has salary of Rs60000, email:Prakash.Purakait@gmail.com, users C\n",
      "True True True\n",
      "Eshani Jas has salary of Rs80000, email:Eshani.Jas@gmail.com, have 2 employees\n",
      "Rishika Kundu has salary of Rs80100, email:Rishika.Kundu@gmail.com, have 1 employees\n",
      "Eshani Jas has salary of Rs80000, email:Eshani.Jas@gmail.com, have 2 employees\n",
      "Rishika Kundu has salary of Rs80100, email:Rishika.Kundu@gmail.com, have 2 employees\n",
      "Eshani Jas has salary of Rs88000, email:Eshani.Jas@gmail.com, have 2 employees\n",
      "Rishika Kundu has salary of Rs80100, email:Rishika.Kundu@gmail.com, have 2 employees\n",
      "True True False\n"
     ]
    }
   ],
   "source": [
    "#I use self. infront of class variable to use them for particular instances Example below\n",
    "class Employee:\n",
    "    raise_payment=1.02\n",
    "    def __init__(self,fname,lname,salary):\n",
    "        self.fname=fname\n",
    "        self.lname=lname\n",
    "        self.salary=salary\n",
    "        self.email=f'{self.fname}.{self.lname}@gmail.com'\n",
    "    def details(self):\n",
    "        print(f'{self.fname} {self.lname} has salary of Rs{self.salary}, email:{self.email}')\n",
    "    def raise_salary(self):\n",
    "        self.salary=int(self.salary*self.raise_payment)\n",
    "        \n",
    "class Developer(Employee):\n",
    "    raise_payment=1.05 #############  class variable overloading\n",
    "    def __init__(self,fname,lname,salary,prog_lang):\n",
    "        super().__init__(fname,lname,salary)\n",
    "        #OR\n",
    "        #Employee.__init__(self,fname,lname,salary) << best time of multiple inharitance\n",
    "        self.prog_lang=prog_lang\n",
    "    def details(self):\n",
    "        print(f'{self.fname} {self.lname} has salary of Rs{self.salary}, email:{self.email}, users {self.prog_lang}')\n",
    "    def raise_salary(self): ###############  method overloading\n",
    "        self.salary=int(self.salary*self.raise_payment)\n",
    "        \n",
    "class Manager(Employee):\n",
    "    raise_payment=1.10 #############  class variable overloading\n",
    "    def __init__(self,fname,lname,salary,employees=None):\n",
    "        Employee.__init__(self,fname,lname,salary)\n",
    "        self.employees=employees\n",
    "    def addEmployee(self,new_emp): #passing obj of one class to another obj's method \"ducktyping\" \n",
    "        if new_emp not in self.employees:\n",
    "            self.employees.append(new_emp)\n",
    "    def removeEmployee(self,emp):\n",
    "        if emp in self.employees:\n",
    "            self.employees.remove(emp)\n",
    "    def showEmployee(self):\n",
    "        print(self.employees)\n",
    "    def details(self):\n",
    "        print(f'{self.fname} {self.lname} has salary of Rs{self.salary}, email:{self.email}, have {len(self.employees)} employees')\n",
    "    def raise_salary(self): ###############  method overloading\n",
    "        self.salary=int(self.salary*self.raise_payment)\n",
    "  \n",
    "dev_1=Developer(\"Pritam\",\"Rarkar\",60000,\"Python\")\n",
    "dev_2=Developer(\"Rahul\",\"Banerjee\",60000,\"Java\")\n",
    "dev_3=Developer(\"Prakash\",\"Purakait\",60000,\"C\")\n",
    "\n",
    "dev_1.details()\n",
    "dev_2.details()\n",
    "dev_3.details()\n",
    "print(isinstance(dev_1,Developer),isinstance(dev_2,Developer),isinstance(dev_3,Developer))\n",
    "\n",
    "mn1=Manager(\"Eshani\",\"Jas\",80000,[dev_1,dev_2])\n",
    "mn2=Manager(\"Rishika\",\"Kundu\",80100,[dev_3])\n",
    "\n",
    "mn1.details()\n",
    "mn2.details()\n",
    "\n",
    "dev_4=Developer(\"Jyotirmay\",\"Das\",56000,'PHP')\n",
    "dev_5=Developer(\"Pratush\",\"Sarkar\",65000,\"Java\")\n",
    "\n",
    "mn1.removeEmployee(dev_2)\n",
    "mn1.addEmployee(dev_5)\n",
    "mn2.addEmployee(dev_4)\n",
    "\n",
    "mn1.details()\n",
    "mn2.details()\n",
    "\n",
    "mn1.raise_salary()\n",
    "\n",
    "mn1.details()\n",
    "mn2.details()\n",
    "\n",
    "print(issubclass(Manager,Employee),issubclass(Developer,Employee),issubclass(Developer,Manager))"
   ]
  },
  {
   "cell_type": "markdown",
   "metadata": {},
   "source": [
    "# Magic method and operator overloading \"__\"<- dunder"
   ]
  },
  {
   "cell_type": "raw",
   "metadata": {},
   "source": [
    "__repr__ <- un ambiguous representation, used for logging, debuging etc of obj\n",
    "can return other python objects like list, tuple dict etc\n",
    "and\n",
    "__str__ <-more readable representation of obj\n",
    "\n",
    "priority:\n",
    "    __repr__ < __str__ when both present __str__ got executed\n",
    "    \n",
    "if both methods are defined\n",
    "then \n",
    "repr(obj)---->obj.__repr__()\n",
    "str(obj)----->obj.__str__()"
   ]
  },
  {
   "cell_type": "code",
   "execution_count": 19,
   "metadata": {},
   "outputs": [
    {
     "name": "stdout",
     "output_type": "stream",
     "text": [
      "Obj deleted!\n",
      "Employee(\"Pritam\",\"Sarkar\",60000)\n"
     ]
    }
   ],
   "source": [
    "class Employee:\n",
    "    raise_payment=1.02\n",
    "    def __init__(self,fname,lname,salary):\n",
    "        self.fname=fname\n",
    "        self.lname=lname\n",
    "        self.salary=salary\n",
    "        self.email=f'{self.fname}.{self.lname}@gmail.com'\n",
    "    def details(self):\n",
    "        print(f'{self.fname} {self.lname} has salary of Rs{self.salary}, email:{self.email}')\n",
    "    def raise_salary(self):\n",
    "        self.salary=int(self.salary*self.raise_payment)\n",
    "#     def __repr__(self):\n",
    "#         return f'Employee(\"{self.fname}\",\"{self.lname}\",{self.salary})'\n",
    "#     def __str__(self):\n",
    "#         return f'Employee(\"{self.fname}\",\"{self.lname}\",{self.salary})'\n",
    "#OR\n",
    "    def giveOp(self):\n",
    "        return f'Employee(\"{self.fname}\",\"{self.lname}\",{self.salary})'\n",
    "#     __str__=giveOp\n",
    "    __repr__=giveOp\n",
    "        \n",
    "\n",
    "emp1=Employee(\"Pritam\",\"Sarkar\",60000)\n",
    "print(emp1)"
   ]
  },
  {
   "cell_type": "raw",
   "metadata": {},
   "source": [
    "object.__lt__(self, other)object.__le__(self, other)object.__eq__(self, other)object.__ne__(self, other)object.__gt__(self, other)object.__ge__(self, other)\n",
    "--------------------------------------------------------------------------------\n",
    "object.__add__(self, other)object.__sub__(self, other)object.__mul__(self, other)object.__matmul__(self, other)object.__truediv__(self, other)object.__floordiv__(self, other)object.__mod__(self, other)object.__divmod__(self, other)object.__pow__(self, other[, modulo])object.__lshift__(self, other)object.__rshift__(self, other)object.__and__(self, other)object.__xor__(self, other)object.__or__(self, other)\n",
    "--------------------------------------------------------------------------------\n",
    "object.__iadd__(self, other)object.__isub__(self, other)object.__imul__(self, other)object.__imatmul__(self, other)object.__itruediv__(self, other)object.__ifloordiv__(self, other)object.__imod__(self, other)object.__ipow__(self, other[, modulo])object.__ilshift__(self, other)object.__irshift__(self, other)object.__iand__(self, other)object.__ixor__(self, other)object.__ior__(self, other)\n",
    "These methods are called to implement the augmented arithmetic assignments (+=, -=, *=, @=, /=, //=, %=, **=, <<=, >>=, &=, ^=, |=). \n",
    "\n",
    "---------------------------------------------------------------------------------\n",
    "more and more and more................ see python manual"
   ]
  },
  {
   "cell_type": "code",
   "execution_count": 24,
   "metadata": {},
   "outputs": [
    {
     "name": "stdout",
     "output_type": "stream",
     "text": [
      "Obj deleted!\n",
      "Obj deleted!\n",
      "Obj deleted!\n",
      "Pritam obj called\n",
      "None\n",
      "Eshani obj called\n",
      "None\n",
      "True\n",
      "True\n",
      "False\n",
      "False\n",
      "True\n",
      "False\n",
      "Obj deleted!\n",
      "Employee(\"Anon\",\"Anon\",125000)\n",
      "9\n",
      "<class '__main__.Employee'>\n",
      "Pritam Sarkar\n",
      "Eshani Jas\n",
      "Rahul Banerjee\n",
      "name deleted!\n",
      "None None\n",
      "Eshani Jas\n",
      "Rahul Banerjee\n"
     ]
    }
   ],
   "source": [
    "class Employee:\n",
    "    def __init__(self,fname=None,lname=None,salary=None):\n",
    "        self.fname=fname\n",
    "        self.lname=lname\n",
    "        self.salary=salary\n",
    "        self.email=f'{self.fname}.{self.lname}@gmail.com'\n",
    "    def __lt__(self,obj):\n",
    "        return self.salary<obj.salary\n",
    "    def __le__(self,obj):\n",
    "        return self.salary<=obj.salary\n",
    "    def __gt__(self,obj):\n",
    "        return self.salary>obj.salary\n",
    "    def __ge__(self,obj):\n",
    "        return self.salary>=obj.salary\n",
    "    def __eq__(self,obj):\n",
    "        return self.salary==obj.salary\n",
    "    def __ne__(self,obj):\n",
    "        return self.salary!=obj.salary\n",
    "    def __add__(self,obj):\n",
    "        if isinstance(obj,Employee):\n",
    "            return Employee(\"Anon\",\"Anon\",self.salary+obj.salary)\n",
    "        else:\n",
    "            NotImplemented\n",
    "    def __len__(self):\n",
    "        return len(self.fname+self.lname)\n",
    "    def giveOp(self):\n",
    "        return f'Employee(\"{self.fname}\",\"{self.lname}\",{self.salary})'\n",
    "    __str__=giveOp\n",
    "    \n",
    "    @property   #getter\n",
    "    def fullname(self):\n",
    "        return f'{self.fname} {self.lname}'\n",
    "    @fullname.setter\n",
    "    def fullname(self,name):\n",
    "        self.fname,self.lname=name.split(' ')\n",
    "        \n",
    "    @fullname.deleter\n",
    "    def fullname(self):\n",
    "        self.fname=None\n",
    "        self.lname=None\n",
    "        print(\"name deleted!\")\n",
    "        \n",
    "    def __del__(self):\n",
    "        print(\"Obj deleted!\")\n",
    "    def __call__(self): #called when ever called like obj_name()\n",
    "        print(f'{self.fname} obj called')\n",
    "        \n",
    "emp1=Employee(\"Pritam\",\"Sarkar\",60000)\n",
    "emp2=Employee(\"Eshani\",\"Jas\",65000)\n",
    "emp3=Employee(\"Rahul\",\"Banerjee\",60000)\n",
    "\n",
    "print(emp1())\n",
    "print(emp2())\n",
    "print(emp1<emp2)\n",
    "print(emp1<=emp2)\n",
    "print(emp1>emp2)\n",
    "print(emp1>=emp2)\n",
    "print(emp1==emp3)\n",
    "print(emp1==emp2)\n",
    "empN=emp1+emp2\n",
    "print(empN)\n",
    "print(len(emp2))\n",
    "print(type(emp2))\n",
    "\n",
    "print(emp1.fullname)\n",
    "print(emp2.fullname)\n",
    "print(emp3.fullname)\n",
    "\n",
    "emp1.fullname=\"Vanu Sarkar\"\n",
    "del emp1.fullname\n",
    "print(emp1.fullname)\n",
    "print(emp2.fullname)\n",
    "print(emp3.fullname)"
   ]
  },
  {
   "cell_type": "markdown",
   "metadata": {},
   "source": [
    "# Interface and abstract class"
   ]
  },
  {
   "cell_type": "raw",
   "metadata": {},
   "source": [
    "abstract<- atleast one abstract method\n",
    "interface<- all abstract methods"
   ]
  },
  {
   "cell_type": "code",
   "execution_count": 21,
   "metadata": {},
   "outputs": [
    {
     "name": "stdout",
     "output_type": "stream",
     "text": [
      "methOne defined in classB\n",
      "methTwo defined in classC\n",
      "methThree defined in classD\n",
      "methFour defined in classD\n"
     ]
    }
   ],
   "source": [
    "from abc import ABC,abstractmethod\n",
    "class classA: #interface, objects can not be created\n",
    "    @abstractmethod\n",
    "    def methOne(self):\n",
    "        pass\n",
    "    @abstractmethod\n",
    "    def methTwo(self):\n",
    "        pass\n",
    "    @abstractmethod\n",
    "    def methThree(self):\n",
    "        pass\n",
    "    @abstractmethod\n",
    "    def methFour(self):\n",
    "        pass\n",
    "    \n",
    "class classB(classA): #abstract class, objects can not be created\n",
    "    def methOne(self):\n",
    "        print(\"methOne defined in classB\")\n",
    "        \n",
    "class classC(classA): #abstract class, objects can not be created\n",
    "    def methTwo(self):\n",
    "        print(\"methTwo defined in classC\")\n",
    "        \n",
    "class classD(classB,classC): #now all methods are defined, objects can be created\n",
    "    def methThree(self):\n",
    "        print(\"methThree defined in classD\")\n",
    "    def methFour(self):\n",
    "        print(\"methFour defined in classD\")\n",
    "        \n",
    "objD=classD()\n",
    "objD.methOne()\n",
    "objD.methTwo()\n",
    "objD.methThree()\n",
    "objD.methFour()\n",
    "    "
   ]
  },
  {
   "cell_type": "code",
   "execution_count": null,
   "metadata": {},
   "outputs": [],
   "source": []
  }
 ],
 "metadata": {
  "kernelspec": {
   "display_name": "Python 3",
   "language": "python",
   "name": "python3"
  },
  "language_info": {
   "codemirror_mode": {
    "name": "ipython",
    "version": 3
   },
   "file_extension": ".py",
   "mimetype": "text/x-python",
   "name": "python",
   "nbconvert_exporter": "python",
   "pygments_lexer": "ipython3",
   "version": "3.7.6"
  }
 },
 "nbformat": 4,
 "nbformat_minor": 4
}
