{
 "cells": [
  {
   "cell_type": "raw",
   "metadata": {},
   "source": [
    "source: https://www.youtube.com/watch?v=qiSCMNBIP2g"
   ]
  },
  {
   "cell_type": "raw",
   "metadata": {},
   "source": [
    "Attributes:- what obj khows/variables\n",
    "Methods:- what obj can do/functions"
   ]
  },
  {
   "cell_type": "raw",
   "metadata": {},
   "source": [
    "OOP:- E A I P\n",
    "    E:- encapsulation\n",
    "    A:- abstraction\n",
    "    I:- inharitance\n",
    "    P:- polymorphism"
   ]
  },
  {
   "cell_type": "raw",
   "metadata": {},
   "source": [
    "class:- a blueprint/ a catagory/ a user defined datatype with certain prop\n"
   ]
  },
  {
   "cell_type": "raw",
   "metadata": {},
   "source": [
    "all premetive types are also class in python"
   ]
  },
  {
   "cell_type": "code",
   "execution_count": 1,
   "metadata": {},
   "outputs": [
    {
     "name": "stdout",
     "output_type": "stream",
     "text": [
      "<class 'int'>\n"
     ]
    }
   ],
   "source": [
    "x=9\n",
    "print(type(x))"
   ]
  },
  {
   "cell_type": "code",
   "execution_count": 6,
   "metadata": {},
   "outputs": [
    {
     "name": "stdout",
     "output_type": "stream",
     "text": [
      "jsadj09weeeqe2--5\n",
      "jsadj09weeeqe2--6\n",
      "jsadj09weeeqe2--5\n",
      "jsadj09weeeqe2--6\n"
     ]
    }
   ],
   "source": [
    "class Computer:\n",
    "    #__init__ will be called automatically\n",
    "    def __init__(self,x): #self:- is the obj what we are passing\n",
    "        self.x=x\n",
    "    def config(self):\n",
    "        print(f\"jsadj09weeeqe2--{self.x}\")\n",
    "\n",
    "comp1=Computer(5)\n",
    "comp2=Computer(6)\n",
    "\n",
    "#<-------We use ---------->\n",
    "comp1.config()\n",
    "comp2.config()\n",
    "#OR\n",
    "#<-------Internaly-------->\n",
    "Computer.config(comp1)\n",
    "Computer.config(comp2)"
   ]
  },
  {
   "cell_type": "raw",
   "metadata": {},
   "source": [
    "all objects in python is created in heap section, \n",
    "we get the reference to access them"
   ]
  },
  {
   "cell_type": "code",
   "execution_count": 8,
   "metadata": {},
   "outputs": [
    {
     "name": "stdout",
     "output_type": "stream",
     "text": [
      "1261942081480 1261942081416\n"
     ]
    }
   ],
   "source": [
    "#id(Object) returns the address of the Obj in heap\n",
    "print(id(comp1),id(comp2)) "
   ]
  },
  {
   "cell_type": "raw",
   "metadata": {},
   "source": [
    "size of an obj depends on:-\n",
    "    no of variables/aattributes\n",
    "\n",
    "who allocates the memory for the obj?\n",
    "    the constructor [Computer(..)] does this\n",
    "    when we do:- comp1=Computer(5) \n",
    "    it calls the __init__ method \n",
    "    "
   ]
  },
  {
   "cell_type": "code",
   "execution_count": 11,
   "metadata": {},
   "outputs": [
    {
     "name": "stdout",
     "output_type": "stream",
     "text": [
      "True\n"
     ]
    }
   ],
   "source": [
    "class Person:\n",
    "    def __init__(self,name,age):\n",
    "        self.name=name\n",
    "        self.age=age\n",
    "    def __eq__(self,other):\n",
    "        if self.age==other.age:\n",
    "            return True\n",
    "        else:\n",
    "            return False\n",
    "#<-------Constructor--------->\n",
    "p1=Person(\"Pritam\",25)\n",
    "p2=Person(\"Eshani\",25)\n",
    "print(p1==p2)"
   ]
  },
  {
   "cell_type": "raw",
   "metadata": {},
   "source": [
    "Variable:-1. instance variable\n",
    "        2. class variable\n",
    "Methods:-\n",
    "    1. instance method 1. accessor(access value of instance variable)\n",
    "                        2. mutators(modify value instance variable)\n",
    "    2. class Method\n",
    "    3. static method\n",
    "## check in Cordy Chef ipy notebook\n",
    "\n",
    "class Namespace\n",
    "instance Namespace\n",
    "\n",
    "to access instace variable\n",
    "    self.var....\n",
    "to access class variable\n",
    "    ClassName.var...\n",
    "    OR\n",
    "    cls.var...   <- in class method"
   ]
  },
  {
   "cell_type": "markdown",
   "metadata": {},
   "source": [
    "# Nested class"
   ]
  },
  {
   "cell_type": "raw",
   "metadata": {},
   "source": [
    "https://www.datacamp.com/community/tutorials/inner-classes-python\n",
    "Vehicle:\n",
    "    Car:\n",
    "        Engine:\n",
    "            Carburator:\n",
    "            Accelerator:\n",
    "        Body:\n",
    "            Door:\n",
    "            Window:\n",
    "            Seats\n",
    "\n",
    "when the inner class will be used only in the the outer class , in the entire program\n",
    "\n",
    "inner class is non shared between 2 classes\n",
    "\n",
    "only outer class holds and use it"
   ]
  },
  {
   "cell_type": "code",
   "execution_count": 23,
   "metadata": {},
   "outputs": [
    {
     "name": "stdout",
     "output_type": "stream",
     "text": [
      "Carburator Created\n",
      "Accelerator created\n",
      "Engine created\n",
      "Door created\n",
      "Window created\n",
      "Seats created\n",
      "Body created\n",
      "Car created\n",
      "Vehicle created\n",
      "_----------_\n",
      "Nice vehicle it is car\n",
      "Nice car has engine and body\n",
      "Nice engine has carburator and accelerator\n",
      "Nice Carburator\n",
      "Nice accelerator\n",
      "Nice body has door window seats\n",
      "Nice door\n",
      "Nice window\n",
      "Nice seats\n",
      "_----------_\n",
      "Carburator Created\n",
      "Accelerator created\n",
      "Engine created\n",
      "Door created\n",
      "Window created\n",
      "Seats created\n",
      "Body created\n",
      "Car created\n",
      "_----------_\n",
      "Carburator Created\n",
      "Accelerator created\n",
      "Engine created\n",
      "Door created\n",
      "Window created\n",
      "Seats created\n",
      "Body created\n",
      "Car created\n"
     ]
    }
   ],
   "source": [
    "class Vehicle:\n",
    "    class Car:\n",
    "        class Engine:\n",
    "            class Carburator:\n",
    "                def __init__(self):\n",
    "                    print(\"Carburator Created\")\n",
    "                def carbu_about(self):\n",
    "                    print(\"Nice Carburator\")\n",
    "            class Accelerator:\n",
    "                def __init__(self):\n",
    "                    print(\"Accelerator created\")\n",
    "                def acc_about(self):\n",
    "                    print(\"Nice accelerator\")\n",
    "            def __init__(self):\n",
    "                self.carburator=self.Carburator()\n",
    "                self.accelerator=self.Accelerator()\n",
    "                print(\"Engine created\")\n",
    "            def eng_about(self):\n",
    "                print(\"Nice engine has carburator and accelerator\")\n",
    "                self.carburator.carbu_about()\n",
    "                self.accelerator.acc_about()\n",
    "        class Body:\n",
    "            class Door:\n",
    "                def __init__(self):\n",
    "                    print(\"Door created\")\n",
    "                def door_about(self):\n",
    "                    print(\"Nice door\")\n",
    "            class Window:\n",
    "                def __init__(self):\n",
    "                    print(\"Window created\")\n",
    "                def window_about(self):\n",
    "                    print(\"Nice window\")\n",
    "            class Seats:\n",
    "                def __init__(self):\n",
    "                    print(\"Seats created\")\n",
    "                def seats_about(self):\n",
    "                    print(\"Nice seats\")\n",
    "            def __init__(self):\n",
    "                self.door=self.Door()\n",
    "                self.window=self.Window()\n",
    "                self.seats=self.Seats()\n",
    "                print(\"Body created\")\n",
    "            def body_about(self):\n",
    "                print(\"Nice body has door window seats\")\n",
    "                self.door.door_about()\n",
    "                self.window.window_about()\n",
    "                self.seats.seats_about()\n",
    "        def __init__(self):\n",
    "            self.engine=self.Engine()\n",
    "            self.body=self.Body()\n",
    "            print(\"Car created\")\n",
    "        def car_about(self):\n",
    "            print(\"Nice car has engine and body\")\n",
    "            self.engine.eng_about()\n",
    "            self.body.body_about()\n",
    "    def __init__(self):\n",
    "        self.car=self.Car()\n",
    "        print(\"Vehicle created\")\n",
    "    def vehicle_about(self):\n",
    "        print(\"Nice vehicle it is car\")\n",
    "        self.car.car_about()\n",
    "\n",
    "v1=Vehicle()\n",
    "print(\"_----------_\")\n",
    "v1.vehicle_about()\n",
    "#1st way,for creating inner class Obj\n",
    "print(\"_----------_\")\n",
    "c1=v1.Car()\n",
    "#2nd way,for creating inner class Obj\n",
    "print(\"_----------_\")\n",
    "\n",
    "c2=Vehicle.Car()"
   ]
  },
  {
   "cell_type": "markdown",
   "metadata": {},
   "source": [
    "# Inharitanc and MRO "
   ]
  },
  {
   "cell_type": "code",
   "execution_count": 27,
   "metadata": {},
   "outputs": [
    {
     "name": "stdout",
     "output_type": "stream",
     "text": [
      "obj B created\n",
      "obj D created\n",
      "basic method of D called\n",
      "basic method of B called\n"
     ]
    }
   ],
   "source": [
    "#MRO\n",
    "#super().method()<-method of leftmost parent class\n",
    "class A:\n",
    "    def __init__(self):\n",
    "        print(\"obj A created\")\n",
    "    def basicMethod(self):\n",
    "        print(\"basic method of A called\")\n",
    "        \n",
    "class B(A):\n",
    "    def __init__(self):\n",
    "        print(\"obj B created\")\n",
    "    def basicMethod(self):\n",
    "        print(\"basic method of B called\")\n",
    "class C(A):\n",
    "    def __init__(self):\n",
    "        print(\"obj C created\")\n",
    "    def basicMethod(self):\n",
    "        print(\"basic method of C called\")\n",
    "class D(B,C): \n",
    "    def __init__(self):\n",
    "        super().__init__()#works from left to right base class #choose left most base class\n",
    "        print(\"obj D created\")\n",
    "    def basicMethod(self):\n",
    "        print(\"basic method of D called\")\n",
    "        super().basicMethod()#works from left to right base class #choose left most base class\n",
    "    \n",
    "    \n",
    "        \n",
    "objD=D()\n",
    "objD.basicMethod()"
   ]
  },
  {
   "cell_type": "code",
   "execution_count": 29,
   "metadata": {},
   "outputs": [
    {
     "name": "stdout",
     "output_type": "stream",
     "text": [
      "obj A created\n",
      "obj B created\n",
      "obj A created\n",
      "obj C created\n",
      "obj D created\n",
      "basic method of D called\n",
      "basic method of B called\n",
      "basic method of A called\n",
      "basic method of C called\n",
      "basic method of A called\n"
     ]
    }
   ],
   "source": [
    "#To avoid MRO\n",
    "#ClassName.method(self)\n",
    "class A:\n",
    "    def __init__(self):\n",
    "        print(\"obj A created\")\n",
    "    def basicMethod(self):\n",
    "        print(\"basic method of A called\")\n",
    "        \n",
    "class B(A):\n",
    "    def __init__(self):\n",
    "        A.__init__(self)\n",
    "        print(\"obj B created\")\n",
    "    def basicMethod(self):\n",
    "        print(\"basic method of B called\")\n",
    "        A.basicMethod(self)\n",
    "        \n",
    "class C(A):\n",
    "    def __init__(self):\n",
    "        A.__init__(self)\n",
    "        print(\"obj C created\")\n",
    "    def basicMethod(self):\n",
    "        print(\"basic method of C called\")\n",
    "        A.basicMethod(self)\n",
    "class D(B,C): \n",
    "    def __init__(self):\n",
    "        B.__init__(self)\n",
    "        C.__init__(self)\n",
    "        print(\"obj D created\")\n",
    "    def basicMethod(self):\n",
    "        print(\"basic method of D called\")\n",
    "        B.basicMethod(self)\n",
    "        C.basicMethod(self)\n",
    "    \n",
    "    \n",
    "        \n",
    "objD=D()\n",
    "objD.basicMethod()"
   ]
  },
  {
   "cell_type": "raw",
   "metadata": {},
   "source": [
    "Poly(many) Morph(forms) ism\n",
    "Types:-\n",
    "    Duck Typing\n",
    "    Operator Overloading\n",
    "    Method Overloading\n",
    "    Method Overriding"
   ]
  },
  {
   "cell_type": "markdown",
   "metadata": {},
   "source": [
    "# Ducktyping"
   ]
  },
  {
   "cell_type": "code",
   "execution_count": 33,
   "metadata": {},
   "outputs": [
    {
     "name": "stdout",
     "output_type": "stream",
     "text": [
      "Heavy weighted but lots of features\n",
      "Light weighted add tools\n"
     ]
    }
   ],
   "source": [
    "class PyCharm:\n",
    "    def execute(self):\n",
    "        print(\"Heavy weighted but lots of features\")\n",
    "class Atom:\n",
    "    def execute(self):\n",
    "        print(\"Light weighted add tools\")\n",
    "\n",
    "class Laptop:\n",
    "    #does not matter which IDE obj passed\n",
    "    #the IDE obj must have the execute method\n",
    "    #this is ducktypeing \n",
    "    #in c++,java datatype mentioned before the parameter IDE\n",
    "    #here the type is dynamic in nature\n",
    "    #consept nearly like templeting in c++\n",
    "    def code(self,IDE):\n",
    "        IDE.execute()\n",
    "\n",
    "lap=Laptop()\n",
    "\n",
    "ide1=PyCharm()\n",
    "ide2=Atom()\n",
    "\n",
    "lap.code(ide1)\n",
    "lap.code(ide2)"
   ]
  },
  {
   "cell_type": "markdown",
   "metadata": {},
   "source": [
    "# Operator Overloading"
   ]
  },
  {
   "cell_type": "code",
   "execution_count": 38,
   "metadata": {},
   "outputs": [
    {
     "name": "stdout",
     "output_type": "stream",
     "text": [
      "True\n",
      "5+i6 5+i6 7+i8\n",
      "12+i14\n"
     ]
    }
   ],
   "source": [
    "#magic methods\n",
    "class Complex:\n",
    "    def __init__(self,r,i):\n",
    "        self.r=r;self.i=i\n",
    "    def __eq__(self,other): #Overloading ==\n",
    "        if self.r==other.r and self.i==other.i:\n",
    "            return True\n",
    "        else:\n",
    "            return False\n",
    "    def __str__(self): #Overloading print\n",
    "        return f\"{self.r}+i{self.i}\"\n",
    "    def __add__(self,other):# overloading +\n",
    "        return Complex((self.r+other.r),(self.i+other.i))\n",
    "    \n",
    "c1=Complex(5,6)\n",
    "c2=Complex(5,6)\n",
    "c3=Complex(7,8)\n",
    "print(c1==c2)\n",
    "print(c1,c2,c3)\n",
    "c4=c3+c1\n",
    "print(c4)"
   ]
  },
  {
   "cell_type": "markdown",
   "metadata": {},
   "source": [
    "# Method overloading & Overriding"
   ]
  },
  {
   "cell_type": "raw",
   "metadata": {},
   "source": [
    "method overloading?\n",
    "    1.if there are methods in a class / outside of class which are\n",
    "    of same name but of diff signature(parameters & functioality).\n",
    "    method will be called based on passed argument\n",
    "    2. directly not allowed in python\n",
    "\n",
    "C++ code for method overloading'''\n",
    "#include <iostream>\n",
    "using namespace std;\n",
    "int func(int a,int b){   A\n",
    "    return a+b;\n",
    "}\n",
    "int func(int a){        B\n",
    "    return a*a;\n",
    "}\n",
    "int main() {\n",
    "    cout<<func(5)<<endl; //------> B\n",
    "    cout<<func(5,6)<<endl;//------> A\n",
    "    return 0;\n",
    "}\n",
    "'''"
   ]
  },
  {
   "cell_type": "code",
   "execution_count": 41,
   "metadata": {},
   "outputs": [
    {
     "name": "stdout",
     "output_type": "stream",
     "text": [
      "A created\n",
      "26\n",
      "12\n",
      "7\n",
      "3\n",
      "0\n"
     ]
    }
   ],
   "source": [
    "#indirectly achiving method overloading\n",
    "class A:\n",
    "    def __init__(self):\n",
    "        print(\"A created\")\n",
    "    #way one of meth overloading\n",
    "    def _sum_one(self,*args):\n",
    "        r=0\n",
    "        for i in args:\n",
    "            r+=i\n",
    "        return r\n",
    "    #way two of meth overloading\n",
    "    def _sum_two(self,a=None,b=None,c=None):\n",
    "        if a and b and c:\n",
    "            return a+b+c\n",
    "        elif a and b:\n",
    "            return a+b\n",
    "        elif a:\n",
    "            return a\n",
    "        else:\n",
    "            return 0\n",
    "a=A()\n",
    "print(a._sum_one(5,6,7,8))\n",
    "print(a._sum_two(3,4,5))\n",
    "print(a._sum_two(3,4))\n",
    "print(a._sum_two(3))\n",
    "print(a._sum_two())"
   ]
  },
  {
   "cell_type": "code",
   "execution_count": 45,
   "metadata": {},
   "outputs": [
    {
     "name": "stdout",
     "output_type": "stream",
     "text": [
      "Fuck u B\n",
      "Fuck u A\n"
     ]
    }
   ],
   "source": [
    "#method overridding\n",
    "# :- if method not present in derived class(whose obj created) \n",
    "# then only go for next base class method\n",
    "# continue it untill it gets the method\n",
    "# :- other wise get that method of base class\n",
    "class A:\n",
    "    def fuckU(self):\n",
    "        print(\"Fuck u A\")\n",
    "class B(A):\n",
    "    def fuckU(self):\n",
    "        print(\"Fuck u B\")\n",
    "\n",
    "b=B()\n",
    "b.fuckU()\n",
    "\n",
    "a=A()\n",
    "a.fuckU()"
   ]
  },
  {
   "cell_type": "code",
   "execution_count": null,
   "metadata": {},
   "outputs": [],
   "source": []
  }
 ],
 "metadata": {
  "kernelspec": {
   "display_name": "Python 3",
   "language": "python",
   "name": "python3"
  },
  "language_info": {
   "codemirror_mode": {
    "name": "ipython",
    "version": 3
   },
   "file_extension": ".py",
   "mimetype": "text/x-python",
   "name": "python",
   "nbconvert_exporter": "python",
   "pygments_lexer": "ipython3",
   "version": "3.7.6"
  }
 },
 "nbformat": 4,
 "nbformat_minor": 4
}
