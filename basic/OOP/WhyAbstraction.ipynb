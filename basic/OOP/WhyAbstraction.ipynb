{
 "cells": [
  {
   "cell_type": "code",
   "execution_count": 1,
   "metadata": {},
   "outputs": [],
   "source": [
    "from abc import ABC,abstractmethod"
   ]
  },
  {
   "cell_type": "code",
   "execution_count": 2,
   "metadata": {},
   "outputs": [],
   "source": [
    "#it ensures that its subclasses must implements walks() and eats()\n",
    "class Animal(ABC):\n",
    "    @abstractmethod\n",
    "    def walks(self):\n",
    "        pass\n",
    "    @abstractmethod\n",
    "    def eats(self):\n",
    "        pass\n"
   ]
  },
  {
   "cell_type": "code",
   "execution_count": 3,
   "metadata": {},
   "outputs": [],
   "source": [
    "class Dog(Animal):\n",
    "    def __init__(self):\n",
    "        pass\n",
    "    def walks(self):\n",
    "        print(\"Dog walks\")\n",
    "    def eats(self):\n",
    "        print(\"Dog eats\")\n",
    "\n",
    "class Cat(Animal):\n",
    "    def __init__(self):\n",
    "        pass\n",
    "    def walks(self):\n",
    "        print(\"Cat walks\")\n",
    "    def eats(self):\n",
    "        print(\"Cat eats\")"
   ]
  },
  {
   "cell_type": "code",
   "execution_count": 4,
   "metadata": {},
   "outputs": [],
   "source": [
    "class MainClass:\n",
    "    def __init__(self):\n",
    "        pass\n",
    "    def duckTyping(self,obj): #obj must have walks() and eats() that ensured by AbstractClass\n",
    "        obj.walks()\n",
    "        obj.eats()\n"
   ]
  },
  {
   "cell_type": "code",
   "execution_count": 5,
   "metadata": {},
   "outputs": [
    {
     "name": "stdout",
     "output_type": "stream",
     "text": [
      "Dog walks\n",
      "Dog eats\n",
      "Cat walks\n",
      "Cat eats\n"
     ]
    }
   ],
   "source": [
    "if __name__==\"__main__\":\n",
    "    d=Dog();c=Cat()\n",
    "    mc=MainClass()\n",
    "    mc.duckTyping(d)\n",
    "    mc.duckTyping(c)"
   ]
  },
  {
   "cell_type": "code",
   "execution_count": null,
   "metadata": {},
   "outputs": [],
   "source": []
  }
 ],
 "metadata": {
  "kernelspec": {
   "display_name": "Python 3",
   "language": "python",
   "name": "python3"
  },
  "language_info": {
   "codemirror_mode": {
    "name": "ipython",
    "version": 3
   },
   "file_extension": ".py",
   "mimetype": "text/x-python",
   "name": "python",
   "nbconvert_exporter": "python",
   "pygments_lexer": "ipython3",
   "version": "3.7.6"
  }
 },
 "nbformat": 4,
 "nbformat_minor": 4
}
