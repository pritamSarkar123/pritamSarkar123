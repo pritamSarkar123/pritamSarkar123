{
 "cells": [
  {
   "cell_type": "raw",
   "metadata": {},
   "source": [
    "youtube.com/watch?v=jTYiNjvnHZY&t=8s\n",
    "cordy sheffer"
   ]
  },
  {
   "cell_type": "raw",
   "metadata": {},
   "source": [
    "iterable:- the obj wnich can be looped over\n",
    "    an iterable obj must contain '__iter__' method , dir(object name)\n",
    "    it dont have '__next__' method\n",
    "    __iter__ method returns the iterator for that iterable"
   ]
  },
  {
   "cell_type": "code",
   "execution_count": 43,
   "metadata": {},
   "outputs": [
    {
     "name": "stdout",
     "output_type": "stream",
     "text": [
      "True\n",
      "False\n"
     ]
    }
   ],
   "source": [
    "nums=[1,2,3,4]\n",
    "print('__iter__' in dir(nums))\n",
    "print('__next__' in dir(nums))"
   ]
  },
  {
   "cell_type": "raw",
   "metadata": {},
   "source": [
    "iterator:- the object which can remember its state,during iterations\n",
    "    it has both __iter__ and __next__ method\n",
    "    here __iter__ method returns that iterators reference\n",
    "    and __next__ method return the next value fetched by the iterator"
   ]
  },
  {
   "cell_type": "code",
   "execution_count": 44,
   "metadata": {},
   "outputs": [
    {
     "name": "stdout",
     "output_type": "stream",
     "text": [
      "True\n",
      "True\n"
     ]
    }
   ],
   "source": [
    "#i_nums=nums.__iter__()\n",
    "#OR\n",
    "i_nums=iter(nums)\n",
    "print('__iter__' in dir(i_nums))\n",
    "print('__next__' in dir(i_nums))"
   ]
  },
  {
   "cell_type": "code",
   "execution_count": 45,
   "metadata": {},
   "outputs": [
    {
     "name": "stdout",
     "output_type": "stream",
     "text": [
      "1\n",
      "2\n",
      "3\n",
      "4\n"
     ]
    }
   ],
   "source": [
    "#here num is an iterator\n",
    "#and for loop can handle StopIteration exception internaly\n",
    "for num in nums:\n",
    "    print(num)"
   ]
  },
  {
   "cell_type": "code",
   "execution_count": 46,
   "metadata": {},
   "outputs": [
    {
     "name": "stdout",
     "output_type": "stream",
     "text": [
      "1\n",
      "2\n",
      "3\n",
      "4\n"
     ]
    }
   ],
   "source": [
    "#what is happning inside for loop\n",
    "i_num=iter(nums)\n",
    "\n",
    "while True:\n",
    "    try:\n",
    "        item=next(i_num)\n",
    "        print(item)\n",
    "    except StopIteration:\n",
    "        break"
   ]
  },
  {
   "cell_type": "raw",
   "metadata": {},
   "source": [
    "# iterators can go only in forward direction\n",
    "to start from scratch\n",
    "we need to re initialize it with iter(iterable object)"
   ]
  },
  {
   "cell_type": "markdown",
   "metadata": {},
   "source": [
    "# creating own iterable class"
   ]
  },
  {
   "cell_type": "code",
   "execution_count": 47,
   "metadata": {},
   "outputs": [],
   "source": [
    "class MyRange:\n",
    "    def __init__(self,*args):\n",
    "        if len(args)>0 and any(not isinstance(x,int) for x in args):\n",
    "            raise ValueError\n",
    "        self.reverse=False\n",
    "        if len(args)==1:\n",
    "            self.start,self.end,self.step=0,args[0],1\n",
    "        elif len(args)==2:\n",
    "            self.start,self.end,self.step=args[0],args[-1],1\n",
    "        elif len(args)==3:\n",
    "            self.start,self.end,self.step=args[0],args[1],args[2]\n",
    "            if args[2]<0:\n",
    "                self.reverse=True\n",
    "        else:\n",
    "            raise ValueError\n",
    "    def __iter__(self):\n",
    "        return self\n",
    "    def __next__(self):\n",
    "        if self.reverse==False:\n",
    "            if self.start>=self.end:\n",
    "                raise StopIteration\n",
    "        else:\n",
    "            if self.start<=self.end:\n",
    "                raise StopIteration\n",
    "        current=self.start\n",
    "        self.start+=self.step\n",
    "        return current\n",
    "            \n",
    "            "
   ]
  },
  {
   "cell_type": "code",
   "execution_count": 48,
   "metadata": {},
   "outputs": [
    {
     "name": "stdout",
     "output_type": "stream",
     "text": [
      "0 1 2 3 4 5 6 7 8 9 "
     ]
    }
   ],
   "source": [
    "for i in MyRange(10):\n",
    "    print(i,end=\" \")"
   ]
  },
  {
   "cell_type": "code",
   "execution_count": 49,
   "metadata": {},
   "outputs": [
    {
     "name": "stdout",
     "output_type": "stream",
     "text": [
      "10 9 8 7 6 5 4 3 2 "
     ]
    }
   ],
   "source": [
    "it=iter(MyRange(10,1,-1))\n",
    "\n",
    "while True:\n",
    "    try:\n",
    "        val=next(it)\n",
    "        print(val,end=\" \")\n",
    "    except StopIteration:\n",
    "        break"
   ]
  },
  {
   "cell_type": "code",
   "execution_count": null,
   "metadata": {},
   "outputs": [],
   "source": []
  },
  {
   "cell_type": "code",
   "execution_count": null,
   "metadata": {},
   "outputs": [],
   "source": []
  },
  {
   "cell_type": "code",
   "execution_count": null,
   "metadata": {},
   "outputs": [],
   "source": []
  }
 ],
 "metadata": {
  "kernelspec": {
   "display_name": "Python 3",
   "language": "python",
   "name": "python3"
  },
  "language_info": {
   "codemirror_mode": {
    "name": "ipython",
    "version": 3
   },
   "file_extension": ".py",
   "mimetype": "text/x-python",
   "name": "python",
   "nbconvert_exporter": "python",
   "pygments_lexer": "ipython3",
   "version": "3.7.6"
  }
 },
 "nbformat": 4,
 "nbformat_minor": 4
}
