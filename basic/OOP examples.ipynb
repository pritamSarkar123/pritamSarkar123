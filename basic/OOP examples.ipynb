{
 "cells": [
  {
   "cell_type": "code",
   "execution_count": 1,
   "metadata": {},
   "outputs": [
    {
     "name": "stdout",
     "output_type": "stream",
     "text": [
      "0\n",
      "2\n",
      "pritam sarkar\n",
      "eshani jas\n",
      "150\n",
      "11\n"
     ]
    }
   ],
   "source": [
    "class Student:\n",
    "    studentCount=0\n",
    "    def __init__(self,first_name,last_name,marks):\n",
    "        self.first_name=first_name\n",
    "        self.last_name=last_name\n",
    "        self.marks=marks\n",
    "        Student.increment()\n",
    "    @property ###############################################################getter\n",
    "    def fullname(self):\n",
    "        return self.first_name+\" \"+self.last_name\n",
    "    def __str__(self):#####################################################__str__\n",
    "        return self.first_name+\" \"+self.last_name\n",
    "    @fullname.setter #########################################################setter\n",
    "    def fullname(self,name):\n",
    "        first_name,last_name=name.split(' ')\n",
    "        self.first_name=first_name\n",
    "        self.last_name=last_name\n",
    "    @fullname.deleter #######################################################deleter\n",
    "    def fullname(self):\n",
    "        self.first_name=None\n",
    "        self.last_name=None\n",
    "    def __add__(self,other):\n",
    "        return self.marks+other.marks\n",
    "    \n",
    "    @classmethod##############################################################classmethod\n",
    "    def increment(cls):\n",
    "        cls.studentCount+=1\n",
    "    \n",
    "    @classmethod\n",
    "    def totalStudents(cls):\n",
    "        return cls.studentCount\n",
    "        \n",
    "    @staticmethod############################################################staticMEthod\n",
    "    def performAddition(a,b):\n",
    "        return a+b\n",
    "    \n",
    "        \n",
    "print(Student.totalStudents())\n",
    "s1=Student(\"pritam\",\"sarkar\",70)\n",
    "s2=Student(\"eshani\",\"jas\",80)\n",
    "print(Student.totalStudents())\n",
    "print(s1)\n",
    "print(s2)\n",
    "print(s1+s2)\n",
    "print(s1.performAddition(5,6))\n",
    "        \n",
    "        \n",
    "        "
   ]
  },
  {
   "cell_type": "code",
   "execution_count": 2,
   "metadata": {},
   "outputs": [
    {
     "name": "stdout",
     "output_type": "stream",
     "text": [
      "printam\n"
     ]
    }
   ],
   "source": [
    "class Student:\n",
    "    def __init__(self,name):\n",
    "        self.name=name\n",
    "    def getname(self):\n",
    "        return self.name\n",
    "    __str__=getname ############the method can not be setter/getter/deleter/class/static method\n",
    "s1=Student(\"printam\")\n",
    "print(s1)"
   ]
  }
 ],
 "metadata": {
  "kernelspec": {
   "display_name": "Python 3",
   "language": "python",
   "name": "python3"
  },
  "language_info": {
   "codemirror_mode": {
    "name": "ipython",
    "version": 3
   },
   "file_extension": ".py",
   "mimetype": "text/x-python",
   "name": "python",
   "nbconvert_exporter": "python",
   "pygments_lexer": "ipython3",
   "version": "3.7.3"
  }
 },
 "nbformat": 4,
 "nbformat_minor": 2
}
