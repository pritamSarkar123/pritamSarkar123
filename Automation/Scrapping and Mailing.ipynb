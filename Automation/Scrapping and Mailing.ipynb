{
 "cells": [
  {
   "cell_type": "code",
   "execution_count": 24,
   "metadata": {},
   "outputs": [],
   "source": [
    "# ggjihuxqmxvhqawh"
   ]
  },
  {
   "cell_type": "code",
   "execution_count": 25,
   "metadata": {},
   "outputs": [],
   "source": [
    "from urllib.request import urlopen\n",
    "import smtplib\n",
    "from bs4 import BeautifulSoup\n",
    "import ssl"
   ]
  },
  {
   "cell_type": "code",
   "execution_count": 26,
   "metadata": {},
   "outputs": [],
   "source": [
    "URL='https://www.flipkart.com/parker-jotter-standard-ball-pen/p/itmdarywxnznvnhr?pid=PENDARYZ2KX2ZDDV&lid=LSTPENDARYZ2KX2ZDDVN0IK3I&marketplace=FLIPKART&fm=personalisedRecommendation%2Fp2p-same&iid=R%3As%3Bp%3APEND43YHZKHJGARQ%3Bpt%3Ahp%3Buid%3A7577964d-a718-1683-f2fb-64dfab518775%3B.PENDARYZ2KX2ZDDV.LSTPENDARYZ2KX2ZDDVN0IK3I&ppt=hp&ppn=homepage&ssid=vqhngu81o00000001595839158471&otracker=hp_reco_Recommended%2BItems_2_11.productCard.PMU_V2_Recommended%2BItems_PENDARYZ2KX2ZDDV.LSTPENDARYZ2KX2ZDDVN0IK3I_personalisedRecommendation%2Fp2p-same_1&otracker1=hp_reco_WHITELISTED_personalisedRecommendation%2Fp2p-same_Recommended%2BItems_DESKTOP_HORIZONTAL_productCard_cc_2_NA_view-all&cid=PENDARYZ2KX2ZDDV.LSTPENDARYZ2KX2ZDDVN0IK3I'"
   ]
  },
  {
   "cell_type": "code",
   "execution_count": 27,
   "metadata": {},
   "outputs": [],
   "source": [
    "with urlopen(URL) as pageObj:\n",
    "    pageHtml=pageObj.read()"
   ]
  },
  {
   "cell_type": "code",
   "execution_count": 28,
   "metadata": {},
   "outputs": [],
   "source": [
    "pageSoup=BeautifulSoup(pageHtml,'html.parser')"
   ]
  },
  {
   "cell_type": "code",
   "execution_count": 29,
   "metadata": {},
   "outputs": [],
   "source": [
    "price=float(pageSoup.find('div',{'class':'_1vC4OE _3qQ9m1'}).text[1:])"
   ]
  },
  {
   "cell_type": "code",
   "execution_count": 30,
   "metadata": {},
   "outputs": [],
   "source": [
    "name=pageSoup.find('span',{'class':'_35KyD6'}).get_text()"
   ]
  },
  {
   "cell_type": "code",
   "execution_count": 31,
   "metadata": {},
   "outputs": [
    {
     "data": {
      "text/plain": [
       "(221, b'2.0.0 closing connection g5sm13854964pjl.31 - gsmtp')"
      ]
     },
     "execution_count": 31,
     "metadata": {},
     "output_type": "execute_result"
    }
   ],
   "source": [
    "server=smtplib.SMTP('smtp.gmail.com',587)\n",
    "server.ehlo()\n",
    "server.starttls(context=ssl.create_default_context()) #secure the context\n",
    "server.ehlo()\n",
    "server.login('pritamsarkar84208220@gmail.com','ggjihuxqmxvhqawh')\n",
    "subject='Pen Price Reduced'\n",
    "body=f'{name}-Rs.{price}/-'\n",
    "msg=f\"Subject:{subject}\\n\\n{body}\"\n",
    "server.sendmail(\n",
    "    'pritamsarkar84208220@gmail.com',\n",
    "    'pritam123.123sarkar@gmail.com',\n",
    "    msg\n",
    ")\n",
    "server.quit()"
   ]
  },
  {
   "cell_type": "code",
   "execution_count": null,
   "metadata": {},
   "outputs": [],
   "source": []
  }
 ],
 "metadata": {
  "kernelspec": {
   "display_name": "Python 3",
   "language": "python",
   "name": "python3"
  },
  "language_info": {
   "codemirror_mode": {
    "name": "ipython",
    "version": 3
   },
   "file_extension": ".py",
   "mimetype": "text/x-python",
   "name": "python",
   "nbconvert_exporter": "python",
   "pygments_lexer": "ipython3",
   "version": "3.7.6"
  }
 },
 "nbformat": 4,
 "nbformat_minor": 4
}
