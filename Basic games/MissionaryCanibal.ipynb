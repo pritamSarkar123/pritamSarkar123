{
 "cells": [
  {
   "cell_type": "code",
   "execution_count": 303,
   "metadata": {},
   "outputs": [],
   "source": [
    "LeftBank=[3,3]\n",
    "RightBank=[0,0]"
   ]
  },
  {
   "cell_type": "code",
   "execution_count": 304,
   "metadata": {},
   "outputs": [],
   "source": [
    "Lmoves=[(0,2),(2,0),(1,1)] # boat with single person can not go from L to R\n",
    "Rmoves=[(0,1),(1,0),(1,1)]# if 2 M R->L it can less in Right bank\n",
    "#or if 2 C R->L it can me maximu to Left bank # never same thing together"
   ]
  },
  {
   "cell_type": "code",
   "execution_count": 305,
   "metadata": {},
   "outputs": [],
   "source": [
    "def move_(move,LtoR):\n",
    "    global LeftBank,RightBank\n",
    "    if LtoR==True:\n",
    "        LeftBank[0]-=move[0]\n",
    "        LeftBank[1]-=move[1]\n",
    "        RightBank[0]+=move[0]\n",
    "        RightBank[1]+=move[1]\n",
    "    else:\n",
    "        RightBank[0]-=move[0]\n",
    "        RightBank[1]-=move[1]\n",
    "        LeftBank[0]+=move[0]\n",
    "        LeftBank[1]+=move[1]"
   ]
  },
  {
   "cell_type": "code",
   "execution_count": 306,
   "metadata": {},
   "outputs": [],
   "source": [
    "def move():\n",
    "    global LeftBank,RightBank,moves\n",
    "    print(f'start---------{LeftBank},{RightBank}')\n",
    "    while True:\n",
    "        for move in Lmoves:\n",
    "            if (LeftBank[0]-move[0]==0 and LeftBank[1]-move[1]>=0) or (LeftBank[0]-move[0]>=LeftBank[1]-move[1] and LeftBank[0]-move[0]>=0 and LeftBank[1]-move[1]>=0):\n",
    "                if RightBank[0]==0 or (RightBank[0]>0 and RightBank[0]+move[0]>=RightBank[1]+move[1]):\n",
    "                    move_(move,LtoR=True)\n",
    "                    print(f'L -> R {move}',LeftBank,RightBank)\n",
    "                    break\n",
    "        if LeftBank[0]==0 and LeftBank[1]==0:\n",
    "            break\n",
    "        for move in Rmoves:\n",
    "            if (RightBank[0]-move[0]==0 and RightBank[1]-move[1]>=0) or (RightBank[0]-move[0]>=RightBank[1]-move[1] and RightBank[1]-move[1]>=0 and RightBank[0]-move[0]>=0):\n",
    "                if LeftBank[0]==0 or (LeftBank[0]>0 and LeftBank[0]+move[0]>=LeftBank[1]+move[1]):\n",
    "                    move_(move,LtoR=False)\n",
    "                    print(f'L <- R {move}',LeftBank,RightBank)\n",
    "                    break\n",
    "        if RightBank[0]==0 and RightBank[1]==0:\n",
    "            break"
   ]
  },
  {
   "cell_type": "code",
   "execution_count": 307,
   "metadata": {},
   "outputs": [
    {
     "name": "stdout",
     "output_type": "stream",
     "text": [
      "start---------[3, 3],[0, 0]\n",
      "L -> R (0, 2) [3, 1] [0, 2]\n",
      "L <- R (0, 1) [3, 2] [0, 1]\n",
      "L -> R (0, 2) [3, 0] [0, 3]\n",
      "L <- R (0, 1) [3, 1] [0, 2]\n",
      "L -> R (2, 0) [1, 1] [2, 2]\n",
      "L <- R (1, 1) [2, 2] [1, 1]\n",
      "L -> R (2, 0) [0, 2] [3, 1]\n",
      "L <- R (0, 1) [0, 3] [3, 0]\n",
      "L -> R (0, 2) [0, 1] [3, 2]\n",
      "L <- R (0, 1) [0, 2] [3, 1]\n",
      "L -> R (0, 2) [0, 0] [3, 3]\n"
     ]
    }
   ],
   "source": [
    "move()"
   ]
  }
 ],
 "metadata": {
  "kernelspec": {
   "display_name": "Python 3",
   "language": "python",
   "name": "python3"
  },
  "language_info": {
   "codemirror_mode": {
    "name": "ipython",
    "version": 3
   },
   "file_extension": ".py",
   "mimetype": "text/x-python",
   "name": "python",
   "nbconvert_exporter": "python",
   "pygments_lexer": "ipython3",
   "version": "3.7.6"
  }
 },
 "nbformat": 4,
 "nbformat_minor": 4
}
