{
 "cells": [
  {
   "cell_type": "raw",
   "metadata": {},
   "source": [
    "who will get the first chance"
   ]
  },
  {
   "cell_type": "code",
   "execution_count": 68,
   "metadata": {},
   "outputs": [],
   "source": [
    "import numpy as np"
   ]
  },
  {
   "cell_type": "code",
   "execution_count": 69,
   "metadata": {},
   "outputs": [],
   "source": [
    "board=[];\n",
    "for i in range(3):\n",
    "    board.append(['','',''])    "
   ]
  },
  {
   "cell_type": "code",
   "execution_count": 70,
   "metadata": {},
   "outputs": [
    {
     "data": {
      "text/plain": [
       "numpy.str_"
      ]
     },
     "execution_count": 70,
     "metadata": {},
     "output_type": "execute_result"
    }
   ],
   "source": [
    "board=np.array(board)\n",
    "type(board[0,0])"
   ]
  },
  {
   "cell_type": "code",
   "execution_count": 71,
   "metadata": {},
   "outputs": [],
   "source": [
    "scores={'X':1,'O':-1,'Tie':0}"
   ]
  },
  {
   "cell_type": "code",
   "execution_count": 72,
   "metadata": {},
   "outputs": [],
   "source": [
    "ai='O'\n",
    "human='X'"
   ]
  },
  {
   "cell_type": "raw",
   "metadata": {},
   "source": [
    "                       beststep():\n",
    "                                human given his term:'X'\n",
    "                                        ^\n",
    "                                        |\n",
    "                                score=min{minimax(..)}\n",
    "                                 board[min_index]='O'\n",
    "                       ....................................\n",
    "                       minimax(..):     ^\n",
    "                                        |\n",
    "                                  ai(o):minimizing\n",
    "                                        ^\n",
    "                                        |\n",
    "                                    minimum score\n",
    "                                        |\n",
    "                                human(x): maximizing\n",
    "                                        |\n",
    "                                   maximum score\n",
    "                                        .\n",
    "                                        ."
   ]
  },
  {
   "cell_type": "code",
   "execution_count": 73,
   "metadata": {},
   "outputs": [],
   "source": [
    "def printBoard():\n",
    "    for i in board:\n",
    "        for j in i:\n",
    "            if j=='':\n",
    "                print('_',end=\" \")\n",
    "            else:\n",
    "                print(j,end=\" \")\n",
    "        print()\n",
    "    print('<...............................>')"
   ]
  },
  {
   "cell_type": "code",
   "execution_count": 74,
   "metadata": {},
   "outputs": [],
   "source": [
    "def isEqual(a,b,c):\n",
    "    return (a==b and b==c and a!='')"
   ]
  },
  {
   "cell_type": "code",
   "execution_count": 75,
   "metadata": {},
   "outputs": [],
   "source": [
    "def checkWinner():\n",
    "    global board\n",
    "    winner=None\n",
    "    #row check\n",
    "    for i in range(3):\n",
    "        if isEqual(board[i,0],board[i,1],board[i,2]):\n",
    "            winner=board[i,0]      \n",
    "    #column check\n",
    "    for i in range(3):\n",
    "        if isEqual(board[0,i],board[1,i],board[2,i]):\n",
    "            winner=board[0,i]\n",
    "    #left diagonal check\n",
    "    if isEqual(board[0,0],board[1,1],board[2,2]):\n",
    "        winner=board[0,0]\n",
    "    #right diagonal check\n",
    "    if isEqual(board[0,2],board[1,1],board[2,0]):\n",
    "        winner=board[1,1]\n",
    "    if winner==None:\n",
    "        filled=True\n",
    "        for i in range(3):\n",
    "            for j in range(3):\n",
    "                if board[i,j]=='':\n",
    "                    filled=False\n",
    "        if filled: \n",
    "            return 'Tie'\n",
    "    else:\n",
    "        return winner"
   ]
  },
  {
   "cell_type": "code",
   "execution_count": 76,
   "metadata": {},
   "outputs": [],
   "source": [
    "def minimax(board,Alpha,Beta,isMaximizing):\n",
    "    result=checkWinner()\n",
    "    if result:\n",
    "        return scores[result]\n",
    "    if isMaximizing:\n",
    "        #this is \"human\" state , gathering maximum score from  next \"ai\" step\n",
    "        bestScore=-9999\n",
    "        br=False\n",
    "        for i in range(3):\n",
    "            for j in range(3):\n",
    "                if board[i,j]=='':\n",
    "                    board[i,j]=ai\n",
    "                    score=minimax(board,Alpha,Beta,isMaximizing=False)\n",
    "                    #where \"ai\" step gathers minimum from the next step\n",
    "                    bestScore=max(score,bestScore)\n",
    "                    Alpha=max(bestScore,Alpha)\n",
    "                    board[i,j]=''\n",
    "                    if Beta<=Alpha:\n",
    "                        #print(f\"pruned alpha {Alpha} beta {Beta}\")\n",
    "                        br=True\n",
    "                        break\n",
    "            if br:\n",
    "                break\n",
    "        return bestScore\n",
    "    else:\n",
    "        #this is \"ai\" state , gathering minimum score from  next \"human\" step\n",
    "        bestScore=9999\n",
    "        br=False\n",
    "        for i in range(3):\n",
    "            for j in range(3):\n",
    "                if board[i,j]=='':\n",
    "                    board[i,j]=human\n",
    "                    score=minimax(board,Alpha,Beta,isMaximizing=True)\n",
    "                    #where \"human\" step gathers maximum from the next step\n",
    "                    bestScore=min(score,bestScore)\n",
    "                    Beta=min(bestScore,Beta)\n",
    "                    board[i,j]=''\n",
    "                    if Beta<=Alpha:\n",
    "                        #print(f\"pruned alpha {Alpha} beta {Beta}\")\n",
    "                        br=True\n",
    "                        break\n",
    "            if br:\n",
    "                break\n",
    "        return bestScore\n"
   ]
  },
  {
   "cell_type": "code",
   "execution_count": 77,
   "metadata": {},
   "outputs": [],
   "source": [
    "#human has played his turn\n",
    "#now it is ai's responsibility to defeat him\n",
    "#beststep() makes shure ai place O to that very position\n",
    "#where the score givenby minimax() become minimum\n",
    "#beststep() is a human ai interface, not an ai step, trys to defeat human\n",
    "def bestStep(): \n",
    "    global board\n",
    "    bestScore=9999\n",
    "    bestIndex=None\n",
    "    for i in range(3):\n",
    "        for j in range(3):\n",
    "            if board[i,j]=='':\n",
    "                board[i,j]=ai\n",
    "                score=minimax(board,Alpha=-9999,Beta=9999,isMaximizing=False)#ai driven function\n",
    "                #where \"ai\" step gathers minimum from the next step\n",
    "                print(score,[i,j])\n",
    "                if bestScore>=score:\n",
    "                    bestScore=score\n",
    "                    bestIndex=[i,j]\n",
    "                board[i,j]=''\n",
    "    board[bestIndex[0],bestIndex[1]]=ai\n",
    "    print()\n",
    "            "
   ]
  },
  {
   "cell_type": "code",
   "execution_count": 78,
   "metadata": {},
   "outputs": [
    {
     "name": "stdout",
     "output_type": "stream",
     "text": [
      "Position r :0\n",
      "Position c :2\n",
      "_ _ X \n",
      "_ _ _ \n",
      "_ _ _ \n",
      "<...............................>\n",
      "0 [0, 0]\n",
      "1 [0, 1]\n",
      "1 [1, 0]\n",
      "0 [1, 1]\n",
      "1 [1, 2]\n",
      "0 [2, 0]\n",
      "1 [2, 1]\n",
      "0 [2, 2]\n",
      "\n",
      "_ _ X \n",
      "_ _ _ \n",
      "_ _ O \n",
      "<...............................>\n",
      "Position r :2\n",
      "Position c :0\n",
      "_ _ X \n",
      "_ _ _ \n",
      "X _ O \n",
      "<...............................>\n",
      "1 [0, 0]\n",
      "1 [0, 1]\n",
      "1 [1, 0]\n",
      "0 [1, 1]\n",
      "1 [1, 2]\n",
      "1 [2, 1]\n",
      "\n",
      "_ _ X \n",
      "_ O _ \n",
      "X _ O \n",
      "<...............................>\n",
      "Position r :0\n",
      "Position c :1\n",
      "_ X X \n",
      "_ O _ \n",
      "X _ O \n",
      "<...............................>\n",
      "-1 [0, 0]\n",
      "-1 [1, 0]\n",
      "-1 [1, 2]\n",
      "1 [2, 1]\n",
      "\n",
      "_ X X \n",
      "_ O O \n",
      "X _ O \n",
      "<...............................>\n",
      "Position r :1\n",
      "Position c :0\n",
      "_ X X \n",
      "X O O \n",
      "X _ O \n",
      "<...............................>\n",
      "-1 [0, 0]\n",
      "1 [2, 1]\n",
      "\n",
      "O X X \n",
      "X O O \n",
      "X _ O \n",
      "<...............................>\n",
      "winner is : O\n"
     ]
    }
   ],
   "source": [
    "if __name__=='__main__':\n",
    "    global board\n",
    "    #give human the fist chance\n",
    "    decided=False\n",
    "    while not decided:\n",
    "        a,b=None,None\n",
    "        a=int(input(\"Position r :\"))\n",
    "        b=int(input(\"Position c :\"))\n",
    "        if board[a,b]!='':\n",
    "            print(\"correct it MF\")\n",
    "            continue\n",
    "        board[a,b]=human\n",
    "        printBoard()\n",
    "        winner=checkWinner()\n",
    "        if winner:\n",
    "            print(f'winner is : {winner}')\n",
    "            decided=True\n",
    "        else:\n",
    "            bestStep()\n",
    "            winner=checkWinner()\n",
    "            printBoard()\n",
    "            if winner:\n",
    "                print(f'winner is : {winner}')\n",
    "                decided=True\n",
    "        "
   ]
  },
  {
   "cell_type": "code",
   "execution_count": null,
   "metadata": {},
   "outputs": [],
   "source": []
  },
  {
   "cell_type": "code",
   "execution_count": null,
   "metadata": {},
   "outputs": [],
   "source": []
  },
  {
   "cell_type": "code",
   "execution_count": null,
   "metadata": {},
   "outputs": [],
   "source": []
  }
 ],
 "metadata": {
  "kernelspec": {
   "display_name": "Python 3",
   "language": "python",
   "name": "python3"
  },
  "language_info": {
   "codemirror_mode": {
    "name": "ipython",
    "version": 3
   },
   "file_extension": ".py",
   "mimetype": "text/x-python",
   "name": "python",
   "nbconvert_exporter": "python",
   "pygments_lexer": "ipython3",
   "version": "3.7.6"
  }
 },
 "nbformat": 4,
 "nbformat_minor": 2
}
