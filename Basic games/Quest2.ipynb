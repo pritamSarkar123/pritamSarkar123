{
 "cells": [
  {
   "cell_type": "raw",
   "metadata": {},
   "source": [
    "1,11,21,1211,......."
   ]
  },
  {
   "cell_type": "code",
   "execution_count": 72,
   "metadata": {},
   "outputs": [],
   "source": [
    "def func(s): \n",
    "    v=[]\n",
    "    i=0\n",
    "    l=len(s)-1\n",
    "    while i<=l:\n",
    "        j=i+1\n",
    "        count=1\n",
    "        if j>l:\n",
    "            v.append(str(count))\n",
    "            v.append(s[i])\n",
    "            break\n",
    "        else:\n",
    "            while j<=l and s[i]==s[j]:\n",
    "                count+=1\n",
    "                j+=1\n",
    "            v.append(str(count))\n",
    "            v.append(s[i])\n",
    "            i=j\n",
    "    string=\"\"\n",
    "    for i in v:\n",
    "        string+=i\n",
    "    return string"
   ]
  },
  {
   "cell_type": "code",
   "execution_count": 73,
   "metadata": {},
   "outputs": [],
   "source": [
    "uni_dict={}"
   ]
  },
  {
   "cell_type": "code",
   "execution_count": 74,
   "metadata": {},
   "outputs": [],
   "source": [
    "def givenumgetval(n):\n",
    "    i=0\n",
    "    s='1'\n",
    "    uni_dict[i]=s\n",
    "    i+=1\n",
    "    while i<=n:\n",
    "        if i not in uni_dict.keys():\n",
    "            s=func(s)\n",
    "            uni_dict[i]=s\n",
    "        else: # no need for calling func \n",
    "            s=uni_dict[i]\n",
    "        i+=1\n",
    "    return s\n",
    "\n",
    "def wrapper(n):\n",
    "    if n in uni_dict.keys(): #no need for calling givenumgetval\n",
    "        return uni_dict[n]\n",
    "    else:\n",
    "        s=givenumgetval(n)\n",
    "        uni_dict[n]=s\n",
    "        return s"
   ]
  },
  {
   "cell_type": "code",
   "execution_count": 75,
   "metadata": {},
   "outputs": [
    {
     "name": "stdout",
     "output_type": "stream",
     "text": [
      "1\n",
      "11\n",
      "21\n",
      "1211\n",
      "111221\n",
      "312211\n",
      "13112221\n",
      "1113213211\n",
      "31131211131221\n",
      "13211311123113112211\n"
     ]
    }
   ],
   "source": [
    "for i in range(10):\n",
    "    print(wrapper(i))"
   ]
  },
  {
   "cell_type": "code",
   "execution_count": 76,
   "metadata": {},
   "outputs": [
    {
     "data": {
      "text/plain": [
       "{0: '1',\n",
       " 1: '11',\n",
       " 2: '21',\n",
       " 3: '1211',\n",
       " 4: '111221',\n",
       " 5: '312211',\n",
       " 6: '13112221',\n",
       " 7: '1113213211',\n",
       " 8: '31131211131221',\n",
       " 9: '13211311123113112211'}"
      ]
     },
     "execution_count": 76,
     "metadata": {},
     "output_type": "execute_result"
    }
   ],
   "source": [
    "uni_dict"
   ]
  },
  {
   "cell_type": "code",
   "execution_count": null,
   "metadata": {},
   "outputs": [],
   "source": []
  }
 ],
 "metadata": {
  "kernelspec": {
   "display_name": "Python 3",
   "language": "python",
   "name": "python3"
  },
  "language_info": {
   "codemirror_mode": {
    "name": "ipython",
    "version": 3
   },
   "file_extension": ".py",
   "mimetype": "text/x-python",
   "name": "python",
   "nbconvert_exporter": "python",
   "pygments_lexer": "ipython3",
   "version": "3.7.3"
  }
 },
 "nbformat": 4,
 "nbformat_minor": 2
}
