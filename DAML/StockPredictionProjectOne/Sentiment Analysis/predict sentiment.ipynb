{
 "cells": [
  {
   "cell_type": "code",
   "execution_count": 46,
   "metadata": {},
   "outputs": [],
   "source": [
    "from tensorflow import keras\n",
    "from sklearn.externals import joblib\n",
    "import numpy as np\n",
    "import pandas as pd"
   ]
  },
  {
   "cell_type": "code",
   "execution_count": 47,
   "metadata": {},
   "outputs": [],
   "source": [
    "vocab_to_int=joblib.load('vocab_to_int.pkl')"
   ]
  },
  {
   "cell_type": "code",
   "execution_count": 48,
   "metadata": {},
   "outputs": [],
   "source": [
    "def tokenize(text):\n",
    "    token_list=[]\n",
    "    for w in text.split():\n",
    "        if w in vocab_to_int:\n",
    "            token_list.append(vocab_to_int[w])\n",
    "        else:\n",
    "            pass\n",
    "    return token_list"
   ]
  },
  {
   "cell_type": "code",
   "execution_count": 49,
   "metadata": {},
   "outputs": [],
   "source": [
    "from string import punctuation\n",
    "def remove_punc(text):\n",
    "    all_text=''.join([c for c in text if c not in punctuation])\n",
    "    return all_text"
   ]
  },
  {
   "cell_type": "code",
   "execution_count": 50,
   "metadata": {},
   "outputs": [],
   "source": [
    "from tensorflow.keras.preprocessing import sequence\n"
   ]
  },
  {
   "cell_type": "code",
   "execution_count": 54,
   "metadata": {},
   "outputs": [],
   "source": [
    "model=keras.models.load_model('sentimentModel.h5')"
   ]
  },
  {
   "cell_type": "code",
   "execution_count": 71,
   "metadata": {},
   "outputs": [
    {
     "name": "stdout",
     "output_type": "stream",
     "text": [
      "[[    0     0     0     0     0     0     0     0     0     0     0     0\n",
      "      0     0     0     0     0     0     0     0     0     0     0     0\n",
      "      0     0     0     0     0     0     0     0     0     0     0     0\n",
      "      0     0     0     0     0     0     0     0     0     0     0     0\n",
      "      0     0     0     0     0     0     0     0     0     0     0     0\n",
      "      0     0     0     0     0     0     0     0     0     0     0     0\n",
      "      0     0     0     0     0     0     0     0     0     0     0     0\n",
      "      0     0     0     0     0     0     0     0     6     3  5261  4985\n",
      "      4     2     3     6  1157   194     2     1  1714   253    35   281\n",
      "     23   110   608   712     6  1576     1  1134  5384   100   199     2\n",
      "      1  1376     6 12079   110     1    28   336     2   369    22 11883\n",
      "      2  1227   219   132    22  1163    17     9    16   144    80    71\n",
      "     15 20893  1120   229     6  4424    17  1398   106     6   254     5\n",
      "   5595   304    15    32  1641    11   270    23  2065     6  6638   426\n",
      "      1  1620     4     1   698    17   133  1814    14    23   325     6\n",
      "     42    13   844    13     3  7147 13258   203     9  5030  3952    15\n",
      "    949     2   411   418   182    58 16365   266]]\n"
     ]
    }
   ],
   "source": [
    "statement=\"This is a pale imitation of 'Officer and a Gentleman.' There is NO chemistry between Kutcher and the unknown woman who plays his love interest. The dialog is wooden, the situations hackneyed. It's too long and the climax is anti-climactic(!). I love the USCG, its men and women are fearless and tough. The action scenes are awesome, but this movie doesn't do much for recruiting, I fear. The script is formulaic, but confusing. Kutcher's character is trying to redeem himself for an accident that wasn't his fault? Costner's is raging against the dying of the light, but why? His 'conflict' with his wife is about as deep as a mud puddle. I saw this sneak preview for free and certainly felt I got my money's worth.\"\n",
    "statement=remove_punc(statement)\n",
    "statement=tokenize(statement)\n",
    "statement=np.array([statement])\n",
    "statement=sequence.pad_sequences(statement,maxlen=200)\n",
    "print(statement)"
   ]
  },
  {
   "cell_type": "code",
   "execution_count": 72,
   "metadata": {},
   "outputs": [
    {
     "name": "stdout",
     "output_type": "stream",
     "text": [
      "negative\n"
     ]
    }
   ],
   "source": [
    "threshold=0.5\n",
    "result=model.predict(statement)\n",
    "if result[0,0]>=0.5:\n",
    "    print('positive')\n",
    "else:\n",
    "    print('negative')"
   ]
  },
  {
   "cell_type": "code",
   "execution_count": null,
   "metadata": {},
   "outputs": [],
   "source": []
  }
 ],
 "metadata": {
  "kernelspec": {
   "display_name": "Python 3",
   "language": "python",
   "name": "python3"
  },
  "language_info": {
   "codemirror_mode": {
    "name": "ipython",
    "version": 3
   },
   "file_extension": ".py",
   "mimetype": "text/x-python",
   "name": "python",
   "nbconvert_exporter": "python",
   "pygments_lexer": "ipython3",
   "version": "3.7.3"
  }
 },
 "nbformat": 4,
 "nbformat_minor": 2
}
