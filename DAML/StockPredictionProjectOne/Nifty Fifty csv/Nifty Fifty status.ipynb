{
 "cells": [
  {
   "cell_type": "code",
   "execution_count": 1,
   "metadata": {},
   "outputs": [],
   "source": [
    "import bs4\n",
    "from urllib.request import urlopen\n",
    "from bs4 import BeautifulSoup as soup\n",
    "import pandas as pd"
   ]
  },
  {
   "cell_type": "code",
   "execution_count": 2,
   "metadata": {},
   "outputs": [],
   "source": [
    "myUrl=\"https://www.moneyworks4me.com/best-index/nse-stocks/top-nifty50-companies-list/\"\n",
    "client=urlopen(myUrl)\n",
    "page_html=client.read()\n",
    "client.close()"
   ]
  },
  {
   "cell_type": "code",
   "execution_count": 3,
   "metadata": {},
   "outputs": [],
   "source": [
    "raw_data=soup(page_html,'html.parser')"
   ]
  },
  {
   "cell_type": "code",
   "execution_count": 4,
   "metadata": {},
   "outputs": [],
   "source": [
    "table_container_one=raw_data.find_all(\"div\",{\"class\":\"responsive-holder\",\"id\":\"stock-data\"})\n",
    "table_container_two=table_container_one[0].find_all('tbody')\n",
    "table_container_three=table_container_two[0].find_all('tr',{'class':'countRow'})"
   ]
  },
  {
   "cell_type": "code",
   "execution_count": 5,
   "metadata": {},
   "outputs": [],
   "source": [
    "columns=['CompanyName','RightStock?','CMP','PriceChange%','MarketCap','52WHigh','52WLow','ROE','P/E','P/BV','EV/EBITDA']\n",
    "df=pd.DataFrame(columns=columns,index=[x for x in range(len(table_container_three))])\n",
    "def process(text):\n",
    "    if ',' in text:\n",
    "        text=text.split(',')\n",
    "        text=float(text[0]+text[1])\n",
    "    elif text=='-':\n",
    "        return 0\n",
    "    else:\n",
    "        text=float(text)\n",
    "    return text\n",
    "for i,row in enumerate(table_container_three):\n",
    "    name=row.find('a').text\n",
    "    rightStock=row.find_all('td')[1].find_all('span')[-1].text\n",
    "    cmp=process(row.find_all('td')[2].text)\n",
    "    priceChange=process(row.find_all('td')[3].text[:-1])\n",
    "    marketCap=process(row.find_all('td')[4].text)\n",
    "    wHigh=process(row.find_all('td')[5].text)\n",
    "    wLow=process(row.find_all('td')[6].text)\n",
    "    roe=process(row.find_all('td')[7].text)\n",
    "    p_e=process(row.find_all('td')[8].text)\n",
    "    p_bv=process(row.find_all('td')[9].text)\n",
    "    ev=process(row.find_all('td')[10].text)\n",
    "    df.loc[i]=[name,rightStock,cmp,priceChange,marketCap,wHigh,wLow,roe,p_e,p_bv,ev]\n",
    "#df['RightStock?'].replace(['Very Good','Somewhat Good','Not Good'],[2,1,0],inplace=True)\n",
    "df.to_csv('NIFTY50.csv',index=False)"
   ]
  },
  {
   "cell_type": "code",
   "execution_count": null,
   "metadata": {},
   "outputs": [],
   "source": []
  },
  {
   "cell_type": "code",
   "execution_count": null,
   "metadata": {},
   "outputs": [],
   "source": []
  },
  {
   "cell_type": "code",
   "execution_count": null,
   "metadata": {},
   "outputs": [],
   "source": []
  },
  {
   "cell_type": "code",
   "execution_count": null,
   "metadata": {},
   "outputs": [],
   "source": []
  },
  {
   "cell_type": "code",
   "execution_count": null,
   "metadata": {},
   "outputs": [],
   "source": []
  },
  {
   "cell_type": "code",
   "execution_count": null,
   "metadata": {},
   "outputs": [],
   "source": []
  }
 ],
 "metadata": {
  "kernelspec": {
   "display_name": "Python 3",
   "language": "python",
   "name": "python3"
  },
  "language_info": {
   "codemirror_mode": {
    "name": "ipython",
    "version": 3
   },
   "file_extension": ".py",
   "mimetype": "text/x-python",
   "name": "python",
   "nbconvert_exporter": "python",
   "pygments_lexer": "ipython3",
   "version": "3.7.3"
  }
 },
 "nbformat": 4,
 "nbformat_minor": 2
}
