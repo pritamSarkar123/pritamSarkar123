{
 "cells": [
  {
   "cell_type": "code",
   "execution_count": 2,
   "metadata": {},
   "outputs": [
    {
     "name": "stdout",
     "output_type": "stream",
     "text": [
      "input number of days ago: 365\n",
      "Enter the ticker name: AAPL\n",
      "enter the short term exponential moving average :25\n",
      "enter the long term exponential moving average :100\n",
      "[187.8984501011406]\n",
      "[Timestamp('2019-06-18 00:00:00')]\n",
      "[188.38960561732495]\n",
      "[Timestamp('2019-05-29 00:00:00')]\n"
     ]
    },
    {
     "data": {
      "text/plain": [
       "'print(type(df_lema))\\nprint(df_lema.shape)\\nprint(df_lema[0])'"
      ]
     },
     "execution_count": 2,
     "metadata": {},
     "output_type": "execute_result"
    }
   ],
   "source": [
    "import datetime as dt\n",
    "import matplotlib.pyplot as plt\n",
    "from matplotlib.pyplot import scatter\n",
    "from matplotlib import style\n",
    "import pandas as pd\n",
    "import pandas_datareader.data as web\n",
    "from mpl_finance import candlestick_ohlc\n",
    "import matplotlib.dates as mdates\n",
    "from datetime import timedelta, datetime\n",
    "import os\n",
    "import matplotlib\n",
    "%matplotlib inline\n",
    "\n",
    "N = int(input('input number of days ago: '))\n",
    "comp_name = input('Enter the ticker name: ')\n",
    "ema1=int(input('enter the short term exponential moving average :'))\n",
    "ema2 = int(input('enter the long term exponential moving average :'))\n",
    "\n",
    "style.use('ggplot')\n",
    "end = dt.datetime.now()\n",
    "start = dt.datetime.now() - timedelta(days=N)\n",
    "df = web.DataReader(comp_name, 'yahoo', start, end)\n",
    "df.reset_index(inplace=True)\n",
    "df.set_index(\"Date\", inplace=True)\n",
    "df.to_csv('{}.csv'.format(comp_name))\n",
    "# df = df.drop(\"Symbol\", axis=1)\n",
    "\n",
    "df = pd.read_csv('{}.csv'.format(comp_name), parse_dates=True, index_col=0)\n",
    "\n",
    "# 100 moving average\n",
    "df['{}ema'.format(ema1)] = df['Adj Close'].ewm(span=ema1,adjust=False,min_periods=0).mean()\n",
    "df['{}ema'.format(ema2)] = df['Adj Close'].ewm(span=ema2, adjust=False,min_periods=0).mean()\n",
    "df.dropna(how='any', inplace=True)\n",
    "\n",
    "df_ohlc = df['Adj Close'].resample('10D').ohlc()\n",
    "df_volume = df['Volume'].resample('10D').sum()\n",
    "\n",
    "df_ohlc.reset_index(inplace=True)\n",
    "df_ohlc['Date'] = df_ohlc['Date'].map(mdates.date2num)\n",
    "\n",
    "buy = []\n",
    "buy_date = []\n",
    "sell = []\n",
    "sell_date = []\n",
    "df_sema=df['{}ema'.format(ema1)]\n",
    "df_lema=df['{}ema'.format(ema2)]\n",
    "for i in range(df['{}ema'.format(ema2)].shape[0]):\n",
    "    if i==0:\n",
    "        if df_sema[i] == 0 and df_lema[i]==0:\n",
    "            if df_sema[i+1] < df_lema[i+1]:\n",
    "                sell.append(df_lema[i])\n",
    "                sell_date.append(df.index[i])\n",
    "            elif df_sema[i + 1] > df_lema[i + 1]:\n",
    "                buy.append(df_lema[i])\n",
    "                buy_date.append(df.index[i])\n",
    "    else:\n",
    "        # short term crocess above long term\n",
    "        if (df_sema[i-1] < df_lema[i-1]) and (df_sema[i] > df_lema[i]):\n",
    "            buy.append(df_lema[i])\n",
    "            buy_date.append(df.index[i])\n",
    "        elif (df_sema[i-1] > df_lema[i-1]) and (df_sema[i] < df_lema[i]):\n",
    "            sell.append(df_lema[i])\n",
    "            sell_date.append(df.index[i])\n",
    "\n",
    "print(buy)\n",
    "print(buy_date)\n",
    "print(sell)\n",
    "print(sell_date)\n",
    "'''for i in range(df['{}ema'.format(ema2)].shape[0]):\n",
    "    print(df['{}ema'.format(ema2)][i])'''\n",
    "\n",
    "'''print(type(df_lema))\n",
    "print(df_lema.shape)\n",
    "print(df_lema[0])'''"
   ]
  },
  {
   "cell_type": "code",
   "execution_count": null,
   "metadata": {},
   "outputs": [],
   "source": []
  }
 ],
 "metadata": {
  "kernelspec": {
   "display_name": "Python 3",
   "language": "python",
   "name": "python3"
  },
  "language_info": {
   "codemirror_mode": {
    "name": "ipython",
    "version": 3
   },
   "file_extension": ".py",
   "mimetype": "text/x-python",
   "name": "python",
   "nbconvert_exporter": "python",
   "pygments_lexer": "ipython3",
   "version": "3.7.3"
  }
 },
 "nbformat": 4,
 "nbformat_minor": 2
}
