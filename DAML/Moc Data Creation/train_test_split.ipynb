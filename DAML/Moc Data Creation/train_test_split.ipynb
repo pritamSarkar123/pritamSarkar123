{
 "cells": [
  {
   "cell_type": "code",
   "execution_count": 9,
   "metadata": {},
   "outputs": [],
   "source": [
    "import numpy as np\n",
    "import pandas as pd"
   ]
  },
  {
   "cell_type": "code",
   "execution_count": 10,
   "metadata": {},
   "outputs": [],
   "source": [
    "def data_split(data,test_ratio):\n",
    "    np.random.seed(42)\n",
    "    shuffled_ints=np.random.permutation(len(data))\n",
    "    test_size=int(len(data)*test_ratio)\n",
    "    test_indeces=shuffled_ints[:test_size]\n",
    "    train_indeces=shuffled_ints[test_size:]\n",
    "    return data.iloc[train_indeces],data.iloc[test_indeces]"
   ]
  },
  {
   "cell_type": "code",
   "execution_count": 11,
   "metadata": {},
   "outputs": [
    {
     "data": {
      "text/plain": [
       "array([1, 5, 4, 6, 0, 2, 3])"
      ]
     },
     "execution_count": 11,
     "metadata": {},
     "output_type": "execute_result"
    }
   ],
   "source": [
    "np.random.permutation(7)"
   ]
  },
  {
   "cell_type": "code",
   "execution_count": 12,
   "metadata": {},
   "outputs": [],
   "source": [
    "## to_numpy() data frame to numpy array\n"
   ]
  },
  {
   "cell_type": "code",
   "execution_count": 13,
   "metadata": {},
   "outputs": [
    {
     "name": "stdout",
     "output_type": "stream",
     "text": [
      "hello world\n"
     ]
    }
   ],
   "source": [
    "if __name__==\"__main__\":\n",
    "    print(\"hello world\")"
   ]
  },
  {
   "cell_type": "code",
   "execution_count": 14,
   "metadata": {},
   "outputs": [
    {
     "name": "stdout",
     "output_type": "stream",
     "text": [
      "it is main function\n",
      "it is main function\n",
      "it is main function\n"
     ]
    }
   ],
   "source": [
    "def func1():\n",
    "    if __name__==\"__main__\":\n",
    "        print(\"it is main function\")\n",
    "    else:\n",
    "        print(\"func1 called\")\n",
    "def func2():\n",
    "    if __name__==\"__main__\":\n",
    "        print(\"it is main function\")\n",
    "    else:\n",
    "        print(\"func2 called\")\n",
    "if __name__==\"__main__\":\n",
    "    print(\"it is main function\")\n",
    "    func1()\n",
    "    func2()"
   ]
  },
  {
   "cell_type": "code",
   "execution_count": null,
   "metadata": {},
   "outputs": [],
   "source": []
  }
 ],
 "metadata": {
  "kernelspec": {
   "display_name": "Python 3",
   "language": "python",
   "name": "python3"
  },
  "language_info": {
   "codemirror_mode": {
    "name": "ipython",
    "version": 3
   },
   "file_extension": ".py",
   "mimetype": "text/x-python",
   "name": "python",
   "nbconvert_exporter": "python",
   "pygments_lexer": "ipython3",
   "version": "3.7.3"
  }
 },
 "nbformat": 4,
 "nbformat_minor": 2
}
