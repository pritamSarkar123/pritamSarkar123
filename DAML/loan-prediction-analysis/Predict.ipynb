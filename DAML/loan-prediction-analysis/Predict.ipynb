{
 "cells": [
  {
   "cell_type": "code",
   "execution_count": 4,
   "metadata": {},
   "outputs": [],
   "source": [
    "import pickle\n",
    "from sklearn.externals import joblib\n",
    "import numpy as np\n",
    "import pandas as pd\n",
    "from sklearn.preprocessing import MinMaxScaler\n",
    "from imblearn.over_sampling import SMOTE"
   ]
  },
  {
   "cell_type": "code",
   "execution_count": 5,
   "metadata": {},
   "outputs": [],
   "source": [
    "###TODO Modifiable finction in Django\n",
    "sc=joblib.load('scale_model.pkl')\n",
    "model=joblib.load('loan_model.pkl')\n",
    "max_th=joblib.load('maximum_th.pkl')\n",
    "def fill_df(ip):\n",
    "    ip_scaled=sc.transform(ip)   \n",
    "    op=model.predict(ip_scaled)\n",
    "    if(op>0.58):\n",
    "        print('Loan Available')\n",
    "    else:\n",
    "        print('Loan Not Available')"
   ]
  },
  {
   "cell_type": "code",
   "execution_count": 6,
   "metadata": {},
   "outputs": [
    {
     "name": "stdout",
     "output_type": "stream",
     "text": [
      "Loan Available\n",
      "Loan Available\n",
      "Loan Available\n",
      "Loan Not Available\n",
      "Loan Available\n",
      "Loan Available\n",
      "Loan Not Available\n",
      "Loan Available\n",
      "Loan Not Available\n",
      "Loan Available\n"
     ]
    }
   ],
   "source": [
    "dx=pd.read_csv('dummyx.csv')\n",
    "dy=pd.read_csv('dummyy.csv')\n",
    "for i in range(10):\n",
    "    fill_df(np.array(dx.loc[i]).reshape(1,18))"
   ]
  },
  {
   "cell_type": "code",
   "execution_count": null,
   "metadata": {},
   "outputs": [],
   "source": []
  }
 ],
 "metadata": {
  "kernelspec": {
   "display_name": "Python 3",
   "language": "python",
   "name": "python3"
  },
  "language_info": {
   "codemirror_mode": {
    "name": "ipython",
    "version": 3
   },
   "file_extension": ".py",
   "mimetype": "text/x-python",
   "name": "python",
   "nbconvert_exporter": "python",
   "pygments_lexer": "ipython3",
   "version": "3.7.3"
  }
 },
 "nbformat": 4,
 "nbformat_minor": 2
}
