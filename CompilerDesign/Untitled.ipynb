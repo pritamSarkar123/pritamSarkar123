{
 "cells": [
  {
   "cell_type": "code",
   "execution_count": 23,
   "metadata": {},
   "outputs": [],
   "source": [
    "#E->iE_\n",
    "#E_->+iE_/None\n",
    "\n",
    "lookAhead=None\n",
    "inputStream=\"i+i$\""
   ]
  },
  {
   "cell_type": "code",
   "execution_count": 24,
   "metadata": {},
   "outputs": [],
   "source": [
    "def getNextChar():\n",
    "    global inputStream\n",
    "    char=inputStream[0]\n",
    "    inputStream=inputStream[1:]\n",
    "    return char"
   ]
  },
  {
   "cell_type": "code",
   "execution_count": 25,
   "metadata": {},
   "outputs": [],
   "source": [
    "def match(c):\n",
    "    global lookAhead\n",
    "    print(f\"match({c}) called lookAhead=={lookAhead}\")\n",
    "    if lookAhead==c:\n",
    "        lookAhead=getNextChar()\n",
    "    else:\n",
    "        print(\"Syntax Error\")\n",
    "        "
   ]
  },
  {
   "cell_type": "code",
   "execution_count": 26,
   "metadata": {},
   "outputs": [],
   "source": [
    "def E_():\n",
    "    global lookAhead\n",
    "    print(f\"E_() called lookAhead=={lookAhead}\")\n",
    "    if lookAhead=='+':\n",
    "        match('+')\n",
    "        match('i')\n",
    "        E_()\n",
    "    else:\n",
    "        return "
   ]
  },
  {
   "cell_type": "code",
   "execution_count": 27,
   "metadata": {},
   "outputs": [],
   "source": [
    "def E():\n",
    "    global lookAhead\n",
    "    print(f\"E() called lookAhead=={lookAhead}\")\n",
    "    if lookAhead=='i':\n",
    "        match('i')\n",
    "        E_()"
   ]
  },
  {
   "cell_type": "code",
   "execution_count": 28,
   "metadata": {},
   "outputs": [
    {
     "name": "stdout",
     "output_type": "stream",
     "text": [
      "E() called lookAhead==i\n",
      "match(i) called lookAhead==i\n",
      "E_() called lookAhead==+\n",
      "match(+) called lookAhead==+\n",
      "match(i) called lookAhead==i\n",
      "E_() called lookAhead==$\n",
      "Parsing Succesful\n"
     ]
    }
   ],
   "source": [
    "if __name__==\"__main__\":\n",
    "    lookAhead=getNextChar()\n",
    "    E()\n",
    "    if lookAhead=='$':\n",
    "        print(\"Parsing Succesful\")"
   ]
  },
  {
   "cell_type": "code",
   "execution_count": null,
   "metadata": {},
   "outputs": [],
   "source": []
  }
 ],
 "metadata": {
  "kernelspec": {
   "display_name": "Python 3",
   "language": "python",
   "name": "python3"
  },
  "language_info": {
   "codemirror_mode": {
    "name": "ipython",
    "version": 3
   },
   "file_extension": ".py",
   "mimetype": "text/x-python",
   "name": "python",
   "nbconvert_exporter": "python",
   "pygments_lexer": "ipython3",
   "version": "3.7.6"
  }
 },
 "nbformat": 4,
 "nbformat_minor": 4
}
