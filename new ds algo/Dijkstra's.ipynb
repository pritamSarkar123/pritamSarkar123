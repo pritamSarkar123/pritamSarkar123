{
 "cells": [
  {
   "cell_type": "code",
   "execution_count": 1,
   "metadata": {},
   "outputs": [],
   "source": [
    "\n",
    "from operator import itemgetter\n",
    "import numpy as np\n"
   ]
  },
  {
   "cell_type": "code",
   "execution_count": 2,
   "metadata": {},
   "outputs": [],
   "source": [
    "import numpy as np\n",
    "MAXVAL=9999\n",
    "graph=np.array([[0,4,7,1,MAXVAL,MAXVAL,MAXVAL,MAXVAL],\n",
    "[4,0,MAXVAL,MAXVAL,6,3,MAXVAL,MAXVAL],\n",
    "[7,MAXVAL,0,MAXVAL,MAXVAL,MAXVAL,MAXVAL,5],\n",
    "[1,MAXVAL,MAXVAL,0,MAXVAL,MAXVAL,8,MAXVAL],\n",
    "[MAXVAL,6,MAXVAL,MAXVAL,0,MAXVAL,7,MAXVAL],\n",
    "[MAXVAL,3,MAXVAL,MAXVAL,MAXVAL,0,9,MAXVAL],\n",
    "[MAXVAL,MAXVAL,MAXVAL,8,7,9,0,MAXVAL],\n",
    "[MAXVAL,MAXVAL,5,MAXVAL,MAXVAL,MAXVAL,4,MAXVAL]])\n"
   ]
  },
  {
   "cell_type": "code",
   "execution_count": 3,
   "metadata": {},
   "outputs": [],
   "source": [
    "nodeList=[]\n",
    "def initialDistanceMaker(source):\n",
    "    global nodeList\n",
    "    nodeList=[]\n",
    "    s=graph[source]\n",
    "    for index,value in enumerate(s):\n",
    "        if index==source:\n",
    "            tup=[index,value,1,source]#[to,cost,visited,form]\n",
    "            nodeList.append(tup)\n",
    "        else:\n",
    "            tup=[index,value,0,source]\n",
    "            nodeList.append(tup)\n",
    "    nodeList=sorted(nodeList,key=itemgetter(1))  \n",
    "    print(nodeList)"
   ]
  },
  {
   "cell_type": "code",
   "execution_count": 4,
   "metadata": {},
   "outputs": [],
   "source": [
    "def visited(tup):\n",
    "    if tup[2]==0:\n",
    "        return False\n",
    "    else:\n",
    "        return True\n",
    "def nextReadyToVisit():\n",
    "    l=[]\n",
    "    for tup in nodeList:\n",
    "        if not visited(tup):\n",
    "            l.append(tup)\n",
    "            break\n",
    "    return l[0]  "
   ]
  },
  {
   "cell_type": "code",
   "execution_count": 5,
   "metadata": {},
   "outputs": [],
   "source": [
    "def nextDistanceMaker(visiting):\n",
    "    global nodeList\n",
    "    s=graph[visiting[0]]\n",
    "    for i,tup in enumerate(nodeList):\n",
    "        if not visited(tup) and visiting[0]!=tup[0]: #not a visited and visiting node\n",
    "            if visiting[1] + graph[visiting[0],tup[0]] <tup[1]: #relaxation\n",
    "                tup[1]=visiting[1] + graph[visiting[0],tup[0]]\n",
    "                nodeList[i][1]=tup[1]\n",
    "                nodeList[i][3]=visiting[0]\n",
    "    visiting[2]=1\n",
    "    nodeList=sorted(nodeList,key=itemgetter(1))"
   ]
  },
  {
   "cell_type": "code",
   "execution_count": 6,
   "metadata": {},
   "outputs": [],
   "source": [
    "def dijxtra():\n",
    "    s=int(input(\"source \"))\n",
    "    d=int(input(\"desti \"))\n",
    "    initialDistanceMaker(s)\n",
    "    term=graph.shape[0]\n",
    "    for i in range(1,term): #1st iteration already done in initialDistanceMaker(s)\n",
    "        nextDistanceMaker(nextReadyToVisit())\n",
    "\n",
    "    "
   ]
  },
  {
   "cell_type": "code",
   "execution_count": 7,
   "metadata": {},
   "outputs": [
    {
     "name": "stdout",
     "output_type": "stream",
     "text": [
      "source 2\n",
      "desti 5\n",
      "[[2, 0, 1, 2], [7, 5, 0, 2], [0, 7, 0, 2], [1, 9999, 0, 2], [3, 9999, 0, 2], [4, 9999, 0, 2], [5, 9999, 0, 2], [6, 9999, 0, 2]]\n"
     ]
    },
    {
     "data": {
      "text/plain": [
       "[[2, 0, 1, 2],\n",
       " [7, 5, 1, 2],\n",
       " [0, 7, 1, 2],\n",
       " [3, 8, 1, 0],\n",
       " [6, 9, 1, 7],\n",
       " [1, 11, 1, 0],\n",
       " [5, 14, 1, 1],\n",
       " [4, 16, 1, 6]]"
      ]
     },
     "execution_count": 7,
     "metadata": {},
     "output_type": "execute_result"
    }
   ],
   "source": [
    "dijxtra()\n",
    "nodeList"
   ]
  },
  {
   "cell_type": "code",
   "execution_count": null,
   "metadata": {},
   "outputs": [],
   "source": []
  },
  {
   "cell_type": "code",
   "execution_count": null,
   "metadata": {},
   "outputs": [],
   "source": []
  },
  {
   "cell_type": "code",
   "execution_count": null,
   "metadata": {},
   "outputs": [],
   "source": []
  },
  {
   "cell_type": "code",
   "execution_count": null,
   "metadata": {},
   "outputs": [],
   "source": []
  },
  {
   "cell_type": "code",
   "execution_count": null,
   "metadata": {},
   "outputs": [],
   "source": []
  },
  {
   "cell_type": "code",
   "execution_count": null,
   "metadata": {},
   "outputs": [],
   "source": []
  },
  {
   "cell_type": "code",
   "execution_count": null,
   "metadata": {},
   "outputs": [],
   "source": []
  },
  {
   "cell_type": "code",
   "execution_count": null,
   "metadata": {},
   "outputs": [],
   "source": []
  },
  {
   "cell_type": "code",
   "execution_count": null,
   "metadata": {},
   "outputs": [],
   "source": []
  },
  {
   "cell_type": "code",
   "execution_count": null,
   "metadata": {},
   "outputs": [],
   "source": []
  },
  {
   "cell_type": "code",
   "execution_count": null,
   "metadata": {},
   "outputs": [],
   "source": []
  }
 ],
 "metadata": {
  "kernelspec": {
   "display_name": "Python 3",
   "language": "python",
   "name": "python3"
  },
  "language_info": {
   "codemirror_mode": {
    "name": "ipython",
    "version": 3
   },
   "file_extension": ".py",
   "mimetype": "text/x-python",
   "name": "python",
   "nbconvert_exporter": "python",
   "pygments_lexer": "ipython3",
   "version": "3.7.3"
  }
 },
 "nbformat": 4,
 "nbformat_minor": 2
}
