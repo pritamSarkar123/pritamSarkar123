{
 "cells": [
  {
   "cell_type": "code",
   "execution_count": 24,
   "metadata": {},
   "outputs": [],
   "source": [
    "\n",
    "from operator import itemgetter\n",
    "import numpy as np\n"
   ]
  },
  {
   "cell_type": "code",
   "execution_count": 25,
   "metadata": {},
   "outputs": [],
   "source": [
    "import numpy as np\n",
    "MAXVAL=9999\n",
    "graph=np.array([[0,4,7,1,MAXVAL,MAXVAL,MAXVAL,MAXVAL],\n",
    "[4,0,MAXVAL,MAXVAL,6,3,MAXVAL,MAXVAL],\n",
    "[7,MAXVAL,0,MAXVAL,MAXVAL,MAXVAL,MAXVAL,5],\n",
    "[1,MAXVAL,MAXVAL,0,MAXVAL,MAXVAL,8,MAXVAL],\n",
    "[MAXVAL,6,MAXVAL,MAXVAL,0,MAXVAL,7,MAXVAL],\n",
    "[MAXVAL,3,MAXVAL,MAXVAL,MAXVAL,0,9,MAXVAL],\n",
    "[MAXVAL,MAXVAL,MAXVAL,8,7,9,0,MAXVAL],\n",
    "[MAXVAL,MAXVAL,5,MAXVAL,MAXVAL,MAXVAL,4,MAXVAL]])\n"
   ]
  },
  {
   "cell_type": "code",
   "execution_count": 26,
   "metadata": {},
   "outputs": [],
   "source": [
    "nodeList=[]\n",
    "def initialDistanceMaker(source):\n",
    "    global nodeList\n",
    "    nodeList=[]\n",
    "    s=graph[source]\n",
    "    for index,value in enumerate(s):\n",
    "        if index==source:\n",
    "            tup=[index,value,1,source]\n",
    "            nodeList.append(tup)\n",
    "        else:\n",
    "            tup=[index,value,0,source]\n",
    "            nodeList.append(tup)\n",
    "    nodeList=sorted(nodeList,key=itemgetter(1))  "
   ]
  },
  {
   "cell_type": "code",
   "execution_count": 27,
   "metadata": {},
   "outputs": [],
   "source": [
    "def visited(tup):\n",
    "    if tup[2]==0:\n",
    "        return False\n",
    "    else:\n",
    "        return True\n",
    "def nextReadyToVisit():\n",
    "    l=[]\n",
    "    for tup in nodeList:\n",
    "        if not visited(tup):\n",
    "            l.append(tup)\n",
    "            break\n",
    "    return l[0]  "
   ]
  },
  {
   "cell_type": "code",
   "execution_count": 28,
   "metadata": {},
   "outputs": [],
   "source": [
    "def nextDistanceMaker(visiting):\n",
    "    global nodeList\n",
    "    s=graph[visiting[0]]\n",
    "    for i,tup in enumerate(nodeList):\n",
    "        if not visited(tup) and visiting[0]!=tup[0]: #not a visited and visiting node\n",
    "            if visiting[1] + graph[visiting[0],tup[0]] <tup[1]: #relaxation\n",
    "                tup[1]=visiting[1] + graph[visiting[0],tup[0]]\n",
    "                nodeList[i][1]=tup[1]\n",
    "                nodeList[i][3]=visiting[0]\n",
    "    visiting[2]=1\n",
    "    nodeList=sorted(nodeList,key=itemgetter(1))"
   ]
  },
  {
   "cell_type": "code",
   "execution_count": 29,
   "metadata": {},
   "outputs": [],
   "source": [
    "def dijxtra():\n",
    "    s=int(input(\"source \"))\n",
    "    d=int(input(\"desti \"))\n",
    "    initialDistanceMaker(s)\n",
    "    term=graph.shape[0]\n",
    "    for i in range(1,term):\n",
    "        nextDistanceMaker(nextReadyToVisit())\n",
    "\n",
    "    "
   ]
  },
  {
   "cell_type": "code",
   "execution_count": 30,
   "metadata": {},
   "outputs": [
    {
     "name": "stdout",
     "output_type": "stream",
     "text": [
      "source 0\n",
      "desti 4\n"
     ]
    },
    {
     "data": {
      "text/plain": [
       "[[0, 0, 1, 0],\n",
       " [3, 1, 1, 0],\n",
       " [1, 4, 1, 0],\n",
       " [2, 7, 1, 0],\n",
       " [5, 7, 1, 1],\n",
       " [6, 9, 1, 3],\n",
       " [4, 10, 1, 1],\n",
       " [7, 12, 1, 2]]"
      ]
     },
     "execution_count": 30,
     "metadata": {},
     "output_type": "execute_result"
    }
   ],
   "source": [
    "dijxtra()\n",
    "nodeList"
   ]
  },
  {
   "cell_type": "code",
   "execution_count": null,
   "metadata": {},
   "outputs": [],
   "source": []
  },
  {
   "cell_type": "code",
   "execution_count": null,
   "metadata": {},
   "outputs": [],
   "source": []
  },
  {
   "cell_type": "code",
   "execution_count": null,
   "metadata": {},
   "outputs": [],
   "source": []
  },
  {
   "cell_type": "code",
   "execution_count": null,
   "metadata": {},
   "outputs": [],
   "source": []
  },
  {
   "cell_type": "code",
   "execution_count": null,
   "metadata": {},
   "outputs": [],
   "source": []
  },
  {
   "cell_type": "code",
   "execution_count": null,
   "metadata": {},
   "outputs": [],
   "source": []
  },
  {
   "cell_type": "code",
   "execution_count": null,
   "metadata": {},
   "outputs": [],
   "source": []
  },
  {
   "cell_type": "code",
   "execution_count": null,
   "metadata": {},
   "outputs": [],
   "source": []
  },
  {
   "cell_type": "code",
   "execution_count": null,
   "metadata": {},
   "outputs": [],
   "source": []
  },
  {
   "cell_type": "code",
   "execution_count": null,
   "metadata": {},
   "outputs": [],
   "source": []
  },
  {
   "cell_type": "code",
   "execution_count": null,
   "metadata": {},
   "outputs": [],
   "source": []
  }
 ],
 "metadata": {
  "kernelspec": {
   "display_name": "Python 3",
   "language": "python",
   "name": "python3"
  },
  "language_info": {
   "codemirror_mode": {
    "name": "ipython",
    "version": 3
   },
   "file_extension": ".py",
   "mimetype": "text/x-python",
   "name": "python",
   "nbconvert_exporter": "python",
   "pygments_lexer": "ipython3",
   "version": "3.7.3"
  }
 },
 "nbformat": 4,
 "nbformat_minor": 2
}
