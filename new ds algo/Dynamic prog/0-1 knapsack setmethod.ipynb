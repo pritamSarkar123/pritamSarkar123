{
 "cells": [
  {
   "cell_type": "code",
   "execution_count": 163,
   "metadata": {},
   "outputs": [
    {
     "data": {
      "text/plain": [
       "[[1, 2], [2, 3], [5, 4], [6, 5]]"
      ]
     },
     "execution_count": 163,
     "metadata": {},
     "output_type": "execute_result"
    }
   ],
   "source": [
    "maxWeight=8\n",
    "noOfElements=4\n",
    "pw=[\n",
    "    [1,2],\n",
    "    [2,3],\n",
    "    [5,4],\n",
    "    [6,5]\n",
    "]\n",
    "pw"
   ]
  },
  {
   "cell_type": "code",
   "execution_count": 164,
   "metadata": {},
   "outputs": [],
   "source": [
    "s=[\n",
    "    [[0,0]]#initialy nothing is added\n",
    "]"
   ]
  },
  {
   "cell_type": "code",
   "execution_count": 165,
   "metadata": {},
   "outputs": [],
   "source": [
    "def ommitOutOfRange(b):\n",
    "    global maxWeight\n",
    "    l=[]\n",
    "    for v in b:\n",
    "        if v[1]>maxWeight:\n",
    "            l.append(v)\n",
    "    for i in l:\n",
    "        b.remove(i)\n",
    "    return b"
   ]
  },
  {
   "cell_type": "code",
   "execution_count": 166,
   "metadata": {},
   "outputs": [],
   "source": [
    "def dominance(b):\n",
    "    l=[]\n",
    "    for i in range(len(b)-1):\n",
    "        if b[i][0]<=b[i+1][0]:\n",
    "            if b[i][1]>b[i+1][1]:\n",
    "                l.append(b[i])\n",
    "    for i in l:\n",
    "        b.remove(i)\n",
    "    return b"
   ]
  },
  {
   "cell_type": "code",
   "execution_count": 167,
   "metadata": {},
   "outputs": [],
   "source": [
    "def makeSet():\n",
    "    global s,pw\n",
    "    index=0\n",
    "    for v in pw:\n",
    "        a=[]\n",
    "        for l in s[index]:\n",
    "            a.append([l[0]+v[0],l[1]+v[1]])\n",
    "        b=[]\n",
    "        for l in s[index]:\n",
    "            b.append(l)\n",
    "        for l in a:\n",
    "            if l not in b:\n",
    "                b.append(l)\n",
    "        b=ommitOutOfRange(b)\n",
    "        b.sort(key=lambda x:x[0])\n",
    "        b=dominance(b)\n",
    "        s.append(b)\n",
    "        \n",
    "        index+=1"
   ]
  },
  {
   "cell_type": "code",
   "execution_count": 168,
   "metadata": {},
   "outputs": [],
   "source": [
    "def result():\n",
    "    items={}\n",
    "    final=[]\n",
    "    for i in s[-1][-1]:\n",
    "        final.append(i)\n",
    "    item=len(s)-1\n",
    "    while item>0:\n",
    "        if final[0]>0 and final[1]>0 and final in s[item] and final not in s[item-1]:\n",
    "            items[item]=1\n",
    "            final[0]=final[0]-pw[item-1][0]\n",
    "            final[1]=final[1]-pw[item-1][1]\n",
    "        elif final[0]>0 and final[1]>0 and final in s[item] and final in s[item-1]:\n",
    "            items[item]=0\n",
    "        elif final[0]==0 and final[1]==0:\n",
    "            items[item]=0\n",
    "        item-=1\n",
    "    print(items,s[-1][-1][0])"
   ]
  },
  {
   "cell_type": "code",
   "execution_count": 169,
   "metadata": {},
   "outputs": [
    {
     "name": "stdout",
     "output_type": "stream",
     "text": [
      "{4: 1, 3: 0, 2: 1, 1: 0} 8\n"
     ]
    }
   ],
   "source": [
    "if __name__==\"__main__\":\n",
    "    makeSet()\n",
    "    result()"
   ]
  },
  {
   "cell_type": "code",
   "execution_count": 170,
   "metadata": {},
   "outputs": [
    {
     "data": {
      "text/plain": [
       "[[[0, 0]],\n",
       " [[0, 0], [1, 2]],\n",
       " [[0, 0], [1, 2], [2, 3], [3, 5]],\n",
       " [[0, 0], [1, 2], [2, 3], [5, 4], [6, 6], [7, 7]],\n",
       " [[0, 0], [1, 2], [2, 3], [5, 4], [6, 5], [7, 7], [8, 8]]]"
      ]
     },
     "execution_count": 170,
     "metadata": {},
     "output_type": "execute_result"
    }
   ],
   "source": [
    "s"
   ]
  },
  {
   "cell_type": "code",
   "execution_count": null,
   "metadata": {},
   "outputs": [],
   "source": []
  },
  {
   "cell_type": "code",
   "execution_count": null,
   "metadata": {},
   "outputs": [],
   "source": []
  },
  {
   "cell_type": "code",
   "execution_count": null,
   "metadata": {},
   "outputs": [],
   "source": []
  },
  {
   "cell_type": "code",
   "execution_count": null,
   "metadata": {},
   "outputs": [],
   "source": []
  }
 ],
 "metadata": {
  "kernelspec": {
   "display_name": "Python 3",
   "language": "python",
   "name": "python3"
  },
  "language_info": {
   "codemirror_mode": {
    "name": "ipython",
    "version": 3
   },
   "file_extension": ".py",
   "mimetype": "text/x-python",
   "name": "python",
   "nbconvert_exporter": "python",
   "pygments_lexer": "ipython3",
   "version": "3.7.6"
  }
 },
 "nbformat": 4,
 "nbformat_minor": 4
}
