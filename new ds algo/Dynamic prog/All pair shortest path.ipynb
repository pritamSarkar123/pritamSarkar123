{
 "cells": [
  {
   "cell_type": "raw",
   "metadata": {},
   "source": [
    "# Dymanic prog:O(n^3)"
   ]
  },
  {
   "cell_type": "code",
   "execution_count": 8,
   "metadata": {},
   "outputs": [
    {
     "data": {
      "text/plain": [
       "[[0, 3, 999, 7], [8, 0, 2, 999], [5, 999, 0, 1], [2, 999, 999, 0]]"
      ]
     },
     "execution_count": 8,
     "metadata": {},
     "output_type": "execute_result"
    }
   ],
   "source": [
    "MAX=999\n",
    "graph=[\n",
    "    [0,3,MAX,7],\n",
    "    [8,0,2,MAX],\n",
    "    [5,MAX,0,1],\n",
    "    [2,MAX,MAX,0]\n",
    "]\n",
    "graph"
   ]
  },
  {
   "cell_type": "code",
   "execution_count": 9,
   "metadata": {},
   "outputs": [
    {
     "data": {
      "text/plain": [
       "[[0, 3, 5, 6], [5, 0, 2, 3], [3, 6, 0, 1], [2, 5, 7, 0]]"
      ]
     },
     "execution_count": 9,
     "metadata": {},
     "output_type": "execute_result"
    }
   ],
   "source": [
    "noOfNodes=len(graph)\n",
    "for n in range(noOfNodes):\n",
    "    for i in range(noOfNodes):\n",
    "        for j in range(noOfNodes):\n",
    "            if i!=n and j!=n and i!=j:\n",
    "                graph[i][j]=min(graph[i][j],graph[i][n]+graph[n][j])\n",
    "graph"
   ]
  }
 ],
 "metadata": {
  "kernelspec": {
   "display_name": "Python 3",
   "language": "python",
   "name": "python3"
  },
  "language_info": {
   "codemirror_mode": {
    "name": "ipython",
    "version": 3
   },
   "file_extension": ".py",
   "mimetype": "text/x-python",
   "name": "python",
   "nbconvert_exporter": "python",
   "pygments_lexer": "ipython3",
   "version": "3.7.6"
  }
 },
 "nbformat": 4,
 "nbformat_minor": 4
}
