{
 "cells": [
  {
   "cell_type": "code",
   "execution_count": 50,
   "metadata": {},
   "outputs": [],
   "source": [
    "str1=\"\"\n",
    "str2=\"\"\n",
    "memory=[]"
   ]
  },
  {
   "cell_type": "code",
   "execution_count": 51,
   "metadata": {},
   "outputs": [],
   "source": [
    "str1Visited={}\n",
    "str2Visited={}\n",
    "def prepareVisited():\n",
    "    global str1Visited,str2Visited\n",
    "    for i in range(len(str1)):\n",
    "        str1Visited[i]=[0,str1[i]]\n",
    "    for i in range(len(str2)):\n",
    "        str2Visited[i]=[0,str2[i]]"
   ]
  },
  {
   "cell_type": "code",
   "execution_count": 52,
   "metadata": {},
   "outputs": [],
   "source": [
    "def createList():\n",
    "    for i in range(len(str1)+1):#row index->str1\n",
    "        l=[]\n",
    "        for j in range(len(str2)+1): #col index ->str2\n",
    "            l.append(0)\n",
    "        memory.append(l)"
   ]
  },
  {
   "cell_type": "code",
   "execution_count": 53,
   "metadata": {},
   "outputs": [],
   "source": [
    "def LCS(i,j,l1,l2):\n",
    "    global str1Visited,str2Visited\n",
    "    if memory[i][j]!=0:\n",
    "        return memory[i][j]\n",
    "    else:\n",
    "        if i==l1 or j==l2:\n",
    "            result=0\n",
    "        elif str1[i]==str2[j]:\n",
    "            if str1Visited[i][0]==0 and str2Visited[j][0]==0:\n",
    "                str1Visited[i][0]=1\n",
    "                str2Visited[j][0]=1\n",
    "                print(str1[i],end=\"\")        \n",
    "            result=1+LCS(i+1,j+1,l1,l2)\n",
    "        else:\n",
    "            result=max(LCS(i+1,j,l1,l2),LCS(i,j+1,l1,l2))\n",
    "        memory[i][j]=result\n",
    "        return result\n"
   ]
  },
  {
   "cell_type": "code",
   "execution_count": 54,
   "metadata": {},
   "outputs": [
    {
     "name": "stdout",
     "output_type": "stream",
     "text": [
      "Enter first string : abcdegfhij\n",
      "Enter second string : acfajf\n",
      "acfj\n",
      "4\n"
     ]
    }
   ],
   "source": [
    "if __name__==\"__main__\":\n",
    "    global str1,str2\n",
    "    s1=input(\"Enter first string : \")\n",
    "    s2=input(\"Enter second string : \")\n",
    "    if len(s1)>len(s2):\n",
    "        str1=s1\n",
    "        str2=s2\n",
    "    else:\n",
    "        str1=s2\n",
    "        str2=s1\n",
    "    createList()\n",
    "    prepareVisited()\n",
    "    result=LCS(0,0,len(str1),len(str2))\n",
    "    print()\n",
    "    print(result)"
   ]
  },
  {
   "cell_type": "code",
   "execution_count": 55,
   "metadata": {},
   "outputs": [
    {
     "data": {
      "text/plain": [
       "[[4, 0, 0, 0, 0, 0, 0],\n",
       " [0, 3, 2, 1, 1, 1, 0],\n",
       " [0, 3, 2, 1, 1, 1, 0],\n",
       " [0, 0, 2, 1, 1, 1, 0],\n",
       " [0, 0, 2, 1, 1, 1, 0],\n",
       " [0, 0, 2, 1, 1, 1, 0],\n",
       " [0, 0, 2, 1, 1, 1, 0],\n",
       " [0, 0, 0, 1, 1, 0, 0],\n",
       " [0, 0, 0, 1, 1, 0, 0],\n",
       " [0, 0, 0, 1, 1, 0, 0],\n",
       " [0, 0, 0, 0, 0, 0, 0]]"
      ]
     },
     "execution_count": 55,
     "metadata": {},
     "output_type": "execute_result"
    }
   ],
   "source": [
    "memory"
   ]
  },
  {
   "cell_type": "code",
   "execution_count": null,
   "metadata": {},
   "outputs": [],
   "source": []
  }
 ],
 "metadata": {
  "kernelspec": {
   "display_name": "Python 3",
   "language": "python",
   "name": "python3"
  },
  "language_info": {
   "codemirror_mode": {
    "name": "ipython",
    "version": 3
   },
   "file_extension": ".py",
   "mimetype": "text/x-python",
   "name": "python",
   "nbconvert_exporter": "python",
   "pygments_lexer": "ipython3",
   "version": "3.7.6"
  }
 },
 "nbformat": 4,
 "nbformat_minor": 4
}
