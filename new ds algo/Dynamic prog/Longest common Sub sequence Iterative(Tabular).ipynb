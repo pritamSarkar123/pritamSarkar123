{
 "cells": [
  {
   "cell_type": "raw",
   "metadata": {},
   "source": [
    "Tabular method,O(mxn) time,bottom up"
   ]
  },
  {
   "cell_type": "code",
   "execution_count": 94,
   "metadata": {},
   "outputs": [],
   "source": [
    "str1=\"\"\n",
    "str2=\"\"\n",
    "graph=[]"
   ]
  },
  {
   "cell_type": "code",
   "execution_count": 95,
   "metadata": {},
   "outputs": [],
   "source": [
    "def createGraph():\n",
    "    global graph\n",
    "    for i in range(0,len(str2)+1):\n",
    "        a=[]\n",
    "        for j in range(0,len(str1)+1):\n",
    "            a.append(0)\n",
    "        graph.append(a)"
   ]
  },
  {
   "cell_type": "code",
   "execution_count": 96,
   "metadata": {},
   "outputs": [],
   "source": [
    "def LCS():\n",
    "    global str1,str2,graph\n",
    "    for i in range(0,len(str2)+1):\n",
    "        for j in range(0,len(str1)+1):\n",
    "            if i and j:\n",
    "                if str1[j-1]==str2[i-1]:\n",
    "                    graph[i][j]=1+graph[i-1][j-1]\n",
    "                else:\n",
    "                    graph[i][j]=max(graph[i-1][j],graph[i][j-1])\n",
    "    \n",
    "    for i in range(len(graph)):\n",
    "        if i!=0:\n",
    "            if graph[i][-1]!=graph[i-1][-1]:\n",
    "                print(str2[i-1],end=\"\")\n",
    "\n",
    "    return graph[len(graph)-1][-1]"
   ]
  },
  {
   "cell_type": "code",
   "execution_count": 97,
   "metadata": {},
   "outputs": [
    {
     "name": "stdout",
     "output_type": "stream",
     "text": [
      "Enter first string : abcdefghij\n",
      "Enter second string : acfajf\n",
      "acfj\n",
      "4\n"
     ]
    }
   ],
   "source": [
    "if __name__==\"__main__\":\n",
    "    global str1,str2\n",
    "    str1=input(\"Enter first string : \")\n",
    "    str2=input(\"Enter second string : \")\n",
    "    createGraph()\n",
    "    length=LCS()\n",
    "    print()\n",
    "    print(length)"
   ]
  },
  {
   "cell_type": "code",
   "execution_count": 98,
   "metadata": {},
   "outputs": [
    {
     "data": {
      "text/plain": [
       "[[0, 0, 0, 0, 0, 0, 0, 0, 0, 0, 0],\n",
       " [0, 1, 1, 1, 1, 1, 1, 1, 1, 1, 1],\n",
       " [0, 1, 1, 2, 2, 2, 2, 2, 2, 2, 2],\n",
       " [0, 1, 1, 2, 2, 2, 3, 3, 3, 3, 3],\n",
       " [0, 1, 1, 2, 2, 2, 3, 3, 3, 3, 3],\n",
       " [0, 1, 1, 2, 2, 2, 3, 3, 3, 3, 4],\n",
       " [0, 1, 1, 2, 2, 2, 3, 3, 3, 3, 4]]"
      ]
     },
     "execution_count": 98,
     "metadata": {},
     "output_type": "execute_result"
    }
   ],
   "source": [
    "graph"
   ]
  },
  {
   "cell_type": "code",
   "execution_count": null,
   "metadata": {},
   "outputs": [],
   "source": []
  },
  {
   "cell_type": "code",
   "execution_count": null,
   "metadata": {},
   "outputs": [],
   "source": []
  },
  {
   "cell_type": "code",
   "execution_count": null,
   "metadata": {},
   "outputs": [],
   "source": []
  },
  {
   "cell_type": "code",
   "execution_count": null,
   "metadata": {},
   "outputs": [],
   "source": []
  },
  {
   "cell_type": "code",
   "execution_count": null,
   "metadata": {},
   "outputs": [],
   "source": []
  }
 ],
 "metadata": {
  "kernelspec": {
   "display_name": "Python 3",
   "language": "python",
   "name": "python3"
  },
  "language_info": {
   "codemirror_mode": {
    "name": "ipython",
    "version": 3
   },
   "file_extension": ".py",
   "mimetype": "text/x-python",
   "name": "python",
   "nbconvert_exporter": "python",
   "pygments_lexer": "ipython3",
   "version": "3.7.6"
  }
 },
 "nbformat": 4,
 "nbformat_minor": 4
}
