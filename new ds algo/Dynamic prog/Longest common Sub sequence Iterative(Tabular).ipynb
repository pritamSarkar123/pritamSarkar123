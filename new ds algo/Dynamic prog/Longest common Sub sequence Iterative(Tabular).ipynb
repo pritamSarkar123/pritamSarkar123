{
 "cells": [
  {
   "cell_type": "raw",
   "metadata": {},
   "source": [
    "Tabular method,O(mxn) time,bottom up"
   ]
  },
  {
   "cell_type": "code",
   "execution_count": 2,
   "metadata": {},
   "outputs": [
    {
     "name": "stdout",
     "output_type": "stream",
     "text": [
      "[0, 0, 0, 0, 0, 0, 0, 0]\n",
      "[0, 0, 0, 0, 0, 0, 1, 1]\n",
      "[0, 0, 0, 0, 0, 0, 1, 2]\n",
      "[0, 0, 1, 1, 1, 1, 1, 2]\n",
      "[0, 0, 1, 2, 2, 2, 2, 2]\n",
      "[0, 0, 1, 2, 2, 3, 3, 3]\n",
      "o n e "
     ]
    }
   ],
   "source": [
    "A=\" stone\"\n",
    "B=\" longest\"\n",
    "\n",
    "T=[]\n",
    "for i in range(len(A)):\n",
    "  a=[]\n",
    "  for j in range(len(B)):\n",
    "    a.append(0)\n",
    "  T.append(a[:])\n",
    "\n",
    "\n",
    "for i in range(1,len(A)):\n",
    "  for j in range(1,len(B)):\n",
    "    if A[i]==B[j]:\n",
    "      T[i][j]=1+T[i-1][j-1]\n",
    "    else:\n",
    "      T[i][j]=max(T[i][j-1],T[i-1][j])\n",
    "for i in T:\n",
    "    print(i)\n",
    "indices=[]\n",
    "i=len(A)-1\n",
    "j=len(B)-1\n",
    "while T[i][j]:\n",
    "  if T[i][j-1]!=T[i][j] and T[i-1][j]!=T[i][j]:\n",
    "    indices.append(j);i-=1;j-=1\n",
    "  elif T[i][j-1]==T[i][j]:\n",
    "    j-=1\n",
    "  elif T[i-1][j]==T[i][j]:\n",
    "    i-=1\n",
    "\n",
    "while len(indices):\n",
    "  print(B[indices.pop()],end=\" \")"
   ]
  },
  {
   "cell_type": "code",
   "execution_count": null,
   "metadata": {},
   "outputs": [],
   "source": []
  },
  {
   "cell_type": "code",
   "execution_count": null,
   "metadata": {},
   "outputs": [],
   "source": []
  },
  {
   "cell_type": "code",
   "execution_count": null,
   "metadata": {},
   "outputs": [],
   "source": []
  },
  {
   "cell_type": "code",
   "execution_count": null,
   "metadata": {},
   "outputs": [],
   "source": []
  },
  {
   "cell_type": "code",
   "execution_count": null,
   "metadata": {},
   "outputs": [],
   "source": []
  }
 ],
 "metadata": {
  "kernelspec": {
   "display_name": "Python 3",
   "language": "python",
   "name": "python3"
  },
  "language_info": {
   "codemirror_mode": {
    "name": "ipython",
    "version": 3
   },
   "file_extension": ".py",
   "mimetype": "text/x-python",
   "name": "python",
   "nbconvert_exporter": "python",
   "pygments_lexer": "ipython3",
   "version": "3.7.6"
  }
 },
 "nbformat": 4,
 "nbformat_minor": 4
}
