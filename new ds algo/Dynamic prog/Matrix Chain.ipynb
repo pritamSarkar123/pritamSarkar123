{
 "cells": [
  {
   "cell_type": "raw",
   "metadata": {},
   "source": [
    "In dynamic programming,we know all the possible paths in prior, We have to choose the better one in each step\n",
    "\n",
    "time complexity: O(n^3)"
   ]
  },
  {
   "cell_type": "code",
   "execution_count": 45,
   "metadata": {},
   "outputs": [
    {
     "name": "stdout",
     "output_type": "stream",
     "text": [
      "[[0, 0, 0, 0, 0], [0, 0, 0, 0, 0], [0, 0, 0, 0, 0], [0, 0, 0, 0, 0], [0, 0, 0, 0, 0]]\n",
      "[[0, 0, 0, 0, 0], [0, 0, 0, 0, 0], [0, 0, 0, 0, 0], [0, 0, 0, 0, 0], [0, 0, 0, 0, 0]]\n"
     ]
    }
   ],
   "source": [
    "dimentions=[5,4,6,2,7]\n",
    "noOfArrays=len(dimentions)-1\n",
    "graphCost=[]\n",
    "graphK=[]\n",
    "for i in range(len(dimentions)):\n",
    "    a=[]\n",
    "    for j in range(len(dimentions)):\n",
    "        a.append(0)\n",
    "    graphCost.append(a)\n",
    "print(graphCost)\n",
    "for i in range(len(dimentions)):\n",
    "    a=[]\n",
    "    for j in range(len(dimentions)):\n",
    "        a.append(0)\n",
    "    graphK.append(a)\n",
    "\n",
    "print(graphK)"
   ]
  },
  {
   "cell_type": "code",
   "execution_count": 46,
   "metadata": {},
   "outputs": [],
   "source": [
    "def createCost():\n",
    "    global graphCost,graphK,noOfArrays,dimentions\n",
    "    for d in range(1,noOfArrays):\n",
    "        for i in range(1,(noOfArrays-d)+1):\n",
    "            j=i+d\n",
    "            minVal=9999\n",
    "            minK=None\n",
    "            countVal=0\n",
    "            for k in range(i,j):\n",
    "                countVal=graphCost[i][k]+graphCost[k+1][j]+dimentions[i]*dimentions[k]*dimentions[j]\n",
    "                if countVal<minVal:\n",
    "                    minVal=countVal\n",
    "                    minK=k\n",
    "            graphCost[i][j]=minVal\n",
    "            graphK[i][j]=minK"
   ]
  },
  {
   "cell_type": "code",
   "execution_count": 47,
   "metadata": {},
   "outputs": [
    {
     "data": {
      "text/plain": [
       "[[0, 0, 0, 0, 0],\n",
       " [0, 0, 0, 0, 0],\n",
       " [0, 0, 0, 0, 0],\n",
       " [0, 0, 0, 0, 0],\n",
       " [0, 0, 0, 0, 0]]"
      ]
     },
     "execution_count": 47,
     "metadata": {},
     "output_type": "execute_result"
    }
   ],
   "source": [
    "graphCost"
   ]
  },
  {
   "cell_type": "code",
   "execution_count": 48,
   "metadata": {},
   "outputs": [],
   "source": [
    "def order(l,h):\n",
    "    global graphK\n",
    "    if l==h:\n",
    "        print(f'A-{l}',end=\"\")\n",
    "        return\n",
    "    else:\n",
    "        print(\"(\",end=\"\")\n",
    "        order(l,graphK[l][h])\n",
    "        order(graphK[l][h]+1,h)\n",
    "        print(\")\",end=\"\")"
   ]
  },
  {
   "cell_type": "code",
   "execution_count": 49,
   "metadata": {},
   "outputs": [
    {
     "name": "stdout",
     "output_type": "stream",
     "text": [
      "((A-1(A-2A-3))A-4)\n",
      "max cost 160\n"
     ]
    }
   ],
   "source": [
    "if __name__==\"__main__\":\n",
    "    global noOfArrays,graphCost\n",
    "    createCost()\n",
    "    order(1,noOfArrays)\n",
    "    print()\n",
    "    print(f'max cost {graphCost[1][-1]}')"
   ]
  }
 ],
 "metadata": {
  "kernelspec": {
   "display_name": "Python 3",
   "language": "python",
   "name": "python3"
  },
  "language_info": {
   "codemirror_mode": {
    "name": "ipython",
    "version": 3
   },
   "file_extension": ".py",
   "mimetype": "text/x-python",
   "name": "python",
   "nbconvert_exporter": "python",
   "pygments_lexer": "ipython3",
   "version": "3.7.6"
  }
 },
 "nbformat": 4,
 "nbformat_minor": 4
}
