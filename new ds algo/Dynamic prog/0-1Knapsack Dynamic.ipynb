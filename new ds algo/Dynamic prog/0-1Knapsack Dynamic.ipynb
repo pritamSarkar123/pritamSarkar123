{
 "cells": [
  {
   "cell_type": "raw",
   "metadata": {},
   "source": [
    "1.optimization\n",
    "2.all the possible outcome known in prior\n",
    "3.sqeuence of decissions in each step(other wise we cannot reduce time complexity from O(2^n) to O(n^2))\n",
    "\n"
   ]
  },
  {
   "cell_type": "code",
   "execution_count": 54,
   "metadata": {},
   "outputs": [],
   "source": [
    "maxWeight=8\n",
    "noOfElements=4\n",
    "profit=[1,2,5,6]\n",
    "weight=[2,3,4,5]"
   ]
  },
  {
   "cell_type": "code",
   "execution_count": 55,
   "metadata": {},
   "outputs": [
    {
     "data": {
      "text/plain": [
       "[[0, 0, 0, 0, 0, 0, 0, 0, 0],\n",
       " [0, 0, 0, 0, 0, 0, 0, 0, 0],\n",
       " [0, 0, 0, 0, 0, 0, 0, 0, 0],\n",
       " [0, 0, 0, 0, 0, 0, 0, 0, 0],\n",
       " [0, 0, 0, 0, 0, 0, 0, 0, 0]]"
      ]
     },
     "execution_count": 55,
     "metadata": {},
     "output_type": "execute_result"
    }
   ],
   "source": [
    "memory=[]\n",
    "for i in range(0,noOfElements+1): \n",
    "    l=[]\n",
    "    for w in range(0,maxWeight+1):\n",
    "        l.append(0)\n",
    "    memory.append(l)\n",
    "memory"
   ]
  },
  {
   "cell_type": "code",
   "execution_count": 56,
   "metadata": {},
   "outputs": [
    {
     "data": {
      "text/plain": [
       "[[0, 0, 0, 0, 0, 0, 0, 0, 0],\n",
       " [0, 0, 1, 1, 1, 1, 1, 1, 1],\n",
       " [0, 0, 1, 2, 2, 3, 3, 3, 3],\n",
       " [0, 0, 1, 2, 5, 5, 6, 7, 7],\n",
       " [0, 0, 1, 2, 5, 6, 6, 7, 8]]"
      ]
     },
     "execution_count": 56,
     "metadata": {},
     "output_type": "execute_result"
    }
   ],
   "source": [
    "#weight and profit index remains 1step backword\n",
    "for i in range(1,noOfElements+1):\n",
    "    for w in range(1,maxWeight+1):\n",
    "        if w-weight[i-1]<0:\n",
    "            memory[i][w]=memory[i-1][w]\n",
    "        else:\n",
    "            memory[i][w]=max(memory[i-1][w-1],memory[i-1][w-weight[i-1]]+profit[i-1])\n",
    "memory"
   ]
  },
  {
   "cell_type": "code",
   "execution_count": 57,
   "metadata": {},
   "outputs": [
    {
     "name": "stdout",
     "output_type": "stream",
     "text": [
      "{4: 1, 3: 0, 2: 1, 1: 0} 8\n"
     ]
    }
   ],
   "source": [
    "remainingProfit=memory[-1][-1]\n",
    "items={}\n",
    "item=len(memory)-1\n",
    "while item>0:\n",
    "    if remainingProfit>0 and remainingProfit in memory[item] and remainingProfit not in memory[item-1]:\n",
    "        items[item]=1\n",
    "        remainingProfit-=profit[item-1] #weight and profit index remains 1step backword\n",
    "    elif remainingProfit>0 and remainingProfit in memory[item] and remainingProfit in memory[item-1]:\n",
    "        items[item]=0\n",
    "    elif remainingProfit==0:\n",
    "        items[item]=0\n",
    "    item-=1\n",
    "print(items,memory[-1][-1])"
   ]
  },
  {
   "cell_type": "code",
   "execution_count": null,
   "metadata": {},
   "outputs": [],
   "source": []
  },
  {
   "cell_type": "code",
   "execution_count": null,
   "metadata": {},
   "outputs": [],
   "source": []
  }
 ],
 "metadata": {
  "kernelspec": {
   "display_name": "Python 3",
   "language": "python",
   "name": "python3"
  },
  "language_info": {
   "codemirror_mode": {
    "name": "ipython",
    "version": 3
   },
   "file_extension": ".py",
   "mimetype": "text/x-python",
   "name": "python",
   "nbconvert_exporter": "python",
   "pygments_lexer": "ipython3",
   "version": "3.7.6"
  }
 },
 "nbformat": 4,
 "nbformat_minor": 4
}
