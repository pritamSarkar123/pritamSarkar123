{
 "cells": [
  {
   "cell_type": "code",
   "execution_count": 133,
   "metadata": {},
   "outputs": [
    {
     "ename": "SyntaxError",
     "evalue": "invalid syntax (<ipython-input-133-99e1621ad34a>, line 1)",
     "output_type": "error",
     "traceback": [
      "\u001b[1;36m  File \u001b[1;32m\"<ipython-input-133-99e1621ad34a>\"\u001b[1;36m, line \u001b[1;32m1\u001b[0m\n\u001b[1;33m    decission in each step, feasible,optimal, constraint->Dynamic\u001b[0m\n\u001b[1;37m                         ^\u001b[0m\n\u001b[1;31mSyntaxError\u001b[0m\u001b[1;31m:\u001b[0m invalid syntax\n"
     ]
    }
   ],
   "source": [
    "decission in each step, feasible,optimal, constraint->Dynamic\n",
    "O(n^2)"
   ]
  },
  {
   "cell_type": "code",
   "execution_count": null,
   "metadata": {},
   "outputs": [],
   "source": [
    "graph=[\n",
    "    [0,9,7,3,2,0,0,0,0,0,0,0],\n",
    "    [0,0,0,0,0,4,2,1,0,0,0,0],\n",
    "    [0,0,0,0,0,2,7,0,0,0,0,0],\n",
    "    [0,0,0,0,0,0,0,11,0,0,0,0],\n",
    "    [0,0,0,0,0,0,4,8,0,0,0,0],\n",
    "    [0,0,0,0,0,0,0,0,6,5,0,0],\n",
    "    [0,0,0,0,0,0,0,0,4,3,0,0],\n",
    "    [0,0,0,0,0,0,0,0,0,5,6,0],\n",
    "    [0,0,0,0,0,0,0,0,0,0,0,4],\n",
    "    [0,0,0,0,0,0,0,0,0,0,0,2],\n",
    "    [0,0,0,0,0,0,0,0,0,0,0,5],\n",
    "    [0,0,0,0,0,0,0,0,0,0,0,0],\n",
    "]\n",
    "levels={\n",
    "    1:[0],\n",
    "    2:[1,2,3,4],\n",
    "    3:[5,6,7],\n",
    "    4:[8,9,10],\n",
    "    5:[11]\n",
    "}"
   ]
  },
  {
   "cell_type": "code",
   "execution_count": null,
   "metadata": {},
   "outputs": [],
   "source": [
    "levels"
   ]
  },
  {
   "cell_type": "code",
   "execution_count": 134,
   "metadata": {},
   "outputs": [
    {
     "data": {
      "text/plain": [
       "[5, 4, 3, 2, 1]"
      ]
     },
     "execution_count": 134,
     "metadata": {},
     "output_type": "execute_result"
    }
   ],
   "source": [
    "list(levels.keys())[::-1]"
   ]
  },
  {
   "cell_type": "code",
   "execution_count": 135,
   "metadata": {},
   "outputs": [],
   "source": [
    "def previousLevel(node):\n",
    "    global levels\n",
    "    keys=list(levels.keys())[::-1]\n",
    "    for k in keys:\n",
    "        if node in levels[k]:\n",
    "            if k>1:\n",
    "                return k-1\n",
    "            else:\n",
    "                return None"
   ]
  },
  {
   "cell_type": "code",
   "execution_count": 136,
   "metadata": {},
   "outputs": [],
   "source": [
    "path=[] #[to from cost]\n",
    "def getMinpathServingNode(node):\n",
    "    global levels,graph,path\n",
    "    level=previousLevel(node)\n",
    "    if not level:\n",
    "        return None\n",
    "    nodes=levels[level]\n",
    "    minCost=999\n",
    "    minCostNode=None\n",
    "    for n in nodes:\n",
    "        if graph[n][node]:#if path exhists then\n",
    "            if graph[n][node]<minCost:\n",
    "                minCost=graph[n][node]\n",
    "                minCostNode=n\n",
    "            \n",
    "    path.append([node,minCostNode,minCost])\n",
    "    getMinpathServingNode(minCostNode)"
   ]
  },
  {
   "cell_type": "code",
   "execution_count": 137,
   "metadata": {},
   "outputs": [
    {
     "name": "stdout",
     "output_type": "stream",
     "text": [
      "[[11, 9, 2], [9, 6, 3], [6, 1, 2], [1, 0, 9]] 16\n"
     ]
    }
   ],
   "source": [
    "if __name__=='__main__':\n",
    "    getMinpathServingNode(len(graph)-1)\n",
    "    totalPathCost=0\n",
    "    for p in path:\n",
    "        totalPathCost+=p[2]\n",
    "    print(path,totalPathCost)"
   ]
  },
  {
   "cell_type": "code",
   "execution_count": null,
   "metadata": {},
   "outputs": [],
   "source": []
  },
  {
   "cell_type": "code",
   "execution_count": null,
   "metadata": {},
   "outputs": [],
   "source": []
  },
  {
   "cell_type": "code",
   "execution_count": null,
   "metadata": {},
   "outputs": [],
   "source": []
  },
  {
   "cell_type": "code",
   "execution_count": null,
   "metadata": {},
   "outputs": [],
   "source": []
  },
  {
   "cell_type": "code",
   "execution_count": null,
   "metadata": {},
   "outputs": [],
   "source": []
  },
  {
   "cell_type": "code",
   "execution_count": null,
   "metadata": {},
   "outputs": [],
   "source": []
  }
 ],
 "metadata": {
  "kernelspec": {
   "display_name": "Python 3",
   "language": "python",
   "name": "python3"
  },
  "language_info": {
   "codemirror_mode": {
    "name": "ipython",
    "version": 3
   },
   "file_extension": ".py",
   "mimetype": "text/x-python",
   "name": "python",
   "nbconvert_exporter": "python",
   "pygments_lexer": "ipython3",
   "version": "3.7.3"
  }
 },
 "nbformat": 4,
 "nbformat_minor": 2
}
