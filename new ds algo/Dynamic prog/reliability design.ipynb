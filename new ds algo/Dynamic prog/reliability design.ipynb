{
 "cells": [
  {
   "cell_type": "code",
   "execution_count": 865,
   "metadata": {},
   "outputs": [],
   "source": [
    "#[cost,reliability,upperbound,addedor not]\n",
    "devices=[\n",
    "    [30,0.9,2,0],\n",
    "    [15,0.8,3,0],\n",
    "    [20,0.5,3,0]\n",
    "]"
   ]
  },
  {
   "cell_type": "code",
   "execution_count": 866,
   "metadata": {},
   "outputs": [],
   "source": [
    "outcome_set={0:[\n",
    "    [\n",
    "        [1,0]\n",
    "    ]\n",
    "]}"
   ]
  },
  {
   "cell_type": "code",
   "execution_count": 867,
   "metadata": {},
   "outputs": [],
   "source": [
    "capital=105"
   ]
  },
  {
   "cell_type": "code",
   "execution_count": 868,
   "metadata": {},
   "outputs": [],
   "source": [
    "def requiredCapital(ind):\n",
    "    global devices\n",
    "    s=0\n",
    "    for D in devices:\n",
    "        if D!=devices[ind] and D[3]==0:\n",
    "            s+=D[0]\n",
    "    return s"
   ]
  },
  {
   "cell_type": "code",
   "execution_count": 869,
   "metadata": {},
   "outputs": [],
   "source": [
    "def ifPossible(val,ind):\n",
    "    global capital\n",
    "    if capital<val:\n",
    "        return False\n",
    "    elif capital-val<requiredCapital(ind):\n",
    "        return False\n",
    "    return True"
   ]
  },
  {
   "cell_type": "code",
   "execution_count": 870,
   "metadata": {},
   "outputs": [],
   "source": [
    "def applyDominance(lis):\n",
    "    #print(f'before {lis}')\n",
    "    l=[]\n",
    "    for i in range(len(lis)-1):\n",
    "        #reliability nondecreased and cost decreased\n",
    "        if lis[i][0]<=lis[i+1][0] and lis[i][1]>lis[i+1][1]:\n",
    "            l.append(lis[i])\n",
    "    for i in l:\n",
    "        lis.remove(i)\n",
    "    #print(f'after {lis}')\n",
    "    return lis"
   ]
  },
  {
   "cell_type": "code",
   "execution_count": 871,
   "metadata": {},
   "outputs": [],
   "source": [
    "def outComePrepare():\n",
    "    global devices,outcome_set\n",
    "    key=0\n",
    "    for D in devices:\n",
    "        lis1=[]\n",
    "        l2=[]\n",
    "        for i in range(1,D[2]+1):#upto upper limits\n",
    "            if D[3]==0:\n",
    "                D[3]=1\n",
    "            l1=[]\n",
    "            for j in outcome_set[key][-1]:\n",
    "                if ifPossible(j[1]+i*D[0],devices.index(D)):\n",
    "                    lis1.append([j[0]*(1-(1-D[1])**i),j[1]+i*D[0]])\n",
    "                    l1.append([j[0]*(1-(1-D[1])**i),j[1]+i*D[0]])\n",
    "            l2.append(l1)\n",
    "        lis1.sort(key=lambda x:x[0])\n",
    "        outcome_set[key].append(l2)\n",
    "        key+=1\n",
    "        lis1=applyDominance(lis1)\n",
    "        outcome_set[key]=[lis1]\n",
    "    \n",
    "    "
   ]
  },
  {
   "cell_type": "code",
   "execution_count": 872,
   "metadata": {},
   "outputs": [],
   "source": [
    "def finalOp():\n",
    "    keys=list(outcome_set.keys())[::-1][1:]\n",
    "    f=outcome_set[len(outcome_set)-1][-1][-1]\n",
    "    final=outcome_set[len(outcome_set)-1][-1][-1]\n",
    "    key=keys[0]\n",
    "    while key>=0:\n",
    "        for tup in outcome_set[key][-1]:\n",
    "            if f in tup:\n",
    "                t=outcome_set[key][-1].index(tup)+1\n",
    "                print(f'{t} Device{key+1} required')           \n",
    "        val=f[1]-t*devices[key][0]        \n",
    "        f=[x for x in outcome_set[key][0] if x[1]==val][0]        \n",
    "        key-=1\n",
    "    print(f'max reliability {final[0]} with cost {final[1]}')"
   ]
  },
  {
   "cell_type": "code",
   "execution_count": 873,
   "metadata": {},
   "outputs": [
    {
     "name": "stdout",
     "output_type": "stream",
     "text": [
      "2 Device3 required\n",
      "2 Device2 required\n",
      "1 Device1 required\n",
      "max reliability 0.648 with cost 100\n"
     ]
    }
   ],
   "source": [
    "if __name__==\"__main__\":\n",
    "    outComePrepare()\n",
    "    finalOp()"
   ]
  },
  {
   "cell_type": "code",
   "execution_count": 874,
   "metadata": {},
   "outputs": [
    {
     "data": {
      "text/plain": [
       "{0: [[[1, 0]], [[[0.9, 30]], [[0.99, 60]]]],\n",
       " 1: [[[0.9, 30], [0.99, 60]],\n",
       "  [[[0.7200000000000001, 45], [0.792, 75]], [[0.864, 60]], [[0.8928, 75]]]],\n",
       " 2: [[[0.7200000000000001, 45], [0.864, 60], [0.8928, 75]],\n",
       "  [[[0.36000000000000004, 65], [0.432, 80], [0.4464, 95]],\n",
       "   [[0.54, 85], [0.648, 100]],\n",
       "   [[0.6300000000000001, 105]]]],\n",
       " 3: [[[0.36000000000000004, 65], [0.432, 80], [0.54, 85], [0.648, 100]]]}"
      ]
     },
     "execution_count": 874,
     "metadata": {},
     "output_type": "execute_result"
    }
   ],
   "source": [
    "outcome_set"
   ]
  }
 ],
 "metadata": {
  "kernelspec": {
   "display_name": "Python 3",
   "language": "python",
   "name": "python3"
  },
  "language_info": {
   "codemirror_mode": {
    "name": "ipython",
    "version": 3
   },
   "file_extension": ".py",
   "mimetype": "text/x-python",
   "name": "python",
   "nbconvert_exporter": "python",
   "pygments_lexer": "ipython3",
   "version": "3.7.6"
  }
 },
 "nbformat": 4,
 "nbformat_minor": 4
}
