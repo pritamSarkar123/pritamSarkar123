{
 "cells": [
  {
   "cell_type": "raw",
   "metadata": {},
   "source": [
    "We will use memoization to reduce time complexity from O(2^(mxn)) to O(mxn)//m , n lengths of substring,\n",
    "it is a top down approach\n",
    "##problemetic in finding the string"
   ]
  },
  {
   "cell_type": "code",
   "execution_count": 1,
   "metadata": {},
   "outputs": [],
   "source": [
    "from functools import lru_cache"
   ]
  },
  {
   "cell_type": "code",
   "execution_count": 2,
   "metadata": {},
   "outputs": [],
   "source": [
    "str1=\"\"\n",
    "str2=\"\"\n",
    "str1Visited={}\n",
    "str2Visited={}\n",
    "def prepareVisited():\n",
    "    global str1Visited,str2Visited\n",
    "    for i in range(len(str1)):\n",
    "        str1Visited[i]=[0,str1[i]]\n",
    "    for i in range(len(str2)):\n",
    "        str2Visited[i]=[0,str2[i]]"
   ]
  },
  {
   "cell_type": "code",
   "execution_count": 3,
   "metadata": {},
   "outputs": [],
   "source": [
    "@lru_cache(maxsize=150)\n",
    "def LCS(i,j,l1,l2):\n",
    "    global str1Visited,str2Visited\n",
    "    if i==l1 or j==l2:\n",
    "        return 0\n",
    "    elif str1[i]==str2[j]:\n",
    "        if str1Visited[i][0]==0 and str2Visited[j][0]==0:\n",
    "            str1Visited[i][0]=1\n",
    "            str2Visited[j][0]=1\n",
    "            print(str1[i],end=\"\")\n",
    "        return 1+LCS(i+1,j+1,l1,l2)\n",
    "    else:\n",
    "        return max(LCS(i+1,j,l1,l2),LCS(i,j+1,l1,l2))"
   ]
  },
  {
   "cell_type": "code",
   "execution_count": 4,
   "metadata": {},
   "outputs": [
    {
     "name": "stdout",
     "output_type": "stream",
     "text": [
      "Enter first string : abcdefghij\n",
      "Enter second string : acfajf\n",
      "acfj\n",
      "4\n"
     ]
    }
   ],
   "source": [
    "if __name__==\"__main__\":\n",
    "    global str1,str2\n",
    "    s1=input(\"Enter first string : \")\n",
    "    s2=input(\"Enter second string : \")\n",
    "    if len(s1)>len(s2):\n",
    "        str1=s1\n",
    "        str2=s2\n",
    "    else:\n",
    "        str1=s2\n",
    "        str2=s1\n",
    "    prepareVisited()\n",
    "    lcs_len=LCS(0,0,len(str1),len(str2))\n",
    "    print()\n",
    "    print(lcs_len)"
   ]
  },
  {
   "cell_type": "code",
   "execution_count": null,
   "metadata": {},
   "outputs": [],
   "source": []
  },
  {
   "cell_type": "code",
   "execution_count": null,
   "metadata": {},
   "outputs": [],
   "source": []
  },
  {
   "cell_type": "code",
   "execution_count": null,
   "metadata": {},
   "outputs": [],
   "source": []
  },
  {
   "cell_type": "code",
   "execution_count": null,
   "metadata": {},
   "outputs": [],
   "source": []
  }
 ],
 "metadata": {
  "kernelspec": {
   "display_name": "Python 3",
   "language": "python",
   "name": "python3"
  },
  "language_info": {
   "codemirror_mode": {
    "name": "ipython",
    "version": 3
   },
   "file_extension": ".py",
   "mimetype": "text/x-python",
   "name": "python",
   "nbconvert_exporter": "python",
   "pygments_lexer": "ipython3",
   "version": "3.7.6"
  }
 },
 "nbformat": 4,
 "nbformat_minor": 4
}
