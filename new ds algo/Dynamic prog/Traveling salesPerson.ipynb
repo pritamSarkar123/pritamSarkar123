{
 "cells": [
  {
   "cell_type": "raw",
   "metadata": {},
   "source": [
    "O(2^n)"
   ]
  },
  {
   "cell_type": "code",
   "execution_count": 50,
   "metadata": {},
   "outputs": [],
   "source": [
    "graph=[\n",
    "    [0,10,15,20],\n",
    "    [5,0,9,10],\n",
    "    [6,13,0,12],\n",
    "    [8,8,9,0]\n",
    "]"
   ]
  },
  {
   "cell_type": "code",
   "execution_count": 51,
   "metadata": {},
   "outputs": [],
   "source": [
    "nodeSet=set([])\n",
    "startNode=None"
   ]
  },
  {
   "cell_type": "code",
   "execution_count": 52,
   "metadata": {},
   "outputs": [],
   "source": [
    "for i in range(len(graph)):\n",
    "    nodeSet.add(i)"
   ]
  },
  {
   "cell_type": "code",
   "execution_count": 53,
   "metadata": {},
   "outputs": [],
   "source": [
    "def getPathCost(i,Set):\n",
    "    global startNode,graph\n",
    "    if not len(Set):\n",
    "        return graph[i][startNode] #g(i,{})->return graph[i][startNode]\n",
    "    minCost=9999\n",
    "    for k in Set:\n",
    "        minCost=min(minCost,(graph[i][k]+getPathCost(k,Set.difference({k}))))#min(g(k,{...}-{k}))\n",
    "    return minCost\n",
    "    "
   ]
  },
  {
   "cell_type": "code",
   "execution_count": 54,
   "metadata": {},
   "outputs": [
    {
     "name": "stdout",
     "output_type": "stream",
     "text": [
      "The starting node0\n",
      "\n",
      "35\n"
     ]
    }
   ],
   "source": [
    "if __name__==\"__main__\":\n",
    "    global nodeSet,startNode\n",
    "    startNode=int(input(\"The starting node\"))\n",
    "    pathCost=getPathCost(startNode,nodeSet.difference({startNode}))\n",
    "    print()\n",
    "    print(pathCost)"
   ]
  },
  {
   "cell_type": "code",
   "execution_count": null,
   "metadata": {},
   "outputs": [],
   "source": []
  },
  {
   "cell_type": "code",
   "execution_count": null,
   "metadata": {},
   "outputs": [],
   "source": []
  },
  {
   "cell_type": "code",
   "execution_count": null,
   "metadata": {},
   "outputs": [],
   "source": []
  },
  {
   "cell_type": "code",
   "execution_count": null,
   "metadata": {},
   "outputs": [],
   "source": []
  }
 ],
 "metadata": {
  "kernelspec": {
   "display_name": "Python 3",
   "language": "python",
   "name": "python3"
  },
  "language_info": {
   "codemirror_mode": {
    "name": "ipython",
    "version": 3
   },
   "file_extension": ".py",
   "mimetype": "text/x-python",
   "name": "python",
   "nbconvert_exporter": "python",
   "pygments_lexer": "ipython3",
   "version": "3.7.6"
  }
 },
 "nbformat": 4,
 "nbformat_minor": 4
}
