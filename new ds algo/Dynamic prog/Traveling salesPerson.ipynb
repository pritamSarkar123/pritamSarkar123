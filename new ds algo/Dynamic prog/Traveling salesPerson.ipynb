{
 "cells": [
  {
   "cell_type": "raw",
   "metadata": {},
   "source": [
    "O(2^n * n^2)"
   ]
  },
  {
   "cell_type": "code",
   "execution_count": 609,
   "metadata": {},
   "outputs": [],
   "source": [
    "#Problem destination\n",
    "#https://www.youtube.com/watch?v=XaXsJJh-Q5Y"
   ]
  },
  {
   "cell_type": "code",
   "execution_count": 610,
   "metadata": {},
   "outputs": [],
   "source": [
    "cost=[[0,0,0,0,0,0],[0,0,10,15,20],[0,5,0,9,10],[0,6,13,0,12],[0,8,8,9,0]]"
   ]
  },
  {
   "cell_type": "code",
   "execution_count": 611,
   "metadata": {},
   "outputs": [
    {
     "name": "stdout",
     "output_type": "stream",
     "text": [
      "4\n"
     ]
    }
   ],
   "source": [
    "noOfNodes=len(cost)-1\n",
    "print(noOfNodes)"
   ]
  },
  {
   "cell_type": "code",
   "execution_count": 612,
   "metadata": {},
   "outputs": [],
   "source": [
    "\n",
    "starting_vertex=1\n",
    "available=[0]*(noOfNodes+1)\n",
    "available[starting_vertex]=1\n",
    "destiCostDict={} #[cost, desti] "
   ]
  },
  {
   "cell_type": "code",
   "execution_count": 613,
   "metadata": {},
   "outputs": [
    {
     "name": "stdout",
     "output_type": "stream",
     "text": [
      "[0, 1, 0, 0, 0] 3\n"
     ]
    }
   ],
   "source": [
    "remaining=len(available)-2 #node from 1 #starting filled"
   ]
  },
  {
   "cell_type": "code",
   "execution_count": 614,
   "metadata": {},
   "outputs": [],
   "source": [
    "def findMinPath(s):\n",
    "    global available,remaining,starting_vertex,cost,destiCostDict\n",
    "    if remaining==0:\n",
    "#         print(f\"min node from {s} is {starting_vertex} cost= {cost[s][starting_vertex]}\")\n",
    "        destiCostDict[(s,tuple())]=[cost[s][starting_vertex],starting_vertex]\n",
    "        return cost[s][starting_vertex]+0\n",
    "    else:\n",
    "        min_cost=9999\n",
    "        min_node=-1\n",
    "        remainingNodes=[]\n",
    "        for i in range(1,len(available)):\n",
    "            if available[i]==0:\n",
    "                remainingNodes.append(i)\n",
    "                available[i]=1\n",
    "                remaining-=1\n",
    "                q=cost[s][i]+findMinPath(i)\n",
    "                if q<min_cost:\n",
    "                    min_cost=q\n",
    "                    min_node=i\n",
    "                available[i]=0\n",
    "                remaining+=1\n",
    "        destiCostDict[(s,tuple(remainingNodes[:]))]=[min_cost,min_node]\n",
    "#         print(f\"min node from {s} is {min_node} cost= {min_cost}\")\n",
    "        return min_cost                     "
   ]
  },
  {
   "cell_type": "code",
   "execution_count": 615,
   "metadata": {},
   "outputs": [
    {
     "name": "stdout",
     "output_type": "stream",
     "text": [
      "min cost 35\n",
      "(4, ()) [8, 1]\n",
      "(3, (4,)) [20, 4]\n",
      "(3, ()) [6, 1]\n",
      "(4, (3,)) [15, 3]\n",
      "(2, (3, 4)) [25, 4]\n",
      "(2, (4,)) [18, 4]\n",
      "(2, ()) [5, 1]\n",
      "(4, (2,)) [13, 2]\n",
      "(3, (2, 4)) [25, 4]\n",
      "(2, (3,)) [15, 3]\n",
      "(3, (2,)) [18, 2]\n",
      "(4, (2, 3)) [23, 2]\n",
      "(1, (2, 3, 4)) [35, 2]\n"
     ]
    }
   ],
   "source": [
    "if __name__==\"__main__\":\n",
    "    print(f\"min cost {findMinPath(starting_vertex)}\")\n",
    "    for item in destiCostDict:\n",
    "        print(item,destiCostDict[item])"
   ]
  },
  {
   "cell_type": "code",
   "execution_count": 616,
   "metadata": {},
   "outputs": [],
   "source": [
    "key=list(destiCostDict.keys())[-1]\n",
    "remaining=noOfNodes-1\n",
    "visited=[0]*(noOfNodes+1)\n",
    "visited[starting_vertex]=1"
   ]
  },
  {
   "cell_type": "code",
   "execution_count": 617,
   "metadata": {},
   "outputs": [
    {
     "name": "stdout",
     "output_type": "stream",
     "text": [
      "from 1 to 2\n",
      "from 2 to 4\n",
      "from 4 to 3\n",
      "from 3 to 1\n",
      "Total path cost 35\n"
     ]
    }
   ],
   "source": [
    "while destiCostDict[key][1]!=-1:\n",
    "    min_cost=9999\n",
    "    min_desti=-1\n",
    "    value=destiCostDict[key]\n",
    "    remaining-=1\n",
    "    print(f\"from {key[0]} to {value[1]}\")\n",
    "    visited[value[1]]=1\n",
    "    for k in destiCostDict:\n",
    "        if k[0]==value[1] and len(k[1])==remaining and visited[destiCostDict[k][1]]==0:\n",
    "            if destiCostDict[k][0]<min_cost:\n",
    "                min_cost=destiCostDict[k][0]\n",
    "                min_desti=k\n",
    "    if min_desti==-1:\n",
    "        key=value[1]\n",
    "        break\n",
    "    key=min_desti\n",
    "print(f\"from {key} to {starting_vertex}\")\n",
    "                \n",
    "print(f\"Total path cost {destiCostDict[list(destiCostDict.keys())[-1]][0]}\")"
   ]
  },
  {
   "cell_type": "code",
   "execution_count": null,
   "metadata": {},
   "outputs": [],
   "source": []
  },
  {
   "cell_type": "code",
   "execution_count": null,
   "metadata": {},
   "outputs": [],
   "source": []
  },
  {
   "cell_type": "code",
   "execution_count": null,
   "metadata": {},
   "outputs": [],
   "source": []
  }
 ],
 "metadata": {
  "kernelspec": {
   "display_name": "Python 3",
   "language": "python",
   "name": "python3"
  },
  "language_info": {
   "codemirror_mode": {
    "name": "ipython",
    "version": 3
   },
   "file_extension": ".py",
   "mimetype": "text/x-python",
   "name": "python",
   "nbconvert_exporter": "python",
   "pygments_lexer": "ipython3",
   "version": "3.7.6"
  }
 },
 "nbformat": 4,
 "nbformat_minor": 4
}
