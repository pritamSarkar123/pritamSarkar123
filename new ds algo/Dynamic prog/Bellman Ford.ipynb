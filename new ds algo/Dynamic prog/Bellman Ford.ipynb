{
 "cells": [
  {
   "cell_type": "raw",
   "metadata": {},
   "source": [
    "Dynamic programming,\n",
    "single source shortest path algo\n",
    "time O(|E|x(|V|-1))-->for complete graph it become O(n^3)\n",
    "can not perform when negative cycle is present"
   ]
  },
  {
   "cell_type": "code",
   "execution_count": 85,
   "metadata": {},
   "outputs": [],
   "source": [
    "graph=[\n",
    "    [0,0,0,0,0,0,0,0],\n",
    "    [0,0,6,5,5,0,0,0],\n",
    "    [0,0,0,0,0,-1,0,0],\n",
    "    [0,0,-2,0,0,1,0,0],\n",
    "    [0,0,0,-2,0,0,-1,0],\n",
    "    [0,0,0,0,0,0,0,3],\n",
    "    [0,0,0,0,0,0,0,3],\n",
    "    [0,0,0,0,0,0,0,0]\n",
    "]"
   ]
  },
  {
   "cell_type": "code",
   "execution_count": 86,
   "metadata": {},
   "outputs": [],
   "source": [
    "edgeList=[]\n",
    "def makeEdgeList():\n",
    "    global edgeList\n",
    "    for i in range(1,len(graph)):\n",
    "        for j in range(1,len(graph)):\n",
    "            if graph[i][j]:\n",
    "                edgeList.append([i,j])\n",
    "    #print(edgeList)\n"
   ]
  },
  {
   "cell_type": "code",
   "execution_count": 87,
   "metadata": {},
   "outputs": [],
   "source": [
    "nodes=[]\n",
    "MAX=9999\n",
    "def initialNodeValues(startingNode=0):\n",
    "    global nodes\n",
    "    for i in range(len(graph[startingNode])):\n",
    "        if i==startingNode:\n",
    "                nodes.append([i,0])\n",
    "        else:\n",
    "            nodes.append([i,MAX])\n",
    "    #print(nodes)"
   ]
  },
  {
   "cell_type": "code",
   "execution_count": 88,
   "metadata": {},
   "outputs": [
    {
     "name": "stdout",
     "output_type": "stream",
     "text": [
      "[-1, -1, -1, -1, -1, -1, -1, -1]\n"
     ]
    }
   ],
   "source": [
    "path=[-1]*len(graph) #[from ,to]\n",
    "print(path)"
   ]
  },
  {
   "cell_type": "code",
   "execution_count": 89,
   "metadata": {},
   "outputs": [],
   "source": [
    "def relaxAll():\n",
    "    global graph,nodes,edgeList,path\n",
    "    for ite in range(len(graph)-1):\n",
    "        changeMade=False\n",
    "        for edge in edgeList:\n",
    "            if nodes[edge[0]][1]+graph[edge[0]][edge[1]]<nodes[edge[1]][1]:#d(u)+c[u,v]<d(v)\n",
    "                nodes[edge[1]][1]=nodes[edge[0]][1]+graph[edge[0]][edge[1]]\n",
    "                path[edge[1]]=edge[0]\n",
    "                changeMade=True\n",
    "        if not changeMade:\n",
    "            return\n",
    "                "
   ]
  },
  {
   "cell_type": "code",
   "execution_count": 90,
   "metadata": {},
   "outputs": [
    {
     "name": "stdout",
     "output_type": "stream",
     "text": [
      "Enter the starting node1\n",
      "[-1, 1, 3, 4, 1, 2, 4, 5]\n",
      "5->7  \n",
      "2->5  \n",
      "3->2  \n",
      "4->3  \n",
      "1->4  \n"
     ]
    }
   ],
   "source": [
    "if __name__==\"__main__\":\n",
    "    makeEdgeList()\n",
    "    n =int(input(\"Enter the starting node\"))\n",
    "    initialNodeValues(startingNode=n)\n",
    "    path[n]=n\n",
    "    relaxAll()\n",
    "    print(path)\n",
    "    \n",
    "    i=len(graph)-1\n",
    "    while i!=n:\n",
    "        print(f\"{path[i]}->{i}  \")\n",
    "        i=path[i]"
   ]
  }
 ],
 "metadata": {
  "kernelspec": {
   "display_name": "Python 3",
   "language": "python",
   "name": "python3"
  },
  "language_info": {
   "codemirror_mode": {
    "name": "ipython",
    "version": 3
   },
   "file_extension": ".py",
   "mimetype": "text/x-python",
   "name": "python",
   "nbconvert_exporter": "python",
   "pygments_lexer": "ipython3",
   "version": "3.7.6"
  }
 },
 "nbformat": 4,
 "nbformat_minor": 4
}
