{
 "cells": [
  {
   "cell_type": "raw",
   "metadata": {},
   "source": [
    "factoraization O(n^2) not good"
   ]
  },
  {
   "cell_type": "code",
   "execution_count": 5,
   "metadata": {},
   "outputs": [
    {
     "data": {
      "text/plain": [
       "1"
      ]
     },
     "execution_count": 5,
     "metadata": {},
     "output_type": "execute_result"
    }
   ],
   "source": [
    "def gcdOne(a,b): \n",
    "    f1=[]\n",
    "    for i in range(1,a+1):\n",
    "        if a%i==0:\n",
    "            f1.append(i)\n",
    "    f2=[]\n",
    "    for i in range(1,b+1):\n",
    "        if b%i==0:\n",
    "            f2.append(i)\n",
    "    common=[]\n",
    "    for i in f1:\n",
    "        for j in f2:\n",
    "            if i==j:\n",
    "                common.append(i)\n",
    "    return max(common) #or common[-1]\n",
    "\n",
    "gcdOne(18,25)"
   ]
  },
  {
   "cell_type": "raw",
   "metadata": {},
   "source": [
    "O(n) quite good"
   ]
  },
  {
   "cell_type": "code",
   "execution_count": 17,
   "metadata": {},
   "outputs": [
    {
     "data": {
      "text/plain": [
       "2"
      ]
     },
     "execution_count": 17,
     "metadata": {},
     "output_type": "execute_result"
    }
   ],
   "source": [
    "def gcdTwo(a,b):\n",
    "    for i in range(1,min(a,b)+1):\n",
    "        if a%i==0 and b%i==0:\n",
    "            maxFactor=i\n",
    "    return maxFactor\n",
    "\n",
    "gcdTwo(18,14)\n",
    "    "
   ]
  },
  {
   "cell_type": "raw",
   "metadata": {},
   "source": [
    "back to front"
   ]
  },
  {
   "cell_type": "code",
   "execution_count": 23,
   "metadata": {},
   "outputs": [
    {
     "data": {
      "text/plain": [
       "6"
      ]
     },
     "execution_count": 23,
     "metadata": {},
     "output_type": "execute_result"
    }
   ],
   "source": [
    "def gcdFive(a,b):\n",
    "    for i in range(min(a,b)+1,1,-1):\n",
    "        if a%i==0 and b%i==0:\n",
    "            return i\n",
    "gcdFive(18,12)\n",
    "    "
   ]
  },
  {
   "cell_type": "code",
   "execution_count": 28,
   "metadata": {},
   "outputs": [
    {
     "data": {
      "text/plain": [
       "1"
      ]
     },
     "execution_count": 28,
     "metadata": {},
     "output_type": "execute_result"
    }
   ],
   "source": [
    "def gcdThree(a,b):\n",
    "    if b>=a:\n",
    "        a,b=b,a\n",
    "    while a%b!=0:\n",
    "        a,b=b,a%b\n",
    "    return b\n",
    "gcdThree(18,25)"
   ]
  },
  {
   "cell_type": "raw",
   "metadata": {},
   "source": [
    "gcd(a,b)=\n",
    "{\n",
    "    0 if a=0 b=0\n",
    "    a if b=0\n",
    "    b if a=0\n",
    "    gcd(b,a%b) otherwise\n",
    "}"
   ]
  },
  {
   "cell_type": "code",
   "execution_count": 30,
   "metadata": {},
   "outputs": [
    {
     "data": {
      "text/plain": [
       "6"
      ]
     },
     "execution_count": 30,
     "metadata": {},
     "output_type": "execute_result"
    }
   ],
   "source": [
    "def gcdFour(a,b):\n",
    "    if b>=a:\n",
    "        a,b=b,a\n",
    "    if a%b==0:\n",
    "        return b\n",
    "    return gcdFour(b,a%b)\n",
    "gcdFour(18,12)"
   ]
  },
  {
   "cell_type": "code",
   "execution_count": 2,
   "metadata": {},
   "outputs": [
    {
     "data": {
      "text/plain": [
       "'hello\\nworld\\'\\nI am \"pritam\"'"
      ]
     },
     "execution_count": 2,
     "metadata": {},
     "output_type": "execute_result"
    }
   ],
   "source": [
    "'''hello\n",
    "world'\n",
    "I am \"pritam\"''' "
   ]
  },
  {
   "cell_type": "code",
   "execution_count": null,
   "metadata": {},
   "outputs": [],
   "source": []
  }
 ],
 "metadata": {
  "kernelspec": {
   "display_name": "Python 3",
   "language": "python",
   "name": "python3"
  },
  "language_info": {
   "codemirror_mode": {
    "name": "ipython",
    "version": 3
   },
   "file_extension": ".py",
   "mimetype": "text/x-python",
   "name": "python",
   "nbconvert_exporter": "python",
   "pygments_lexer": "ipython3",
   "version": "3.7.3"
  }
 },
 "nbformat": 4,
 "nbformat_minor": 2
}
