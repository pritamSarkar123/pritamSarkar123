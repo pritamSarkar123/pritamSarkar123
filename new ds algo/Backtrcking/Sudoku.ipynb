{
 "cells": [
  {
   "cell_type": "code",
   "execution_count": 62,
   "metadata": {},
   "outputs": [
    {
     "data": {
      "text/plain": [
       "matrix([[5, 3, 0, 0, 7, 0, 0, 0, 0],\n",
       "        [6, 0, 0, 1, 9, 5, 0, 0, 0],\n",
       "        [0, 9, 8, 0, 0, 0, 0, 6, 0],\n",
       "        [8, 0, 0, 0, 6, 0, 0, 0, 3],\n",
       "        [4, 0, 0, 8, 0, 3, 0, 0, 1],\n",
       "        [7, 0, 0, 0, 2, 0, 0, 0, 6],\n",
       "        [0, 6, 0, 0, 0, 0, 2, 8, 0],\n",
       "        [0, 0, 0, 4, 1, 9, 0, 0, 5],\n",
       "        [0, 0, 0, 0, 8, 0, 0, 7, 9]])"
      ]
     },
     "execution_count": 62,
     "metadata": {},
     "output_type": "execute_result"
    }
   ],
   "source": [
    "import numpy as np\n",
    "game=[\n",
    "    [5,3,0,0,7,0,0,0,0],\n",
    "    [6,0,0,1,9,5,0,0,0],\n",
    "    [0,9,8,0,0,0,0,6,0],\n",
    "    [8,0,0,0,6,0,0,0,3],\n",
    "    [4,0,0,8,0,3,0,0,1],\n",
    "    [7,0,0,0,2,0,0,0,6],\n",
    "    [0,6,0,0,0,0,2,8,0],\n",
    "    [0,0,0,4,1,9,0,0,5],\n",
    "    [0,0,0,0,8,0,0,7,9]\n",
    "]\n",
    "game=np.matrix(game)\n",
    "game"
   ]
  },
  {
   "cell_type": "code",
   "execution_count": 63,
   "metadata": {},
   "outputs": [],
   "source": [
    "def isInRow(num,r):\n",
    "    global game\n",
    "    for c in range(len(game)):\n",
    "        if game[r,c]==num:\n",
    "            return True\n",
    "    return False"
   ]
  },
  {
   "cell_type": "code",
   "execution_count": 64,
   "metadata": {},
   "outputs": [],
   "source": [
    "def isInCol(num,c):\n",
    "    global game\n",
    "    for r in range(len(game)):\n",
    "        if game[r,c]==num:\n",
    "            return True\n",
    "    return False"
   ]
  },
  {
   "cell_type": "code",
   "execution_count": 65,
   "metadata": {},
   "outputs": [],
   "source": [
    "def isInBox(num,r,c):\n",
    "    global game\n",
    "    ranges=[[0,1,2],[3,4,5],[6,7,8]]\n",
    "    row=ranges[r//3]\n",
    "    col=ranges[c//3]\n",
    "    for i in row:\n",
    "        for j in col:\n",
    "            if game[i,j]==num:\n",
    "                return True\n",
    "    return False"
   ]
  },
  {
   "cell_type": "code",
   "execution_count": 66,
   "metadata": {},
   "outputs": [],
   "source": [
    "def possible(num,r,c):\n",
    "    return not isInRow(num,r) and not isInCol(num,c) and not isInBox(num,r,c)"
   ]
  },
  {
   "cell_type": "code",
   "execution_count": 67,
   "metadata": {},
   "outputs": [],
   "source": [
    "def play():\n",
    "    global game\n",
    "    for r in range(len(game)):\n",
    "        for c in range(len(game)):\n",
    "            if not game[r,c]:#try to fill a num in blank place\n",
    "                for num in range(1,10):\n",
    "                    if possible(num,r,c):\n",
    "                        game[r,c]=num\n",
    "                        play()\n",
    "                        game[r,c]=0\n",
    "            #if no number can be assigned to that position then return to previous state\n",
    "            if not game[r,c]:\n",
    "                return\n",
    "    print(game)"
   ]
  },
  {
   "cell_type": "code",
   "execution_count": 68,
   "metadata": {},
   "outputs": [
    {
     "name": "stdout",
     "output_type": "stream",
     "text": [
      "[[5 3 4 6 7 8 9 1 2]\n",
      " [6 7 2 1 9 5 3 4 8]\n",
      " [1 9 8 3 4 2 5 6 7]\n",
      " [8 5 9 7 6 1 4 2 3]\n",
      " [4 2 6 8 5 3 7 9 1]\n",
      " [7 1 3 9 2 4 8 5 6]\n",
      " [9 6 1 5 3 7 2 8 4]\n",
      " [2 8 7 4 1 9 6 3 5]\n",
      " [3 4 5 2 8 6 1 7 9]]\n"
     ]
    }
   ],
   "source": [
    "if __name__==\"__main__\":\n",
    "    play()"
   ]
  },
  {
   "cell_type": "code",
   "execution_count": null,
   "metadata": {},
   "outputs": [],
   "source": []
  }
 ],
 "metadata": {
  "kernelspec": {
   "display_name": "Python 3",
   "language": "python",
   "name": "python3"
  },
  "language_info": {
   "codemirror_mode": {
    "name": "ipython",
    "version": 3
   },
   "file_extension": ".py",
   "mimetype": "text/x-python",
   "name": "python",
   "nbconvert_exporter": "python",
   "pygments_lexer": "ipython3",
   "version": "3.7.6"
  }
 },
 "nbformat": 4,
 "nbformat_minor": 4
}
