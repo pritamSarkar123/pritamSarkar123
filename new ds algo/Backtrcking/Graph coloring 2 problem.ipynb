{
 "cells": [
  {
   "cell_type": "code",
   "execution_count": 538,
   "metadata": {},
   "outputs": [],
   "source": [
    "##self node adj==0\n",
    "graph=[\n",
    "    [0,1,1,1],\n",
    "    [1,0,0,1],\n",
    "    [1,0,0,1],\n",
    "    [1,1,1,0]\n",
    "]"
   ]
  },
  {
   "cell_type": "markdown",
   "metadata": {},
   "source": [
    "# Common Functions"
   ]
  },
  {
   "cell_type": "code",
   "execution_count": 539,
   "metadata": {},
   "outputs": [],
   "source": [
    "degreeColorList=[] #[node,degree,color]"
   ]
  },
  {
   "cell_type": "code",
   "execution_count": 540,
   "metadata": {},
   "outputs": [],
   "source": [
    "def getAdjacents(node):\n",
    "    adjacents=[]\n",
    "    for n,val in enumerate(graph[node]):\n",
    "        if val:\n",
    "            adjacents.append(n)\n",
    "    return adjacents"
   ]
  },
  {
   "cell_type": "markdown",
   "metadata": {},
   "source": [
    "# Problem 1: finding chromatic no(GREEDY approach)"
   ]
  },
  {
   "cell_type": "code",
   "execution_count": 541,
   "metadata": {},
   "outputs": [],
   "source": [
    "def setListChromatic():\n",
    "    global degreeColorList\n",
    "    for num,node in enumerate(graph):\n",
    "        count=0\n",
    "        for i in node:\n",
    "            if i:\n",
    "                count+=1\n",
    "        degreeColorList.append([num,count,0])\n",
    "    degreeColorList.sort(key=lambda x:x[1])\n",
    "    degreeColorList=degreeColorList[::-1]"
   ]
  },
  {
   "cell_type": "code",
   "execution_count": 542,
   "metadata": {},
   "outputs": [],
   "source": [
    "def isAdjacentSameColorChromatic(node,color):\n",
    "    adjacents=getAdjacents(node)\n",
    "    for item in degreeColorList:\n",
    "        if item[0] in adjacents and item[2]==color:\n",
    "            return True\n",
    "    return False"
   ]
  },
  {
   "cell_type": "code",
   "execution_count": 543,
   "metadata": {},
   "outputs": [],
   "source": [
    "def colorGraph():\n",
    "    global degreeColorList\n",
    "    color=1\n",
    "    for element in degreeColorList:\n",
    "        for c in range(1,color+1): #color choose between 1 to color+1\n",
    "            if not isAdjacentSameColorChromatic(element[0],c):\n",
    "                element[2]=c\n",
    "                break\n",
    "        if element[2]==0: #if the node still not colored\n",
    "            color+=1 # then increament the color range and check again\n",
    "            for c in range(1,color+1):\n",
    "                if not isAdjacentSameColorChromatic(element[0],c):\n",
    "                    element[2]=c\n",
    "                    break"
   ]
  },
  {
   "cell_type": "code",
   "execution_count": 544,
   "metadata": {},
   "outputs": [],
   "source": [
    "def minColorRequired():\n",
    "    global degreeColorList\n",
    "    degreeColorList.sort(key=lambda x:x[2])\n",
    "    degreeColorList=degreeColorList[::-1]\n",
    "    mincolor=degreeColorList[0][2]\n",
    "    degreeColorList=[]\n",
    "    return mincolor"
   ]
  },
  {
   "cell_type": "markdown",
   "metadata": {},
   "source": [
    "# Problem 2:how many way that can be colored (Dynamic programming)"
   ]
  },
  {
   "cell_type": "code",
   "execution_count": 545,
   "metadata": {},
   "outputs": [],
   "source": [
    "colors=[]\n",
    "def createColors(noOfColors):\n",
    "    global colors\n",
    "    for i in range(1,noOfColors+1):\n",
    "        colors.append(i)"
   ]
  },
  {
   "cell_type": "code",
   "execution_count": 546,
   "metadata": {},
   "outputs": [],
   "source": [
    "nodeColorList=[] #[node,color]\n",
    "visiting={}### whether the node is visited in path or not\n",
    "for i in range(len(graph)):\n",
    "    visiting[i]=0"
   ]
  },
  {
   "cell_type": "code",
   "execution_count": 547,
   "metadata": {},
   "outputs": [],
   "source": [
    "def isAdjacentSameColor(node,color):\n",
    "    adjacents=getAdjacents(node)\n",
    "    for item in nodeColorList:\n",
    "        if item[0] in adjacents and item[1]==color:\n",
    "            return True\n",
    "    return False"
   ]
  },
  {
   "cell_type": "code",
   "execution_count": 549,
   "metadata": {},
   "outputs": [],
   "source": [
    "def nonVisitedAdjacents(node):\n",
    "    adjacents=[]\n",
    "    for n,val in enumerate(graph[node]):\n",
    "        if val and visiting[n]==0:\n",
    "            adjacents.append(n)\n",
    "    return adjacents"
   ]
  },
  {
   "cell_type": "code",
   "execution_count": 550,
   "metadata": {},
   "outputs": [],
   "source": [
    "def fillGraph(node,color):\n",
    "    adjacents=nonVisitedAdjacents(node) #get all non visited adjacent nodes\n",
    "    if not isAdjacentSameColor(node,color):#apply the the coler on the node if possible\n",
    "        visiting[node]=1\n",
    "        nodeColorList.append([node,color])\n",
    "        if len(nodeColorList)==len(graph):\n",
    "            print(nodeColorList)\n",
    "        for adj in adjacents:\n",
    "            for c in colors:\n",
    "                fillGraph(adj,c)\n",
    "        nodeColorList.remove([node,color])\n",
    "        visiting[node]=0\n",
    "    if [node,color] not in nodeColorList:\n",
    "        return\n"
   ]
  },
  {
   "cell_type": "code",
   "execution_count": 551,
   "metadata": {},
   "outputs": [],
   "source": [
    "def perform(startingNode=0):\n",
    "    global colors\n",
    "    for color in colors:\n",
    "        fillGraph(startingNode,color)"
   ]
  },
  {
   "cell_type": "markdown",
   "metadata": {},
   "source": [
    "# main"
   ]
  },
  {
   "cell_type": "code",
   "execution_count": 552,
   "metadata": {},
   "outputs": [
    {
     "name": "stdout",
     "output_type": "stream",
     "text": [
      "Enter no of color u want to give must>=3 : 3\n",
      "[[0, 1], [1, 2], [3, 3], [2, 2]]\n",
      "[[0, 1], [1, 3], [3, 2], [2, 3]]\n",
      "[[0, 1], [2, 2], [3, 3], [1, 2]]\n",
      "[[0, 1], [2, 3], [3, 2], [1, 3]]\n",
      "[[0, 2], [1, 1], [3, 3], [2, 1]]\n",
      "[[0, 2], [1, 3], [3, 1], [2, 3]]\n",
      "[[0, 2], [2, 1], [3, 3], [1, 1]]\n",
      "[[0, 2], [2, 3], [3, 1], [1, 3]]\n",
      "[[0, 3], [1, 1], [3, 2], [2, 1]]\n",
      "[[0, 3], [1, 2], [3, 1], [2, 2]]\n",
      "[[0, 3], [2, 1], [3, 2], [1, 1]]\n",
      "[[0, 3], [2, 2], [3, 1], [1, 2]]\n"
     ]
    }
   ],
   "source": [
    "if __name__==\"__main__\":\n",
    "    global degreeColorList\n",
    "    setListChromatic()\n",
    "    colorGraph()\n",
    "    chromaticNo=minColorRequired()\n",
    "    noOfColors=int(input(f\"Enter no of color u want to give must>={chromaticNo} : \"))\n",
    "    if noOfColors<chromaticNo:\n",
    "        print(\"wrong input\")\n",
    "    else:\n",
    "        createColors(noOfColors)\n",
    "        perform()"
   ]
  },
  {
   "cell_type": "code",
   "execution_count": null,
   "metadata": {},
   "outputs": [],
   "source": []
  },
  {
   "cell_type": "code",
   "execution_count": null,
   "metadata": {},
   "outputs": [],
   "source": []
  },
  {
   "cell_type": "code",
   "execution_count": null,
   "metadata": {},
   "outputs": [],
   "source": []
  },
  {
   "cell_type": "code",
   "execution_count": null,
   "metadata": {},
   "outputs": [],
   "source": []
  },
  {
   "cell_type": "code",
   "execution_count": null,
   "metadata": {},
   "outputs": [],
   "source": []
  },
  {
   "cell_type": "code",
   "execution_count": 553,
   "metadata": {},
   "outputs": [
    {
     "data": {
      "text/plain": [
       "[1, 2, 3]"
      ]
     },
     "execution_count": 553,
     "metadata": {},
     "output_type": "execute_result"
    }
   ],
   "source": [
    "l"
   ]
  },
  {
   "cell_type": "code",
   "execution_count": null,
   "metadata": {},
   "outputs": [],
   "source": []
  }
 ],
 "metadata": {
  "kernelspec": {
   "display_name": "Python 3",
   "language": "python",
   "name": "python3"
  },
  "language_info": {
   "codemirror_mode": {
    "name": "ipython",
    "version": 3
   },
   "file_extension": ".py",
   "mimetype": "text/x-python",
   "name": "python",
   "nbconvert_exporter": "python",
   "pygments_lexer": "ipython3",
   "version": "3.7.6"
  }
 },
 "nbformat": 4,
 "nbformat_minor": 4
}
