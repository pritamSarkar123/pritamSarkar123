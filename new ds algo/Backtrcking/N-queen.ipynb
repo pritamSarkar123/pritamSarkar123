{
 "cells": [
  {
   "cell_type": "raw",
   "metadata": {},
   "source": [
    "Problem statement:\n",
    "Queens will be attacked if they are in\n",
    "1. same Row 2.same Column 3.same Diagonal\n",
    "\n",
    "Keeping each queen to one dedicated row solves one problem\n",
    "time O(2^n)"
   ]
  },
  {
   "cell_type": "code",
   "execution_count": 121,
   "metadata": {},
   "outputs": [],
   "source": [
    "board=[]\n",
    "def makeBoard(queens):\n",
    "    global board\n",
    "    for i in range(queens):\n",
    "        a=[]\n",
    "        for j in range(queens):\n",
    "            a.append(\"\")\n",
    "        board.append(a)"
   ]
  },
  {
   "cell_type": "code",
   "execution_count": 122,
   "metadata": {},
   "outputs": [],
   "source": [
    "def uniqueInCol(col):\n",
    "    count=0\n",
    "    for r in board:\n",
    "        if r[col]!=\"\":\n",
    "            count+=1\n",
    "    if count==1:\n",
    "        return True\n",
    "    elif count>1:\n",
    "        return False"
   ]
  },
  {
   "cell_type": "code",
   "execution_count": 123,
   "metadata": {},
   "outputs": [],
   "source": [
    "def uniqueInDiag(i,j):\n",
    "    #[] []\n",
    "    # []\n",
    "    if (i-1>=0 and j-1>=0) and (i-1>=0 and j+1<len(board)):\n",
    "        if board[i-1][j-1]==\"\" and board[i-1][j+1]==\"\":\n",
    "            return True\n",
    "        else:\n",
    "            return False\n",
    "    #[]\n",
    "    # []\n",
    "    #bottom right\n",
    "    elif (i-1>=0 and j-1>=0):\n",
    "        if board[i-1][j-1]==\"\":\n",
    "            return True\n",
    "        else:\n",
    "            return False\n",
    "    # []\n",
    "    #[]\n",
    "    #bottom left\n",
    "    elif (i-1>=0 and j+1<len(board)):\n",
    "        if board[i-1][j+1]==\"\":\n",
    "            return True\n",
    "        else:\n",
    "            return False\n",
    "    #top left or right\n",
    "    else:\n",
    "        return True"
   ]
  },
  {
   "cell_type": "code",
   "execution_count": 124,
   "metadata": {},
   "outputs": [],
   "source": [
    "columns=[]\n",
    "def placeQueen(initialQ=0):\n",
    "    global board,columns\n",
    "    if initialQ==len(board):# all the 4 queens placed\n",
    "        print(columns)\n",
    "        return\n",
    "    for c in range(len(board)):\n",
    "        board[initialQ][c]=f'Q{initialQ}'\n",
    "        columns.append([c,f'Q{initialQ}'])\n",
    "        if uniqueInCol(c) and uniqueInDiag(initialQ,c):\n",
    "            placeQueen(initialQ+1)\n",
    "        board[initialQ][c]=\"\"\n",
    "        columns.remove([c,f'Q{initialQ}'])"
   ]
  },
  {
   "cell_type": "code",
   "execution_count": 125,
   "metadata": {},
   "outputs": [
    {
     "name": "stdout",
     "output_type": "stream",
     "text": [
      "Enter number of queens : 4\n",
      "[[1, 'Q0'], [3, 'Q1'], [0, 'Q2'], [2, 'Q3']]\n",
      "[[2, 'Q0'], [0, 'Q1'], [3, 'Q2'], [1, 'Q3']]\n"
     ]
    }
   ],
   "source": [
    "if __name__==\"__main__\":\n",
    "    queens=int(input(\"Enter number of queens : \"))\n",
    "    makeBoard(queens)\n",
    "    placeQueen(0)"
   ]
  }
 ],
 "metadata": {
  "kernelspec": {
   "display_name": "Python 3",
   "language": "python",
   "name": "python3"
  },
  "language_info": {
   "codemirror_mode": {
    "name": "ipython",
    "version": 3
   },
   "file_extension": ".py",
   "mimetype": "text/x-python",
   "name": "python",
   "nbconvert_exporter": "python",
   "pygments_lexer": "ipython3",
   "version": "3.7.6"
  }
 },
 "nbformat": 4,
 "nbformat_minor": 4
}
