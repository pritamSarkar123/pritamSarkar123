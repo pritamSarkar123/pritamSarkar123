{
 "cells": [
  {
   "cell_type": "code",
   "execution_count": null,
   "metadata": {},
   "outputs": [],
   "source": [
    "#Time complexity O(n^2x2^n ) same as traveling salesperson"
   ]
  },
  {
   "cell_type": "code",
   "execution_count": 3,
   "metadata": {},
   "outputs": [
    {
     "name": "stdout",
     "output_type": "stream",
     "text": [
      "Enter starting node in between 1 to 4 : 2\n",
      "2->1->3->4->5->2\n",
      "2->1->5->4->3->2\n",
      "2->3->1->5->4->2\n",
      "2->3->4->5->1->2\n",
      "2->4->3->1->5->2\n",
      "2->4->5->1->3->2\n",
      "2->5->1->3->4->2\n",
      "2->5->4->3->1->2\n"
     ]
    }
   ],
   "source": [
    "#problem description\n",
    "#https://www.youtube.com/watch?v=dQr4wZCiJJ4\n",
    "graph=[\n",
    "  [0,0,0,0,0,0],\n",
    "  [0,0,1,1,0,1],\n",
    "  [0,1,0,1,1,1],\n",
    "  [0,1,1,0,1,0],\n",
    "  [0,0,1,1,0,1],\n",
    "  [0,1,1,0,1,0]\n",
    "]\n",
    "noOfNodes=len(graph)-1\n",
    "visited=[0]*len(graph)\n",
    "path=[]\n",
    "remaining=noOfNodes\n",
    "startingNode=-1\n",
    "\n",
    "def hamilTonian(s):\n",
    "  global noOfNodes,remaining,visited,path,startingNode\n",
    "  if not remaining and graph[s][startingNode]:\n",
    "    for n in path:\n",
    "      print(n,end=\"->\")\n",
    "    print(startingNode)\n",
    "    return\n",
    "  else:\n",
    "    for i in range(1,noOfNodes+1):\n",
    "      if not visited[i] and graph[i][s]:\n",
    "        visited[i]=1\n",
    "        remaining-=1\n",
    "        path.append(i)\n",
    "        hamilTonian(i)\n",
    "        visited[i]=0\n",
    "        remaining+=1\n",
    "        path.pop()\n",
    "\n",
    "if __name__==\"__main__\":\n",
    "  node=int(input(f\"Enter starting node in between 1 to {noOfNodes-1} : \"))\n",
    "  startingNode=node\n",
    "  visited[startingNode]=1\n",
    "  remaining-=1\n",
    "  path.append(startingNode)\n",
    "  hamilTonian(startingNode)\n"
   ]
  }
 ],
 "metadata": {
  "kernelspec": {
   "display_name": "Python 3",
   "language": "python",
   "name": "python3"
  },
  "language_info": {
   "codemirror_mode": {
    "name": "ipython",
    "version": 3
   },
   "file_extension": ".py",
   "mimetype": "text/x-python",
   "name": "python",
   "nbconvert_exporter": "python",
   "pygments_lexer": "ipython3",
   "version": "3.7.6"
  }
 },
 "nbformat": 4,
 "nbformat_minor": 4
}
