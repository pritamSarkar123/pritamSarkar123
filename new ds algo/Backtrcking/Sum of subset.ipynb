{
 "cells": [
  {
   "cell_type": "code",
   "execution_count": 161,
   "metadata": {},
   "outputs": [],
   "source": [
    "W=set([2,5,10,12,13,15,18])"
   ]
  },
  {
   "cell_type": "code",
   "execution_count": 162,
   "metadata": {},
   "outputs": [],
   "source": [
    "M=40"
   ]
  },
  {
   "cell_type": "code",
   "execution_count": 163,
   "metadata": {},
   "outputs": [],
   "source": [
    "X={}\n",
    "for i in W:\n",
    "    X[i]=0"
   ]
  },
  {
   "cell_type": "code",
   "execution_count": 164,
   "metadata": {},
   "outputs": [
    {
     "data": {
      "text/plain": [
       "{2: 0, 5: 0, 10: 0, 12: 0, 13: 0, 15: 0, 18: 0}"
      ]
     },
     "execution_count": 164,
     "metadata": {},
     "output_type": "execute_result"
    }
   ],
   "source": [
    "X #initialy all the things are not visited"
   ]
  },
  {
   "cell_type": "code",
   "execution_count": 165,
   "metadata": {},
   "outputs": [],
   "source": [
    "S=0\n",
    "final=[]"
   ]
  },
  {
   "cell_type": "code",
   "execution_count": 166,
   "metadata": {},
   "outputs": [],
   "source": [
    "def subset(e,p,W):\n",
    "    global S,X,final  \n",
    "    if len(W)==0 and S==M:\n",
    "        if X not in final:\n",
    "            l={}\n",
    "            for k in X:\n",
    "                l[k]=X[k]\n",
    "            final.append(l)\n",
    "        return\n",
    "    elif S>M:\n",
    "        return\n",
    "    else:\n",
    "        if p==1:\n",
    "            S+=e\n",
    "            X[e]=1\n",
    "            for ele in W:\n",
    "                subset(ele,1,W.difference({ele}))\n",
    "                subset(ele,0,W.difference({ele}))\n",
    "            S-=e\n",
    "            X[e]=0\n",
    "        else:\n",
    "            for ele in W:\n",
    "                subset(ele,1,W.difference({ele}))\n",
    "                subset(ele,0,W.difference({ele}))"
   ]
  },
  {
   "cell_type": "code",
   "execution_count": 167,
   "metadata": {},
   "outputs": [],
   "source": [
    "def start():\n",
    "    for e in W:\n",
    "        subset(e,1,W.difference({e}))\n",
    "        subset(e,0,W.difference({e}))"
   ]
  },
  {
   "cell_type": "code",
   "execution_count": 168,
   "metadata": {},
   "outputs": [],
   "source": [
    "start()"
   ]
  },
  {
   "cell_type": "code",
   "execution_count": 169,
   "metadata": {},
   "outputs": [
    {
     "data": {
      "text/plain": [
       "[{2: 1, 5: 1, 10: 0, 12: 0, 13: 0, 15: 1, 18: 1},\n",
       " {2: 1, 5: 0, 10: 1, 12: 0, 13: 1, 15: 1, 18: 0},\n",
       " {2: 0, 5: 1, 10: 1, 12: 1, 13: 1, 15: 0, 18: 0},\n",
       " {2: 0, 5: 0, 10: 1, 12: 1, 13: 0, 15: 0, 18: 1},\n",
       " {2: 0, 5: 0, 10: 0, 12: 1, 13: 1, 15: 1, 18: 0}]"
      ]
     },
     "execution_count": 169,
     "metadata": {},
     "output_type": "execute_result"
    }
   ],
   "source": [
    "final"
   ]
  },
  {
   "cell_type": "code",
   "execution_count": null,
   "metadata": {},
   "outputs": [],
   "source": []
  },
  {
   "cell_type": "code",
   "execution_count": null,
   "metadata": {},
   "outputs": [],
   "source": []
  },
  {
   "cell_type": "code",
   "execution_count": null,
   "metadata": {},
   "outputs": [],
   "source": []
  },
  {
   "cell_type": "code",
   "execution_count": null,
   "metadata": {},
   "outputs": [],
   "source": []
  },
  {
   "cell_type": "code",
   "execution_count": null,
   "metadata": {},
   "outputs": [],
   "source": []
  },
  {
   "cell_type": "code",
   "execution_count": null,
   "metadata": {},
   "outputs": [],
   "source": []
  }
 ],
 "metadata": {
  "kernelspec": {
   "display_name": "Python 3",
   "language": "python",
   "name": "python3"
  },
  "language_info": {
   "codemirror_mode": {
    "name": "ipython",
    "version": 3
   },
   "file_extension": ".py",
   "mimetype": "text/x-python",
   "name": "python",
   "nbconvert_exporter": "python",
   "pygments_lexer": "ipython3",
   "version": "3.7.6"
  }
 },
 "nbformat": 4,
 "nbformat_minor": 4
}
