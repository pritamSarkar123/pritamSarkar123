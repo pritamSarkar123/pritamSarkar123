{
 "cells": [
  {
   "cell_type": "code",
   "execution_count": 264,
   "metadata": {},
   "outputs": [],
   "source": [
    "graph=[\n",
    "    [0,1,1,1],\n",
    "    [1,0,1,1],\n",
    "    [1,1,0,1],\n",
    "    [1,1,1,0]\n",
    "]"
   ]
  },
  {
   "cell_type": "code",
   "execution_count": 265,
   "metadata": {},
   "outputs": [
    {
     "data": {
      "text/plain": [
       "[0, 1, 2, 3]"
      ]
     },
     "execution_count": 265,
     "metadata": {},
     "output_type": "execute_result"
    }
   ],
   "source": [
    "nodes=[]\n",
    "for i in range(len(graph)):\n",
    "    nodes.append(i) \n",
    "nodes"
   ]
  },
  {
   "cell_type": "code",
   "execution_count": 266,
   "metadata": {},
   "outputs": [],
   "source": [
    "visited=[]"
   ]
  },
  {
   "cell_type": "code",
   "execution_count": 267,
   "metadata": {},
   "outputs": [],
   "source": [
    "startingNode=0"
   ]
  },
  {
   "cell_type": "code",
   "execution_count": 268,
   "metadata": {},
   "outputs": [],
   "source": [
    "def getAdjacents(node):\n",
    "    adjacents=[]\n",
    "    for i,n in enumerate(graph[node]):\n",
    "        if n:\n",
    "            adjacents.append(i)\n",
    "    return adjacents"
   ]
  },
  {
   "cell_type": "code",
   "execution_count": 269,
   "metadata": {},
   "outputs": [],
   "source": [
    "def hamiltonian(sn):\n",
    "    global visited\n",
    "    if len(visited)==len(nodes) and sn==startingNode and visited[0]==startingNode:\n",
    "        visited.append(sn)\n",
    "        print(visited)\n",
    "        visited.remove(sn)\n",
    "        return\n",
    "    elif len(visited)<len(nodes) and sn==startingNode and len(visited)!=0:\n",
    "        return\n",
    "    else:\n",
    "        adjacents=getAdjacents(sn)\n",
    "        visited.append(sn)\n",
    "        for adj in adjacents:\n",
    "            if adj not in visited or adj==startingNode:\n",
    "                hamiltonian(adj)\n",
    "        visited.remove(sn)"
   ]
  },
  {
   "cell_type": "code",
   "execution_count": 270,
   "metadata": {},
   "outputs": [],
   "source": [
    "def start(sn=0):\n",
    "    global startingNode\n",
    "    #for i in nodes:\n",
    "     #   startingNode=i\n",
    "      #  hamiltonian(i)\n",
    "    startingNode=sn\n",
    "    hamiltonian(sn)"
   ]
  },
  {
   "cell_type": "code",
   "execution_count": 271,
   "metadata": {},
   "outputs": [
    {
     "name": "stdout",
     "output_type": "stream",
     "text": [
      "[3, 0, 1, 2, 3]\n",
      "[3, 1, 0, 2, 3]\n",
      "[3, 2, 0, 1, 3]\n"
     ]
    }
   ],
   "source": [
    "start(3)"
   ]
  }
 ],
 "metadata": {
  "kernelspec": {
   "display_name": "Python 3",
   "language": "python",
   "name": "python3"
  },
  "language_info": {
   "codemirror_mode": {
    "name": "ipython",
    "version": 3
   },
   "file_extension": ".py",
   "mimetype": "text/x-python",
   "name": "python",
   "nbconvert_exporter": "python",
   "pygments_lexer": "ipython3",
   "version": "3.7.6"
  }
 },
 "nbformat": 4,
 "nbformat_minor": 4
}
