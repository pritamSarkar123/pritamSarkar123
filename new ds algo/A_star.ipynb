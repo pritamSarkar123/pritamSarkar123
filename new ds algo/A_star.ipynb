{
 "cells": [
  {
   "cell_type": "code",
   "execution_count": 370,
   "metadata": {},
   "outputs": [],
   "source": [
    "import numpy as np\n",
    "from operator import itemgetter"
   ]
  },
  {
   "cell_type": "code",
   "execution_count": 371,
   "metadata": {},
   "outputs": [],
   "source": [
    "class Node:\n",
    "    def __init__(self,name,heuValue):\n",
    "        self.name=str(name)\n",
    "        self.heuValue=heuValue\n",
    "        self.neighbour={}\n",
    "        self.allNegVisited=0\n",
    "    def getNeighbours(self,node,weight):\n",
    "        self.neighbour[node]=weight"
   ]
  },
  {
   "cell_type": "code",
   "execution_count": 372,
   "metadata": {},
   "outputs": [],
   "source": [
    "M=9999\n",
    "graph=np.array([\n",
    "    [0,4,3,M,M,M,M],\n",
    "    [M,0,M,M,12,5,M],\n",
    "    [M,M,0,7,10,M,M],\n",
    "    [M,M,M,0,2,M,M],\n",
    "    [M,M,M,M,0,M,5],\n",
    "    [M,M,M,M,M,0,16],\n",
    "    [M,M,M,M,M,M,0]\n",
    "])\n",
    "names={'S':0,'B':1,'C':2,'D':3,'E':4,'F':5,'G':6}\n",
    "heurictics={0:17,1:17,2:14,3:7,4:5,5:16,6:0}"
   ]
  },
  {
   "cell_type": "code",
   "execution_count": 373,
   "metadata": {},
   "outputs": [
    {
     "data": {
      "text/plain": [
       "(7, 7)"
      ]
     },
     "execution_count": 373,
     "metadata": {},
     "output_type": "execute_result"
    }
   ],
   "source": [
    "graph.shape"
   ]
  },
  {
   "cell_type": "code",
   "execution_count": 374,
   "metadata": {},
   "outputs": [],
   "source": [
    "nodeObj=[]\n",
    "for n in range(graph.shape[0]):\n",
    "    obj=Node(n,heurictics[n])\n",
    "    nodeObj.append(obj)"
   ]
  },
  {
   "cell_type": "code",
   "execution_count": 375,
   "metadata": {},
   "outputs": [],
   "source": [
    "for i,row in enumerate(graph):\n",
    "    for j,val in enumerate(row):\n",
    "        if val!=0 and val!=M:\n",
    "            nodeObj[i].getNeighbours(nodeObj[j],val)"
   ]
  },
  {
   "cell_type": "code",
   "execution_count": 376,
   "metadata": {},
   "outputs": [],
   "source": [
    "def getminpath(paths):\n",
    "    minp=\"\"\n",
    "    minw=M\n",
    "    minh=M\n",
    "    for p in paths.keys():\n",
    "        n=int(p[-1])\n",
    "        if minh>paths[p][1] and nodeObj[n].allNegVisited==0:\n",
    "            minh=paths[p][1]\n",
    "            minw=paths[p][0]\n",
    "            minp=p\n",
    "    return minp,minw,minh"
   ]
  },
  {
   "cell_type": "code",
   "execution_count": 377,
   "metadata": {},
   "outputs": [],
   "source": [
    "paths={} #{'path_name':[weight,weightWithHeu]}\n",
    "def pathfinder(mp,mw,mh,n):\n",
    "    global paths\n",
    "    for i in nodeObj[n].neighbour.keys():\n",
    "        if mp!='':\n",
    "            path_name=mp+i.name\n",
    "        else:\n",
    "            path_name=nodeObj[n].name+i.name\n",
    "        gx=mw+nodeObj[n].neighbour[i]\n",
    "        hx=i.heuValue\n",
    "        fx=gx+hx\n",
    "        paths[path_name]=[gx,fx]\n",
    "        \n",
    "    nodeObj[n].allNegVisited=1 ##vvi all neighbours are visited"
   ]
  },
  {
   "cell_type": "code",
   "execution_count": 378,
   "metadata": {},
   "outputs": [],
   "source": [
    "def find(s=0,e=6):\n",
    "    n=s\n",
    "    shortest_path=[]\n",
    "    while n<e:\n",
    "        if len(paths)==0:\n",
    "            pathfinder(\"\",0,0,n)\n",
    "        else:\n",
    "            mp,mw,mh=getminpath(paths)\n",
    "            n=int(mp[-1])\n",
    "            pathfinder(mp,mw,mh,n)\n",
    "    for path in paths.keys():\n",
    "        \n",
    "        if path[-1]==str(e) and path[0]==str(s):\n",
    "            shortest_path.append([path,paths[path][0]])\n",
    "    shortest_path=sorted(shortest_path,key=lambda p:p[1])\n",
    "    for p in shortest_path:\n",
    "        min_v=shortest_path[0][1]\n",
    "        if min_v==p[1]:\n",
    "            print(f'path : {p[0]} and cost : {p[1]}')\n",
    "        \n",
    "    "
   ]
  },
  {
   "cell_type": "code",
   "execution_count": 379,
   "metadata": {},
   "outputs": [
    {
     "name": "stdout",
     "output_type": "stream",
     "text": [
      "path : 234 and cost : 9\n"
     ]
    }
   ],
   "source": [
    "find(2,4)"
   ]
  },
  {
   "cell_type": "code",
   "execution_count": null,
   "metadata": {},
   "outputs": [],
   "source": []
  },
  {
   "cell_type": "code",
   "execution_count": null,
   "metadata": {},
   "outputs": [],
   "source": []
  },
  {
   "cell_type": "code",
   "execution_count": null,
   "metadata": {},
   "outputs": [],
   "source": []
  },
  {
   "cell_type": "code",
   "execution_count": null,
   "metadata": {},
   "outputs": [],
   "source": []
  },
  {
   "cell_type": "code",
   "execution_count": null,
   "metadata": {},
   "outputs": [],
   "source": []
  },
  {
   "cell_type": "code",
   "execution_count": null,
   "metadata": {},
   "outputs": [],
   "source": []
  },
  {
   "cell_type": "code",
   "execution_count": null,
   "metadata": {},
   "outputs": [],
   "source": []
  },
  {
   "cell_type": "code",
   "execution_count": null,
   "metadata": {},
   "outputs": [],
   "source": []
  }
 ],
 "metadata": {
  "kernelspec": {
   "display_name": "Python 3",
   "language": "python",
   "name": "python3"
  },
  "language_info": {
   "codemirror_mode": {
    "name": "ipython",
    "version": 3
   },
   "file_extension": ".py",
   "mimetype": "text/x-python",
   "name": "python",
   "nbconvert_exporter": "python",
   "pygments_lexer": "ipython3",
   "version": "3.7.6"
  }
 },
 "nbformat": 4,
 "nbformat_minor": 2
}
