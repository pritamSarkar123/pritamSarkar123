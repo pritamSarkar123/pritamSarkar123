{
 "cells": [
  {
   "cell_type": "code",
   "execution_count": 718,
   "metadata": {},
   "outputs": [
    {
     "data": {
      "text/plain": [
       "'\\nNode:\\n    attributes:\\n        key\\n        value\\n        keyType\\n        valueType\\n        next\\n'"
      ]
     },
     "execution_count": 718,
     "metadata": {},
     "output_type": "execute_result"
    }
   ],
   "source": [
    "'''\n",
    "Node:\n",
    "    attributes:\n",
    "        key\n",
    "        value\n",
    "        keyType\n",
    "        valueType\n",
    "        next\n",
    "'''"
   ]
  },
  {
   "cell_type": "code",
   "execution_count": 719,
   "metadata": {},
   "outputs": [],
   "source": [
    "class Node:\n",
    "    def __init__(self,key=None,value=None,keyType=None,valueType=None,next=None):\n",
    "        self.key=key\n",
    "        self.value=value\n",
    "        self.keyType=keyType\n",
    "        self.valueType=valueType\n",
    "        self.next=next"
   ]
  },
  {
   "cell_type": "code",
   "execution_count": 720,
   "metadata": {},
   "outputs": [
    {
     "data": {
      "text/plain": [
       "'\\nLinkedList:\\n    attributes:\\n        head\\n    methods:\\n        append\\n        modifyItem\\n        distinctKey\\n        getElement\\n        deleteElement\\n'"
      ]
     },
     "execution_count": 720,
     "metadata": {},
     "output_type": "execute_result"
    }
   ],
   "source": [
    "'''\n",
    "LinkedList:\n",
    "    attributes:\n",
    "        head\n",
    "    methods:\n",
    "        append\n",
    "        modifyItem\n",
    "        distinctKey\n",
    "        getElement\n",
    "        deleteElement\n",
    "'''"
   ]
  },
  {
   "cell_type": "code",
   "execution_count": 721,
   "metadata": {},
   "outputs": [],
   "source": [
    "class LinkedList:\n",
    "    def __init__(self):\n",
    "        self.head=Node()\n",
    "        \n",
    "    def append(self,key,value,keyType,valueType):\n",
    "        newNode=Node(key,value,keyType,valueType)\n",
    "        currentNode=self.head\n",
    "        while currentNode.next!=None:\n",
    "            currentNode=currentNode.next\n",
    "        currentNode.next=newNode\n",
    "        \n",
    "    def modifyItem(self,key,value,keyType,valueType):\n",
    "        currentNode=self.head\n",
    "        while currentNode!=None:\n",
    "            if currentNode.key==key and currentNode.keyType==keyType:\n",
    "                currentNode.value=value\n",
    "                currentNode.valueType=valueType\n",
    "                return True\n",
    "            currentNode=currentNode.next\n",
    "        print(\"nothing to modify!\")\n",
    "        return False\n",
    "        \n",
    "    def distinctKey(self,key,keyType): ##### whether the key is distinct or not\n",
    "        currentNode=self.head\n",
    "        while currentNode!=None:\n",
    "            if currentNode.key==key and currentNode.keyType==keyType:\n",
    "                return False\n",
    "            currentNode=currentNode.next\n",
    "        return True\n",
    "    \n",
    "    def getElement(self,key,keyType):\n",
    "        currentNode=self.head\n",
    "        while currentNode!=None:\n",
    "            if currentNode.key==key and currentNode.keyType==keyType:\n",
    "                return (currentNode.keyType(currentNode.key),currentNode.valueType(currentNode.value),currentNode.keyType,currentNode.valueType)\n",
    "            currentNode=currentNode.next    \n",
    "        print(\"element not found !\")\n",
    "        return None\n",
    "    def getItems(self):\n",
    "        items=[]\n",
    "        currentNode=self.head.next\n",
    "        while currentNode!=None:\n",
    "            items.append((currentNode.keyType(currentNode.key),currentNode.valueType(currentNode.value),currentNode.keyType,currentNode.valueType))\n",
    "            currentNode=currentNode.next\n",
    "        return items\n",
    "    def getKeys(self):\n",
    "        keys=[]\n",
    "        currentNode=self.head.next\n",
    "        while currentNode!=None:\n",
    "            keys.append((currentNode.keyType(currentNode.key),currentNode.keyType))\n",
    "            currentNode=currentNode.next\n",
    "        return keys\n",
    "    def getValues(self):\n",
    "        values=[]\n",
    "        currentNode=self.head.next\n",
    "        while currentNode!=None:\n",
    "            values.append((currentNode.valueType(currentNode.value),currentNode.valueType))\n",
    "            currentNode=currentNode.next\n",
    "        return values\n",
    "    def deleteElement(self,key,keyType):\n",
    "        currentNode=self.head\n",
    "        while currentNode.next!=None:\n",
    "            if (currentNode.next).key==key and (currentNode.next).keyType==keyType:\n",
    "                tempNode=(currentNode.next).next\n",
    "                currentNode.next=tempNode\n",
    "                print(\"deletion successful\")\n",
    "                return True\n",
    "            currentNode=currentNode.next\n",
    "        print(\"element not found for deletion!\")\n",
    "        return False\n"
   ]
  },
  {
   "cell_type": "code",
   "execution_count": 722,
   "metadata": {},
   "outputs": [],
   "source": [
    "class Hashing:\n",
    "    def __init__(self,lengthOfTable):\n",
    "        self.lengthOfTable=lengthOfTable     \n",
    "    def hashFunctionOne(self,key):\n",
    "        return key%35 #returning to the map function    \n",
    "    def hashFunctionTwo(self,key):\n",
    "        return 7-(key*3%8) #returning to the map function        \n",
    "    def mapFunction(self,keyString):\n",
    "        key=0\n",
    "        i=0\n",
    "        while i<len(keyString):\n",
    "            key+=ord(keyString[i])\n",
    "            i+=1\n",
    "        k1=self.hashFunctionOne(key)\n",
    "        k2=self.hashFunctionTwo(key)\n",
    "        return (k1+int(self.lengthOfTable/2)*k2) % (self.lengthOfTable)"
   ]
  },
  {
   "cell_type": "code",
   "execution_count": 723,
   "metadata": {},
   "outputs": [
    {
     "data": {
      "text/plain": [
       "'\\nHashTable:\\n    attributes:\\n        cells[...]\\n        lenghtOftable\\n        hashIt\\n        itemList\\n        valuelist\\n        keyList\\n    methods:\\n        modifyType\\n        put\\n        get\\n        modify\\n        delete\\n        droptable\\n        getItems\\n        getValues\\n        getKeys\\n        getMethods\\n'"
      ]
     },
     "execution_count": 723,
     "metadata": {},
     "output_type": "execute_result"
    }
   ],
   "source": [
    "'''\n",
    "HashTable:\n",
    "    attributes:\n",
    "        cells[...]\n",
    "        lenghtOftable\n",
    "        hashIt\n",
    "        itemList\n",
    "        valuelist\n",
    "        keyList\n",
    "    methods:\n",
    "        modifyType\n",
    "        put\n",
    "        get\n",
    "        modify\n",
    "        delete\n",
    "        droptable\n",
    "        getItems\n",
    "        getValues\n",
    "        getKeys\n",
    "        getMethods\n",
    "'''"
   ]
  },
  {
   "cell_type": "code",
   "execution_count": 724,
   "metadata": {},
   "outputs": [],
   "source": [
    "class HashTable:\n",
    "    cells=[]\n",
    "    itemList=[]\n",
    "    def __init__(self,lenOfTable=1):\n",
    "        self.lenOfTable=lenOfTable           #length of the hash table\n",
    "        self.hashIt=Hashing(self.lenOfTable) #hash object created  \n",
    "        for i in range(lenOfTable):          #The table\n",
    "            self.cells.append(LinkedList())\n",
    "            # appending LinkedList Objects #done by constructor\n",
    "    def modifyType(self,key,value):   ### modify any value to string\n",
    "        if type(key)!=str:\n",
    "            key=str(key)\n",
    "        if type(value)!=str:\n",
    "            value=str(value)     \n",
    "        return key,value\n",
    "    def put(self,key,value):   ##### 1st imp method\n",
    "        if len(self.cells)==0:\n",
    "            return \"Hash Table Not exhist\"\n",
    "        keyType=type(key)\n",
    "        valueType=type(value)\n",
    "        key,value=self.modifyType(key,value)\n",
    "        position=self.hashIt.mapFunction(key) \n",
    "        if self.cells[position].distinctKey(key,keyType): \n",
    "            self.cells[position].append(key,value,keyType,valueType)\n",
    "        else:    \n",
    "            self.cells[position].modifyItem(key,value,keyType,valueType)    \n",
    "        print(\"insertion successful\")\n",
    "        self.itemList.append([keyType(key),valueType(value)])\n",
    "    def get(self,key):\n",
    "        if len(self.cells)==0:\n",
    "            return \"Hash Table Not exhist\"\n",
    "        keyType=type(key)\n",
    "        if type(key)!=str:\n",
    "            key=str(key)\n",
    "        position=self.hashIt.mapFunction(key)\n",
    "        element=self.cells[position].getElement(key,keyType) #element is tuple\n",
    "        if element!=None:\n",
    "            return element\n",
    "    def modify(self,key,value):\n",
    "        if len(self.cells)==0:\n",
    "            return \"Hash Table Not exhist\"\n",
    "        keyType=type(key)\n",
    "        valueType=type(value)\n",
    "        key,value=self.modifyType(key,value)\n",
    "        position=self.hashIt.mapFunction(key)\n",
    "        b=self.cells[position].modifyItem(key,value,keyType,valueType)\n",
    "        if b:\n",
    "            #### updating itemlist ###\n",
    "            ind=0\n",
    "            for i in self.itemList:\n",
    "                if i[0]==keyType(key):\n",
    "                    ind=self.itemList.index(i)\n",
    "                    i[1]=valueType(value)\n",
    "                    break\n",
    "    def delete(self,key):\n",
    "        if len(self.cells)==0:\n",
    "            return \"Hash Table Not exhist\"\n",
    "        keyType=type(key)\n",
    "        if type(key)!=str:\n",
    "            key=str(key)\n",
    "        position=self.hashIt.mapFunction(key)\n",
    "        b=self.cells[position].deleteElement(key,keyType) #element is tuple\n",
    "        if b:\n",
    "            ##### removing from itemList\n",
    "            ind=0\n",
    "            for i in self.itemList:\n",
    "                if i[0]==keyType(key):\n",
    "                    ind=self.itemList.index(i)\n",
    "                    self.itemList.remove(i)\n",
    "                    break                              \n",
    "    def dropTable(self):\n",
    "        if len(self.cells)==0:\n",
    "            return \"Hash Table Not exhist\"\n",
    "        del self.cells[:]\n",
    "        del self.itemList[:]\n",
    "        print(\"Tablle Dropped -_-\")\n",
    "    def getItems(self):\n",
    "        if len(self.cells)==0:\n",
    "            return \"Hash Table Not exhist\"\n",
    "        items=[]\n",
    "        for cell in self.cells:\n",
    "            if cell.head.next:\n",
    "                if len(cell.getItems()):\n",
    "                    for i in cell.getItems():\n",
    "                        items.append(i)\n",
    "        return items\n",
    "    def getKeys(self):\n",
    "        if len(self.cells)==0:\n",
    "            return \"Hash Table Not exhist\"\n",
    "        keys=[]\n",
    "        for cell in self.cells:\n",
    "            if cell.head.next:\n",
    "                if len(cell.getKeys()):\n",
    "                    for k in cell.getKeys():\n",
    "                        keys.append(k)\n",
    "        return keys\n",
    "    def getValues(self):\n",
    "        if len(self.cells)==0:\n",
    "            return \"Hash Table Not exhist\"\n",
    "        values=[]\n",
    "        for cell in self.cells:\n",
    "            if cell.head.next:\n",
    "                if len(cell.getValues()):\n",
    "                    for v in cell.getValues():\n",
    "                        values.append(v)\n",
    "        return values\n",
    "    def getMethods(self):\n",
    "        print(['put','get','modify','delete','droptable','getItems','getValues','getKeys','getMethods'])"
   ]
  },
  {
   "cell_type": "code",
   "execution_count": 725,
   "metadata": {},
   "outputs": [],
   "source": [
    "obj=HashTable(18) #obj.cells[16]->16*LinkedListObj.head->16*NodeObject(all Null)"
   ]
  },
  {
   "cell_type": "code",
   "execution_count": 726,
   "metadata": {},
   "outputs": [
    {
     "name": "stdout",
     "output_type": "stream",
     "text": [
      "insertion successful\n"
     ]
    }
   ],
   "source": [
    "obj.put('pritam',1)"
   ]
  },
  {
   "cell_type": "code",
   "execution_count": 727,
   "metadata": {},
   "outputs": [
    {
     "name": "stdout",
     "output_type": "stream",
     "text": [
      "insertion successful\n"
     ]
    }
   ],
   "source": [
    "obj.put('sarkar',2)"
   ]
  },
  {
   "cell_type": "code",
   "execution_count": 728,
   "metadata": {},
   "outputs": [
    {
     "name": "stdout",
     "output_type": "stream",
     "text": [
      "insertion successful\n"
     ]
    }
   ],
   "source": [
    "obj.put('Eshani',34)"
   ]
  },
  {
   "cell_type": "code",
   "execution_count": 729,
   "metadata": {},
   "outputs": [
    {
     "name": "stdout",
     "output_type": "stream",
     "text": [
      "insertion successful\n"
     ]
    }
   ],
   "source": [
    "obj.put('pujki',30)"
   ]
  },
  {
   "cell_type": "code",
   "execution_count": 730,
   "metadata": {},
   "outputs": [
    {
     "name": "stdout",
     "output_type": "stream",
     "text": [
      "insertion successful\n"
     ]
    }
   ],
   "source": [
    "obj.put(5,10)"
   ]
  },
  {
   "cell_type": "code",
   "execution_count": 731,
   "metadata": {},
   "outputs": [
    {
     "name": "stdout",
     "output_type": "stream",
     "text": [
      "insertion successful\n"
     ]
    }
   ],
   "source": [
    "obj.put('5','10')"
   ]
  },
  {
   "cell_type": "code",
   "execution_count": 732,
   "metadata": {},
   "outputs": [
    {
     "data": {
      "text/plain": [
       "('sarkar', 2, str, int)"
      ]
     },
     "execution_count": 732,
     "metadata": {},
     "output_type": "execute_result"
    }
   ],
   "source": [
    "obj.get('sarkar')"
   ]
  },
  {
   "cell_type": "code",
   "execution_count": 733,
   "metadata": {},
   "outputs": [
    {
     "data": {
      "text/plain": [
       "('pritam', 1, str, int)"
      ]
     },
     "execution_count": 733,
     "metadata": {},
     "output_type": "execute_result"
    }
   ],
   "source": [
    "obj.get('pritam')"
   ]
  },
  {
   "cell_type": "code",
   "execution_count": 734,
   "metadata": {},
   "outputs": [],
   "source": [
    "obj.modify('pritam','vanu')"
   ]
  },
  {
   "cell_type": "code",
   "execution_count": 735,
   "metadata": {},
   "outputs": [
    {
     "name": "stdout",
     "output_type": "stream",
     "text": [
      "nothing to modify!\n"
     ]
    }
   ],
   "source": [
    "obj.modify('Bun',9.99)"
   ]
  },
  {
   "cell_type": "code",
   "execution_count": 736,
   "metadata": {},
   "outputs": [
    {
     "data": {
      "text/plain": [
       "('pritam', 'vanu', str, str)"
      ]
     },
     "execution_count": 736,
     "metadata": {},
     "output_type": "execute_result"
    }
   ],
   "source": [
    "obj.get('pritam')"
   ]
  },
  {
   "cell_type": "code",
   "execution_count": 737,
   "metadata": {},
   "outputs": [
    {
     "name": "stdout",
     "output_type": "stream",
     "text": [
      "['put', 'get', 'modify', 'delete', 'droptable', 'getItems', 'getValues', 'getKeys', 'getMethods']\n"
     ]
    }
   ],
   "source": [
    "obj.getMethods()"
   ]
  },
  {
   "cell_type": "code",
   "execution_count": 738,
   "metadata": {},
   "outputs": [
    {
     "data": {
      "text/plain": [
       "[(5, int),\n",
       " ('5', str),\n",
       " ('pujki', str),\n",
       " ('pritam', str),\n",
       " ('sarkar', str),\n",
       " ('Eshani', str)]"
      ]
     },
     "execution_count": 738,
     "metadata": {},
     "output_type": "execute_result"
    }
   ],
   "source": [
    "obj.getKeys()"
   ]
  },
  {
   "cell_type": "code",
   "execution_count": 739,
   "metadata": {},
   "outputs": [
    {
     "data": {
      "text/plain": [
       "[(5, 10, int, int),\n",
       " ('5', '10', str, str),\n",
       " ('pujki', 30, str, int),\n",
       " ('pritam', 'vanu', str, str),\n",
       " ('sarkar', 2, str, int),\n",
       " ('Eshani', 34, str, int)]"
      ]
     },
     "execution_count": 739,
     "metadata": {},
     "output_type": "execute_result"
    }
   ],
   "source": [
    "obj.getItems()"
   ]
  },
  {
   "cell_type": "code",
   "execution_count": 740,
   "metadata": {},
   "outputs": [
    {
     "data": {
      "text/plain": [
       "[(10, int), ('10', str), (30, int), ('vanu', str), (2, int), (34, int)]"
      ]
     },
     "execution_count": 740,
     "metadata": {},
     "output_type": "execute_result"
    }
   ],
   "source": [
    "obj.getValues()"
   ]
  },
  {
   "cell_type": "code",
   "execution_count": 741,
   "metadata": {},
   "outputs": [
    {
     "name": "stdout",
     "output_type": "stream",
     "text": [
      "Tablle Dropped -_-\n"
     ]
    }
   ],
   "source": [
    "obj.dropTable()"
   ]
  },
  {
   "cell_type": "code",
   "execution_count": null,
   "metadata": {},
   "outputs": [],
   "source": []
  },
  {
   "cell_type": "code",
   "execution_count": null,
   "metadata": {},
   "outputs": [],
   "source": []
  },
  {
   "cell_type": "code",
   "execution_count": null,
   "metadata": {},
   "outputs": [],
   "source": []
  },
  {
   "cell_type": "code",
   "execution_count": null,
   "metadata": {},
   "outputs": [],
   "source": []
  },
  {
   "cell_type": "code",
   "execution_count": 742,
   "metadata": {},
   "outputs": [
    {
     "data": {
      "text/plain": [
       "3"
      ]
     },
     "execution_count": 742,
     "metadata": {},
     "output_type": "execute_result"
    }
   ],
   "source": []
  },
  {
   "cell_type": "code",
   "execution_count": null,
   "metadata": {},
   "outputs": [],
   "source": []
  },
  {
   "cell_type": "code",
   "execution_count": null,
   "metadata": {},
   "outputs": [],
   "source": []
  }
 ],
 "metadata": {
  "kernelspec": {
   "display_name": "Python 3",
   "language": "python",
   "name": "python3"
  },
  "language_info": {
   "codemirror_mode": {
    "name": "ipython",
    "version": 3
   },
   "file_extension": ".py",
   "mimetype": "text/x-python",
   "name": "python",
   "nbconvert_exporter": "python",
   "pygments_lexer": "ipython3",
   "version": "3.7.3"
  }
 },
 "nbformat": 4,
 "nbformat_minor": 2
}
