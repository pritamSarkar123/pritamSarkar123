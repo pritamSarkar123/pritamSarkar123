{
 "cells": [
  {
   "cell_type": "code",
   "execution_count": 236,
   "metadata": {},
   "outputs": [],
   "source": [
    "class MaxHeap:\n",
    "    def __init__(self):\n",
    "        self.heap_list=[]\n",
    "    def isExhist(self,val):\n",
    "        return val in self.heap_list\n",
    "    def isLeaf(self,index):\n",
    "        length=len(self.heap_list)\n",
    "        if 2*index+1>length-1: #left child do not exhist\n",
    "            return True\n",
    "        else:     #left child exhist\n",
    "            return False \n",
    "    def maxIndex(self,index):\n",
    "        length=len(self.heap_list)\n",
    "        if 2*index+2>length-1: #right child do not exhist\n",
    "            return 2*index+1 ## the max index is the left child index\n",
    "        else:#right child exhist\n",
    "            if self.heap_list[2*index+1]>self.heap_list[2*index+2]: #rc<lc\n",
    "                return 2*index+1\n",
    "            else:\n",
    "                return 2*index+2 #rc>lc\n",
    "    def heapyfy(self,*args): # * opens the arguments\n",
    "        for v in args: \n",
    "            ### appending all the arguments first\n",
    "            if not self.isExhist(v):\n",
    "                self.heap_list.append(v)\n",
    "        #need to adjust the entire heap_list\n",
    "        length=len(self.heap_list)\n",
    "        ##r->l\n",
    "        i=length-1\n",
    "        while(i>=0):\n",
    "            if not self.isLeaf(i):\n",
    "                max_ind=self.maxIndex(i)\n",
    "                if self.heap_list[i]<self.heap_list[max_ind]:\n",
    "                    self.heap_list[i],self.heap_list[max_ind]=self.heap_list[max_ind],self.heap_list[i]\n",
    "            i-=1\n",
    "        ##l->r\n",
    "        i=0\n",
    "        while(i<length):\n",
    "            if not self.isLeaf(i):\n",
    "                max_ind=self.maxIndex(i)\n",
    "                if self.heap_list[i]<self.heap_list[max_ind]:\n",
    "                    self.heap_list[i],self.heap_list[max_ind]=self.heap_list[max_ind],self.heap_list[i]\n",
    "            i+=1\n",
    "    def heapInsert(self,*args):\n",
    "        for v in args:\n",
    "            if not self.isExhist(v):\n",
    "                self.heap_list.append(v)\n",
    "                length=len(self.heap_list)\n",
    "                if length>1: ## more than one element\n",
    "                    index=length-1\n",
    "                    while index>0:\n",
    "                        parent_index=int((index-1)/2)\n",
    "                        swapped=False\n",
    "                        if self.heap_list[parent_index]<self.heap_list[index]:\n",
    "                            self.heap_list[index],self.heap_list[parent_index]=self.heap_list[parent_index],self.heap_list[index]\n",
    "                            swapped=True\n",
    "                        index=parent_index\n",
    "                        if not swapped: ##all the upper elements are already heapyfied\n",
    "                            break\n",
    "    def heapDelete(self):\n",
    "        length=len(self.heap_list)\n",
    "        if length==0:\n",
    "            return None\n",
    "        else:\n",
    "            deleted_data=self.heap_list[0]\n",
    "            #swapping with the last element\n",
    "            self.heap_list[0],self.heap_list[-1]=self.heap_list[-1],self.heap_list[0]\n",
    "            #removing the last element\n",
    "            self.heap_list=self.heap_list[:-1]\n",
    "            i=0\n",
    "            while not self.isLeaf(i): ## no need to bother about leaf elements\n",
    "                max_ind=self.maxIndex(i)\n",
    "                swapped=False\n",
    "                if self.heap_list[i]<self.heap_list[max_ind]:\n",
    "                    self.heap_list[i],self.heap_list[max_ind]=self.heap_list[max_ind],self.heap_list[i]\n",
    "                    swapped=True\n",
    "                i=max_ind\n",
    "                if not swapped: ## all the lower eleents are same\n",
    "                    break\n",
    "            return deleted_data\n",
    "    def heapSort(self,*args):\n",
    "        sorted_list=[]\n",
    "        self.heapyfy(*args)\n",
    "        while len(self.heap_list)>0:\n",
    "            sorted_list.append(self.heapDelete())\n",
    "        print(sorted_list)\n",
    "    def showHeap(self):\n",
    "        print(self.heap_list)\n",
    "    "
   ]
  },
  {
   "cell_type": "code",
   "execution_count": 237,
   "metadata": {},
   "outputs": [],
   "source": [
    "mh=MaxHeap()"
   ]
  },
  {
   "cell_type": "code",
   "execution_count": 238,
   "metadata": {},
   "outputs": [],
   "source": [
    "mh.heapInsert(5)\n",
    "mh.heapInsert(10)\n",
    "mh.heapInsert(15)\n",
    "mh.heapInsert(12)\n"
   ]
  },
  {
   "cell_type": "code",
   "execution_count": 239,
   "metadata": {},
   "outputs": [
    {
     "name": "stdout",
     "output_type": "stream",
     "text": [
      "[15, 12, 10, 5]\n"
     ]
    }
   ],
   "source": [
    "mh.showHeap()"
   ]
  },
  {
   "cell_type": "code",
   "execution_count": 240,
   "metadata": {},
   "outputs": [],
   "source": [
    "mh.heapyfy(5,10,35,15)"
   ]
  },
  {
   "cell_type": "code",
   "execution_count": 241,
   "metadata": {},
   "outputs": [
    {
     "name": "stdout",
     "output_type": "stream",
     "text": [
      "[35, 15, 10, 5, 12]\n"
     ]
    }
   ],
   "source": [
    "mh.showHeap()"
   ]
  },
  {
   "cell_type": "code",
   "execution_count": 242,
   "metadata": {},
   "outputs": [],
   "source": [
    "mh.heapyfy(20,12)"
   ]
  },
  {
   "cell_type": "code",
   "execution_count": 243,
   "metadata": {},
   "outputs": [],
   "source": [
    "mh.heapyfy(20.5)"
   ]
  },
  {
   "cell_type": "code",
   "execution_count": 244,
   "metadata": {},
   "outputs": [
    {
     "name": "stdout",
     "output_type": "stream",
     "text": [
      "[35, 15, 20.5, 5, 12, 10, 20]\n"
     ]
    }
   ],
   "source": [
    "mh.showHeap()"
   ]
  },
  {
   "cell_type": "code",
   "execution_count": 245,
   "metadata": {},
   "outputs": [],
   "source": [
    "#mh.heapSort()"
   ]
  },
  {
   "cell_type": "code",
   "execution_count": 246,
   "metadata": {},
   "outputs": [
    {
     "data": {
      "text/plain": [
       "0"
      ]
     },
     "execution_count": 246,
     "metadata": {},
     "output_type": "execute_result"
    }
   ],
   "source": [
    "int(1/2)"
   ]
  },
  {
   "cell_type": "code",
   "execution_count": 247,
   "metadata": {},
   "outputs": [
    {
     "data": {
      "text/plain": [
       "35"
      ]
     },
     "execution_count": 247,
     "metadata": {},
     "output_type": "execute_result"
    }
   ],
   "source": [
    "mh.heapDelete()"
   ]
  },
  {
   "cell_type": "code",
   "execution_count": 248,
   "metadata": {},
   "outputs": [
    {
     "data": {
      "text/plain": [
       "20.5"
      ]
     },
     "execution_count": 248,
     "metadata": {},
     "output_type": "execute_result"
    }
   ],
   "source": [
    "mh.heapDelete()"
   ]
  },
  {
   "cell_type": "code",
   "execution_count": 249,
   "metadata": {},
   "outputs": [
    {
     "name": "stdout",
     "output_type": "stream",
     "text": [
      "[20, 15, 12, 10, 5]\n"
     ]
    }
   ],
   "source": [
    "mh.heapSort()"
   ]
  }
 ],
 "metadata": {
  "kernelspec": {
   "display_name": "Python 3",
   "language": "python",
   "name": "python3"
  },
  "language_info": {
   "codemirror_mode": {
    "name": "ipython",
    "version": 3
   },
   "file_extension": ".py",
   "mimetype": "text/x-python",
   "name": "python",
   "nbconvert_exporter": "python",
   "pygments_lexer": "ipython3",
   "version": "3.7.3"
  }
 },
 "nbformat": 4,
 "nbformat_minor": 2
}
