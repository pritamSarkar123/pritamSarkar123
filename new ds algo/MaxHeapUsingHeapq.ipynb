{
 "cells": [
  {
   "cell_type": "code",
   "execution_count": 1,
   "id": "possible-crest",
   "metadata": {},
   "outputs": [
    {
     "name": "stdout",
     "output_type": "stream",
     "text": [
      "[(35, 'a'), (20, 'd'), (15, 'c'), (12, 'b'), (1, 'e')]\n",
      "(35, 'a')\n",
      "[(20, 'd'), (12, 'b'), (15, 'c'), (1, 'e')]\n",
      "[(20, 'd'), (12, 'b'), (15, 'c'), (1, 'e')]\n",
      "(20, 'd')\n",
      "[(15, 'c'), (12, 'b'), (1, 'e')]\n"
     ]
    }
   ],
   "source": [
    "#done based on the 1st element of the tuple\n",
    "import heapq\n",
    "class MyMaxHeap:\n",
    "    def __init__(self):\n",
    "        self.l=[]\n",
    "    def addElement(self,el):\n",
    "        self.l.append(el)\n",
    "        heapq._heapify_max(self.l)\n",
    "    def removeElement(self):\n",
    "        if(len(self.l)==0):\n",
    "            return \"no element found\"\n",
    "        else:\n",
    "            el=heapq.heappop(self.l)\n",
    "            heapq._heapify_max(self.l)\n",
    "            return el\n",
    "    def peek(self):\n",
    "        if(len(self.l)==0):\n",
    "            return \"no element found\"\n",
    "        else:\n",
    "            return self.l[0]\n",
    "    def showHeap(self):\n",
    "        print(self.l)\n",
    "m=MyMaxHeap()\n",
    "l=[(35, 'a'), (12, 'b'), (15, 'c'), (20, 'd'), (1, 'e')]\n",
    "for e in l:\n",
    "    m.addElement(e)\n",
    "m.showHeap()\n",
    "print(m.removeElement())\n",
    "m.showHeap()\n",
    "m.showHeap()\n",
    "print(m.removeElement())\n",
    "m.showHeap()"
   ]
  },
  {
   "cell_type": "code",
   "execution_count": null,
   "id": "iraqi-andorra",
   "metadata": {},
   "outputs": [],
   "source": []
  }
 ],
 "metadata": {
  "kernelspec": {
   "display_name": "Python 3",
   "language": "python",
   "name": "python3"
  },
  "language_info": {
   "codemirror_mode": {
    "name": "ipython",
    "version": 3
   },
   "file_extension": ".py",
   "mimetype": "text/x-python",
   "name": "python",
   "nbconvert_exporter": "python",
   "pygments_lexer": "ipython3",
   "version": "3.7.10"
  }
 },
 "nbformat": 4,
 "nbformat_minor": 5
}
