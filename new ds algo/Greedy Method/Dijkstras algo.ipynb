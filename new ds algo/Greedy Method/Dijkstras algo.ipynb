{
 "cells": [
  {
   "cell_type": "raw",
   "metadata": {},
   "source": [
    "This is a single source shortest path algorithm\n",
    "time O(n^2)\n",
    "but not reliable when negative path present\n",
    "each time take non visited min distance node(known selection method:Greedy)\n",
    "path should be minimum(minimization/optimization problem)\n",
    "(constraint/Feasible)"
   ]
  },
  {
   "cell_type": "code",
   "execution_count": 24,
   "metadata": {},
   "outputs": [],
   "source": [
    "import numpy as np\n",
    "MAXVAL=9999\n",
    "graph=np.array([[0,4,7,1,MAXVAL,MAXVAL,MAXVAL,MAXVAL],\n",
    "[4,0,MAXVAL,MAXVAL,6,3,MAXVAL,MAXVAL],\n",
    "[7,MAXVAL,0,MAXVAL,MAXVAL,MAXVAL,MAXVAL,5],\n",
    "[1,MAXVAL,MAXVAL,0,MAXVAL,MAXVAL,8,MAXVAL],\n",
    "[MAXVAL,6,MAXVAL,MAXVAL,0,MAXVAL,7,MAXVAL],\n",
    "[MAXVAL,3,MAXVAL,MAXVAL,MAXVAL,0,9,MAXVAL],\n",
    "[MAXVAL,MAXVAL,MAXVAL,8,7,9,0,MAXVAL],\n",
    "[MAXVAL,MAXVAL,5,MAXVAL,MAXVAL,MAXVAL,4,MAXVAL]])\n",
    "nodes=[]"
   ]
  },
  {
   "cell_type": "code",
   "execution_count": 25,
   "metadata": {},
   "outputs": [],
   "source": [
    "def initialDistanceMaker(s):\n",
    "    global nodes,graph\n",
    "    #[toNode,distance,visited,fromNode]\n",
    "    for n,v in enumerate(graph[s]):\n",
    "        if n==s:\n",
    "            tup=[n,v,1,s]\n",
    "        else:\n",
    "            tup=[n,v,0,s]\n",
    "        nodes.append(tup)\n",
    "    nodes.sort(key=lambda x:x[1])            "
   ]
  },
  {
   "cell_type": "code",
   "execution_count": 26,
   "metadata": {},
   "outputs": [],
   "source": [
    "def nextNodeToVisit():\n",
    "    global nodes\n",
    "    for n in nodes:\n",
    "        if n[2]==0:\n",
    "            n[2]=1\n",
    "            return n"
   ]
  },
  {
   "cell_type": "code",
   "execution_count": 27,
   "metadata": {},
   "outputs": [],
   "source": [
    "def dijkstra(node):\n",
    "    global nodes,graph\n",
    "    for tup in nodes:\n",
    "        if not tup[2]:#not visited\n",
    "            #d(u)+cost(u,v)<d(v)\n",
    "            if node[1]+graph[node[0],tup[0]]<tup[1]:\n",
    "                tup[1]=node[1]+graph[node[0],tup[0]] #d(v)=d(u)+cost(u,v)\n",
    "                tup[3]=node[0] #[v,d(v),0,u]\n",
    "    nodes.sort(key=lambda x:x[1])\n",
    "                \n",
    "    "
   ]
  },
  {
   "cell_type": "code",
   "execution_count": 28,
   "metadata": {},
   "outputs": [
    {
     "name": "stdout",
     "output_type": "stream",
     "text": [
      "Enter the source : 2\n",
      "Enter the destimation :5\n",
      "[[2, 0, 1, 2], [7, 5, 1, 2], [0, 7, 1, 2], [3, 8, 1, 0], [6, 9, 1, 7], [1, 11, 1, 0], [5, 14, 1, 1], [4, 16, 1, 6]]\n"
     ]
    }
   ],
   "source": [
    "if __name__==\"__main__\":\n",
    "    global nodes\n",
    "    s=int(input(\"Enter the source : \"))\n",
    "    d=int(input(\"Enter the destimation :\"))\n",
    "    initialDistanceMaker(s)\n",
    "    for i in range(1,graph.shape[0]):\n",
    "        node=nextNodeToVisit()\n",
    "        dijkstra(node)\n",
    "    print(nodes)\n",
    "    "
   ]
  },
  {
   "cell_type": "code",
   "execution_count": null,
   "metadata": {},
   "outputs": [],
   "source": []
  },
  {
   "cell_type": "code",
   "execution_count": 29,
   "metadata": {},
   "outputs": [
    {
     "data": {
      "text/plain": [
       "8"
      ]
     },
     "execution_count": 29,
     "metadata": {},
     "output_type": "execute_result"
    }
   ],
   "source": [
    "graph.shape[0]"
   ]
  },
  {
   "cell_type": "code",
   "execution_count": null,
   "metadata": {},
   "outputs": [],
   "source": []
  }
 ],
 "metadata": {
  "kernelspec": {
   "display_name": "Python 3",
   "language": "python",
   "name": "python3"
  },
  "language_info": {
   "codemirror_mode": {
    "name": "ipython",
    "version": 3
   },
   "file_extension": ".py",
   "mimetype": "text/x-python",
   "name": "python",
   "nbconvert_exporter": "python",
   "pygments_lexer": "ipython3",
   "version": "3.7.3"
  }
 },
 "nbformat": 4,
 "nbformat_minor": 2
}
