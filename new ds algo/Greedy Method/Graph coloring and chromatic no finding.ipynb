{
 "cells": [
  {
   "cell_type": "raw",
   "metadata": {},
   "source": [
    "need to color all nodes\n",
    "no 2 adjacent node can have same color(constraint:Feasible)\n",
    "color the nodes first with higher degree(known selection method:greedy)\n",
    "color the graph with minimum colors(ninimization problem: optimization problem)\n",
    "time(O(n^3))"
   ]
  },
  {
   "cell_type": "code",
   "execution_count": 110,
   "metadata": {},
   "outputs": [],
   "source": [
    "##self node adj==0\n",
    "graph=[\n",
    "    [0,1,0,0,1,0,1,0,0],\n",
    "    [1,0,0,1,0,0,0,0,0],\n",
    "    [0,0,0,1,0,0,0,0,1],\n",
    "    [0,1,1,0,1,0,0,1,1],\n",
    "    [1,0,0,1,0,0,0,0,0],\n",
    "    [0,0,0,0,0,0,1,0,1],\n",
    "    [1,0,0,0,0,1,0,1,0],\n",
    "    [0,0,0,1,0,0,1,0,0],\n",
    "    [0,0,1,1,0,1,0,0,0]\n",
    "]"
   ]
  },
  {
   "cell_type": "code",
   "execution_count": 111,
   "metadata": {},
   "outputs": [
    {
     "data": {
      "text/plain": [
       "[[0, 1, 0, 0, 1, 0, 1, 0, 0],\n",
       " [1, 0, 0, 1, 0, 0, 0, 0, 0],\n",
       " [0, 0, 0, 1, 0, 0, 0, 0, 1],\n",
       " [0, 1, 1, 0, 1, 0, 0, 1, 1],\n",
       " [1, 0, 0, 1, 0, 0, 0, 0, 0],\n",
       " [0, 0, 0, 0, 0, 0, 1, 0, 1],\n",
       " [1, 0, 0, 0, 0, 1, 0, 1, 0],\n",
       " [0, 0, 0, 1, 0, 0, 1, 0, 0],\n",
       " [0, 0, 1, 1, 0, 1, 0, 0, 0]]"
      ]
     },
     "execution_count": 111,
     "metadata": {},
     "output_type": "execute_result"
    }
   ],
   "source": [
    "graph"
   ]
  },
  {
   "cell_type": "code",
   "execution_count": 112,
   "metadata": {},
   "outputs": [],
   "source": [
    "degreeColorList=[] #[node,degree,color]"
   ]
  },
  {
   "cell_type": "code",
   "execution_count": 113,
   "metadata": {},
   "outputs": [],
   "source": [
    "from operator import itemgetter\n",
    "def setList():\n",
    "    global degreeColorList\n",
    "    \n",
    "    for num,node in enumerate(graph):\n",
    "        count=0\n",
    "        for i in node:\n",
    "            if i:\n",
    "                count+=1\n",
    "        degreeColorList.append([num,count,0])\n",
    "    degreeColorList=sorted(degreeColorList,key=itemgetter(1))[::-1]\n",
    "    "
   ]
  },
  {
   "cell_type": "code",
   "execution_count": 114,
   "metadata": {},
   "outputs": [],
   "source": [
    "def getAdjacents(node): ##returns the adjacent nodes as list\n",
    "    adjacents=[]\n",
    "    for n,val in enumerate(graph[node]):\n",
    "        if val:\n",
    "            adjacents.append(n)\n",
    "    return adjacents\n",
    "\n",
    "def isAdjacentSameColor(node,color): #whether the adjacent nodes have same color or not\n",
    "    adjacents=getAdjacents(node)\n",
    "    adjacentColors=[]\n",
    "    for item in degreeColorList:\n",
    "        if item[0] in adjacents:\n",
    "            adjacentColors.append(item[2])\n",
    "    if color in adjacentColors:\n",
    "        return True\n",
    "    else:\n",
    "        return False"
   ]
  },
  {
   "cell_type": "code",
   "execution_count": 115,
   "metadata": {},
   "outputs": [],
   "source": [
    "def colorGraph():\n",
    "    global degreeColorList\n",
    "    color=1\n",
    "    for element in degreeColorList:\n",
    "        for c in range(1,color+1): #color choose between 1 to color+1\n",
    "            if not isAdjacentSameColor(element[0],c):\n",
    "                element[2]=c\n",
    "                break\n",
    "        if element[2]==0: #if the node still not colored\n",
    "            color+=1 # then increament the color range and check again\n",
    "            for c in range(1,color+1):\n",
    "                if not isAdjacentSameColor(element[0],c):\n",
    "                    element[2]=c\n",
    "                    break"
   ]
  },
  {
   "cell_type": "code",
   "execution_count": 116,
   "metadata": {},
   "outputs": [],
   "source": [
    "def minColorRequired():\n",
    "    global degreeColorList\n",
    "    degreeColorList=sorted(degreeColorList,key=itemgetter(2))[::-1]\n",
    "    mincolor=degreeColorList[0][2]\n",
    "    print(mincolor)"
   ]
  },
  {
   "cell_type": "code",
   "execution_count": 117,
   "metadata": {},
   "outputs": [
    {
     "name": "stdout",
     "output_type": "stream",
     "text": [
      "3\n"
     ]
    }
   ],
   "source": [
    "if __name__==\"__main__\":\n",
    "    setList()\n",
    "    colorGraph()\n",
    "    minColorRequired()"
   ]
  },
  {
   "cell_type": "code",
   "execution_count": 118,
   "metadata": {},
   "outputs": [
    {
     "data": {
      "text/plain": [
       "[[1, 2, 3],\n",
       " [2, 2, 3],\n",
       " [4, 2, 3],\n",
       " [5, 2, 3],\n",
       " [7, 2, 2],\n",
       " [0, 3, 2],\n",
       " [8, 3, 2],\n",
       " [6, 3, 1],\n",
       " [3, 5, 1]]"
      ]
     },
     "execution_count": 118,
     "metadata": {},
     "output_type": "execute_result"
    }
   ],
   "source": [
    "degreeColorList"
   ]
  },
  {
   "cell_type": "code",
   "execution_count": null,
   "metadata": {},
   "outputs": [],
   "source": []
  },
  {
   "cell_type": "code",
   "execution_count": null,
   "metadata": {},
   "outputs": [],
   "source": []
  }
 ],
 "metadata": {
  "kernelspec": {
   "display_name": "Python 3",
   "language": "python",
   "name": "python3"
  },
  "language_info": {
   "codemirror_mode": {
    "name": "ipython",
    "version": 3
   },
   "file_extension": ".py",
   "mimetype": "text/x-python",
   "name": "python",
   "nbconvert_exporter": "python",
   "pygments_lexer": "ipython3",
   "version": "3.7.6"
  }
 },
 "nbformat": 4,
 "nbformat_minor": 2
}
