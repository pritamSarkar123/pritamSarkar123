{
 "cells": [
  {
   "cell_type": "raw",
   "metadata": {},
   "source": [
    "# minimum number of merging needed(optimization/minimization problem)\n",
    "select the minmum numbers first(known selection method/greedy method)\n",
    "do 2 merges in each step(constraint/Feasible solution)"
   ]
  },
  {
   "cell_type": "code",
   "execution_count": 1,
   "metadata": {},
   "outputs": [],
   "source": [
    "import heapq"
   ]
  },
  {
   "cell_type": "code",
   "execution_count": 2,
   "metadata": {},
   "outputs": [],
   "source": [
    "mergingSizeList=[6,5,2,3]"
   ]
  },
  {
   "cell_type": "code",
   "execution_count": 3,
   "metadata": {},
   "outputs": [],
   "source": [
    "heapq.heapify(mergingSizeList)"
   ]
  },
  {
   "cell_type": "code",
   "execution_count": 4,
   "metadata": {},
   "outputs": [
    {
     "data": {
      "text/plain": [
       "[2, 3, 6, 5]"
      ]
     },
     "execution_count": 4,
     "metadata": {},
     "output_type": "execute_result"
    }
   ],
   "source": [
    "mergingSizeList"
   ]
  },
  {
   "cell_type": "code",
   "execution_count": 5,
   "metadata": {},
   "outputs": [],
   "source": [
    "#heapq.heappush(mergingSizeList,element to push)\n",
    "#heapq.heappop(mergingSizeList)"
   ]
  },
  {
   "cell_type": "code",
   "execution_count": 6,
   "metadata": {},
   "outputs": [],
   "source": [
    "def mergingRequired():\n",
    "    global mergingSizeList\n",
    "    merging=0\n",
    "    while len(mergingSizeList)>=2:\n",
    "        a=heapq.heappop(mergingSizeList)\n",
    "        b=heapq.heappop(mergingSizeList)\n",
    "        heapq.heappush(mergingSizeList,(a+b))\n",
    "        merging+=(a+b)\n",
    "    print(f'total merging cost {merging}')\n",
    "    "
   ]
  },
  {
   "cell_type": "code",
   "execution_count": 7,
   "metadata": {},
   "outputs": [
    {
     "name": "stdout",
     "output_type": "stream",
     "text": [
      "total merging cost 31\n"
     ]
    }
   ],
   "source": [
    "if __name__==\"__main__\":\n",
    "    mergingRequired()"
   ]
  },
  {
   "cell_type": "code",
   "execution_count": null,
   "metadata": {},
   "outputs": [],
   "source": []
  }
 ],
 "metadata": {
  "kernelspec": {
   "display_name": "Python 3",
   "language": "python",
   "name": "python3"
  },
  "language_info": {
   "codemirror_mode": {
    "name": "ipython",
    "version": 3
   },
   "file_extension": ".py",
   "mimetype": "text/x-python",
   "name": "python",
   "nbconvert_exporter": "python",
   "pygments_lexer": "ipython3",
   "version": "3.7.3"
  }
 },
 "nbformat": 4,
 "nbformat_minor": 2
}
