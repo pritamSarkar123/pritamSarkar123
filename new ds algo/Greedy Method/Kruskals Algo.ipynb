{
 "cells": [
  {
   "cell_type": "raw",
   "metadata": {},
   "source": [
    "minimal cost spanning tree : minimization problem\n",
    "spanning tree, means no loop can happen,all node must present :constraint\n",
    "select the mininum cost aadjacent path first :known selection method so greedy\n",
    "##for n nodes O(n^2) space extra needed\n",
    "## time O(VlogE)"
   ]
  },
  {
   "cell_type": "code",
   "execution_count": 365,
   "metadata": {},
   "outputs": [
    {
     "data": {
      "text/plain": [
       "[[0, 28, 0, 0, 0, 10, 0],\n",
       " [28, 0, 16, 0, 0, 0, 14],\n",
       " [0, 16, 0, 12, 0, 0, 0],\n",
       " [0, 0, 12, 0, 22, 0, 18],\n",
       " [0, 0, 0, 22, 0, 25, 24],\n",
       " [10, 0, 0, 0, 25, 0, 0],\n",
       " [0, 14, 18, 0, 22, 0, 0]]"
      ]
     },
     "execution_count": 365,
     "metadata": {},
     "output_type": "execute_result"
    }
   ],
   "source": [
    "from operator import itemgetter\n",
    "graph=[\n",
    "    [0,28,0,0,0,10,0],\n",
    "    [28,0,16,0,0,0,14],\n",
    "    [0,16,0,12,0,0,0],\n",
    "    [0,0,12,0,22,0,18],\n",
    "    [0,0,0,22,0,25,24],\n",
    "    [10,0,0,0,25,0,0],\n",
    "    [0,14,18,0,22,0,0]\n",
    "]\n",
    "graph"
   ]
  },
  {
   "cell_type": "code",
   "execution_count": 366,
   "metadata": {},
   "outputs": [
    {
     "data": {
      "text/plain": [
       "[[0, 0, 0, 0, 0, 0, 0],\n",
       " [0, 0, 0, 0, 0, 0, 0],\n",
       " [0, 0, 0, 0, 0, 0, 0],\n",
       " [0, 0, 0, 0, 0, 0, 0],\n",
       " [0, 0, 0, 0, 0, 0, 0],\n",
       " [0, 0, 0, 0, 0, 0, 0],\n",
       " [0, 0, 0, 0, 0, 0, 0]]"
      ]
     },
     "execution_count": 366,
     "metadata": {},
     "output_type": "execute_result"
    }
   ],
   "source": [
    "newGraph=[]\n",
    "for g in graph:\n",
    "    a=[]\n",
    "    for i in range(len(graph)):\n",
    "        a.append(0)\n",
    "    newGraph.append(a)\n",
    "newGraph"
   ]
  },
  {
   "cell_type": "code",
   "execution_count": 367,
   "metadata": {},
   "outputs": [],
   "source": [
    "edges=[]\n",
    "def createEdges():\n",
    "    global graph,edges\n",
    "    for i in range(len(graph)):\n",
    "        for j in range(len(graph)):\n",
    "            if [i,j] not in edges and [j,i] not in edges and graph[i][j]:\n",
    "                edges.append([i,j])\n",
    "    for i,e in enumerate(edges):\n",
    "        edges[i]=[e[0],e[1],graph[e[0]][e[1]]]\n",
    "    ######################\n",
    "    edges=sorted(edges,key=itemgetter(2))\n",
    "    return edges"
   ]
  },
  {
   "cell_type": "code",
   "execution_count": 368,
   "metadata": {},
   "outputs": [
    {
     "data": {
      "text/plain": [
       "[[0, 5, 10],\n",
       " [2, 3, 12],\n",
       " [1, 6, 14],\n",
       " [1, 2, 16],\n",
       " [3, 6, 18],\n",
       " [6, 2, 18],\n",
       " [3, 4, 22],\n",
       " [4, 6, 24],\n",
       " [4, 5, 25],\n",
       " [0, 1, 28]]"
      ]
     },
     "execution_count": 368,
     "metadata": {},
     "output_type": "execute_result"
    }
   ],
   "source": [
    "createEdges()"
   ]
  },
  {
   "cell_type": "code",
   "execution_count": 369,
   "metadata": {},
   "outputs": [],
   "source": [
    "def findAdjacent(peek,givenList):\n",
    "    global newGraph\n",
    "    adjacent=[]\n",
    "    for i in newGraph[peek]:\n",
    "        if i!=0 and newGraph[peek].index(i) in givenList:\n",
    "            adjacent.append(newGraph[peek].index(i))\n",
    "    return adjacent"
   ]
  },
  {
   "cell_type": "code",
   "execution_count": 370,
   "metadata": {},
   "outputs": [],
   "source": [
    "def isLooped(givenList):\n",
    "    nList={}\n",
    "    for l in givenList: #all nonvisited\n",
    "        nList[l]=0\n",
    "        \n",
    "    for g in givenList:\n",
    "        s=[]\n",
    "        if nList[g]==0: #not visited yet\n",
    "            s.append(g)\n",
    "            while len(s):\n",
    "                peek=s[-1]\n",
    "                adj=findAdjacent(peek,givenList)\n",
    "                a1=[]#temporary storage\n",
    "                for a in adj:\n",
    "                    if nList[a]==0:#not visited yet\n",
    "                        if a in s:\n",
    "                            return True\n",
    "                        a1.append(a)\n",
    "                nList[peek]=1\n",
    "                s=s[:-1]\n",
    "                s+=a1\n",
    "    return False"
   ]
  },
  {
   "cell_type": "code",
   "execution_count": 371,
   "metadata": {},
   "outputs": [],
   "source": [
    "def createSpanningTree():\n",
    "    global edges,newGraph\n",
    "    cost=0\n",
    "    tree=[]\n",
    "    parentChild=[]\n",
    "    for e in edges:\n",
    "        newGraph[e[0]][e[1]]=e[2]\n",
    "        newGraph[e[1]][e[0]]=e[2]\n",
    "        l=[]\n",
    "        \n",
    "        #checking looped or not \n",
    "        for n in tree:\n",
    "            l.append(n)\n",
    "        for n in e[:2]:\n",
    "            if n not in l:\n",
    "                l.append(n)\n",
    "        if not isLooped(l):\n",
    "            parentChild.append(e[:2])\n",
    "            tree=l\n",
    "            cost+=e[2] \n",
    "        else:#If looped\n",
    "            newGraph[e[0]][e[1]]=0\n",
    "            newGraph[e[1]][e[0]]=0\n",
    "            \n",
    "    return tree,cost,parentChild,newGraph"
   ]
  },
  {
   "cell_type": "code",
   "execution_count": 372,
   "metadata": {},
   "outputs": [
    {
     "data": {
      "text/plain": [
       "([0, 5, 2, 3, 1, 6, 4],\n",
       " 99,\n",
       " [[0, 5], [2, 3], [1, 6], [1, 2], [3, 4], [4, 5]],\n",
       " [[0, 0, 0, 0, 0, 10, 0],\n",
       "  [0, 0, 16, 0, 0, 0, 14],\n",
       "  [0, 16, 0, 12, 0, 0, 0],\n",
       "  [0, 0, 12, 0, 22, 0, 0],\n",
       "  [0, 0, 0, 22, 0, 25, 0],\n",
       "  [10, 0, 0, 0, 25, 0, 0],\n",
       "  [0, 14, 0, 0, 0, 0, 0]])"
      ]
     },
     "execution_count": 372,
     "metadata": {},
     "output_type": "execute_result"
    }
   ],
   "source": [
    "createSpanningTree()"
   ]
  }
 ],
 "metadata": {
  "kernelspec": {
   "display_name": "Python 3",
   "language": "python",
   "name": "python3"
  },
  "language_info": {
   "codemirror_mode": {
    "name": "ipython",
    "version": 3
   },
   "file_extension": ".py",
   "mimetype": "text/x-python",
   "name": "python",
   "nbconvert_exporter": "python",
   "pygments_lexer": "ipython3",
   "version": "3.7.6"
  }
 },
 "nbformat": 4,
 "nbformat_minor": 2
}
