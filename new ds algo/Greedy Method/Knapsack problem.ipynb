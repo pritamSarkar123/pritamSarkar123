{
 "cells": [
  {
   "cell_type": "raw",
   "metadata": {},
   "source": [
    "condition: sum of all weights <= total bag weight (constraint so feasible)\n",
    "objective: getting maximum profit(maximization problem so Optimaization problem)\n",
    "selection method: choose those element first which have more profit per weight(greedy method)\n",
    "    \n",
    "1.elements can be divided in parts\n",
    "time complexity:\n",
    "    best case:One element size==box size:O(1)\n",
    "    worst/avg case:all element can go inside the box:O(n)\n",
    "    \n",
    "space complexity:O(n)"
   ]
  },
  {
   "cell_type": "code",
   "execution_count": 110,
   "metadata": {},
   "outputs": [],
   "source": [
    "#[item,profit,weight]\n",
    "ItemList=[\n",
    "    [0,10,2],\n",
    "    [2,5,3],\n",
    "    [3,15,5],\n",
    "    [4,7,7],\n",
    "    [5,6,1],\n",
    "    [6,18,4],\n",
    "    [7,3,1]\n",
    "]\n",
    "BOX_SIZE=15"
   ]
  },
  {
   "cell_type": "code",
   "execution_count": 111,
   "metadata": {},
   "outputs": [],
   "source": [
    "from operator import itemgetter\n",
    "def sortList(ItemList):\n",
    "    ItemList=sorted(ItemList,key=itemgetter(3))[::-1]\n",
    "    return ItemList"
   ]
  },
  {
   "cell_type": "code",
   "execution_count": 112,
   "metadata": {},
   "outputs": [],
   "source": [
    "def addProfPerWeight():\n",
    "    global ItemList\n",
    "    for item in ItemList:\n",
    "        item.append(item[1]/item[2])\n",
    "    ItemList=sortList(ItemList)\n",
    "    #print(ItemList)"
   ]
  },
  {
   "cell_type": "code",
   "execution_count": 113,
   "metadata": {},
   "outputs": [],
   "source": [
    "def fillBox():\n",
    "    global ItemList,BOX_SIZE\n",
    "    added_items=[]\n",
    "    filled_weight=0\n",
    "    while filled_weight+ItemList[0][2]<=BOX_SIZE: \n",
    "        filled_weight+=ItemList[0][2]\n",
    "        added_items.append(ItemList[0][:4])\n",
    "        ItemList.remove(ItemList[0])\n",
    "            \n",
    "    remaining_weight=BOX_SIZE-filled_weight\n",
    "    \n",
    "    if remaining_weight!=0 and len(ItemList)!=0:\n",
    "        added_items.append([ItemList[0][0],ItemList[0][1],remaining_weight,ItemList[0][3]])\n",
    "        ItemList.remove(ItemList[0])\n",
    "        \n",
    "    max_profit=0\n",
    "    for item in added_items:\n",
    "        max_profit+=(item[-1]*item[-2])\n",
    "    print(f'maximum profit willbe : {max_profit}')\n",
    "    #print(added_items)"
   ]
  },
  {
   "cell_type": "code",
   "execution_count": 114,
   "metadata": {},
   "outputs": [
    {
     "name": "stdout",
     "output_type": "stream",
     "text": [
      "maximum profit willbe : 55.333333333333336\n"
     ]
    }
   ],
   "source": [
    "if __name__==\"__main__\":\n",
    "    addProfPerWeight()\n",
    "    fillBox()"
   ]
  }
 ],
 "metadata": {
  "kernelspec": {
   "display_name": "Python 3",
   "language": "python",
   "name": "python3"
  },
  "language_info": {
   "codemirror_mode": {
    "name": "ipython",
    "version": 3
   },
   "file_extension": ".py",
   "mimetype": "text/x-python",
   "name": "python",
   "nbconvert_exporter": "python",
   "pygments_lexer": "ipython3",
   "version": "3.7.3"
  }
 },
 "nbformat": 4,
 "nbformat_minor": 2
}
