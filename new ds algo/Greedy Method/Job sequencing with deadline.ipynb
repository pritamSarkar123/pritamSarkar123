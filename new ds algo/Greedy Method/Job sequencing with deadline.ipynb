{
 "cells": [
  {
   "cell_type": "raw",
   "metadata": {},
   "source": [
    "finishing job get profit\n",
    "each job need 1 unit of time\n",
    "deadline of each job given\n",
    "\n",
    "1.each job needs to be finished in deadline(constraint->feasible solution)\n",
    "2.profit should be maximized(maximization/optimization problem)\n",
    "3.choose max profitable job first(selection method known and fixed/greedy method)\n",
    "<<place the job in last vacent position>>\n",
    "time complexity:O(n^2)\n",
    "    worst case: 1st job n inner iteration\n",
    "                2nd job n-1 inner iteration\n",
    "                3rd job n-2 inner iteration\n",
    "                ...\n",
    "                nth job 1 inner iteration\n",
    "                total n(n+1)/2 so O(n^2)\n",
    "space complexity:O(n)"
   ]
  },
  {
   "cell_type": "code",
   "execution_count": 83,
   "metadata": {},
   "outputs": [],
   "source": [
    "from operator import itemgetter\n",
    "#[jobs,profits,deadlines]\n",
    "JobList=[\n",
    "    [\"j1\",35,3],\n",
    "    [\"j2\",30,4],\n",
    "    [\"j3\",25,4],\n",
    "    [\"j4\",20,2],\n",
    "    [\"j5\",15,3],\n",
    "    [\"j6\",12,1],\n",
    "    [\"j7\",5,2]\n",
    "]\n",
    "jobList=sorted(JobList,key=itemgetter(1))[::-1]\n",
    "SLOTS=[]"
   ]
  },
  {
   "cell_type": "code",
   "execution_count": 84,
   "metadata": {},
   "outputs": [],
   "source": [
    "def setSlots():\n",
    "    global SLOTS\n",
    "    maxval=0\n",
    "    for item in JobList:\n",
    "        if maxval<item[2]:\n",
    "            maxval=item[2]\n",
    "    for i in range(0,maxval):\n",
    "        SLOTS.append([\"notOccupied\",\"\",0])#[occupied or not,jobname,profit]"
   ]
  },
  {
   "cell_type": "code",
   "execution_count": 85,
   "metadata": {},
   "outputs": [],
   "source": [
    "def jobSequencing():\n",
    "    global JobList,SLOTS\n",
    "    \n",
    "    for job in JobList:\n",
    "        \n",
    "        slotNo=job[2]-1\n",
    "        while slotNo>=0:\n",
    "            if SLOTS[slotNo][0]==\"notOccupied\":\n",
    "                SLOTS[slotNo]=[\"Occupied\",job[0],job[1]]\n",
    "                break\n",
    "            slotNo-=1\n",
    "                \n",
    "            "
   ]
  },
  {
   "cell_type": "code",
   "execution_count": 86,
   "metadata": {},
   "outputs": [],
   "source": [
    "def profitWithJobs():\n",
    "    global SLOTS\n",
    "    maxProfit=0\n",
    "    jobs=\"\"\n",
    "    for slot in SLOTS:\n",
    "        maxProfit+=slot[2]\n",
    "        jobs+=slot[1]+\" \"\n",
    "    print(f'sequence of jobs {jobs} and total profit {maxProfit}')"
   ]
  },
  {
   "cell_type": "code",
   "execution_count": 87,
   "metadata": {},
   "outputs": [
    {
     "name": "stdout",
     "output_type": "stream",
     "text": [
      "sequence of jobs j4 j3 j1 j2  and total profit 110\n"
     ]
    }
   ],
   "source": [
    "if __name__==\"__main__\":\n",
    "    setSlots()\n",
    "    jobSequencing()\n",
    "    profitWithJobs()\n",
    "    "
   ]
  },
  {
   "cell_type": "code",
   "execution_count": 88,
   "metadata": {},
   "outputs": [
    {
     "data": {
      "text/plain": [
       "[['Occupied', 'j4', 20],\n",
       " ['Occupied', 'j3', 25],\n",
       " ['Occupied', 'j1', 35],\n",
       " ['Occupied', 'j2', 30]]"
      ]
     },
     "execution_count": 88,
     "metadata": {},
     "output_type": "execute_result"
    }
   ],
   "source": [
    "SLOTS"
   ]
  },
  {
   "cell_type": "code",
   "execution_count": null,
   "metadata": {},
   "outputs": [],
   "source": []
  },
  {
   "cell_type": "code",
   "execution_count": null,
   "metadata": {},
   "outputs": [],
   "source": []
  }
 ],
 "metadata": {
  "kernelspec": {
   "display_name": "Python 3",
   "language": "python",
   "name": "python3"
  },
  "language_info": {
   "codemirror_mode": {
    "name": "ipython",
    "version": 3
   },
   "file_extension": ".py",
   "mimetype": "text/x-python",
   "name": "python",
   "nbconvert_exporter": "python",
   "pygments_lexer": "ipython3",
   "version": "3.7.3"
  }
 },
 "nbformat": 4,
 "nbformat_minor": 2
}
