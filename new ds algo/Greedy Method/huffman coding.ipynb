{
 "cells": [
  {
   "cell_type": "code",
   "execution_count": 107,
   "metadata": {},
   "outputs": [
    {
     "data": {
      "text/plain": [
       "{'A': 5, 'B': 7, 'F': 2, 'G': 2, 'C': 4, 'E': 3, 'H': 1, 'D': 1}"
      ]
     },
     "execution_count": 107,
     "metadata": {},
     "output_type": "execute_result"
    }
   ],
   "source": [
    "messageString='ABFAABGBBCBABBCCCAEEEHGDF'\n",
    "charDict={}\n",
    "for char in messageString:\n",
    "    if char not in charDict.keys():\n",
    "        count=0\n",
    "        for l in range(len(messageString)):\n",
    "            if char==messageString[l]:\n",
    "                count+=1\n",
    "        charDict[char]=count\n",
    "charDict"
   ]
  },
  {
   "cell_type": "code",
   "execution_count": 108,
   "metadata": {},
   "outputs": [
    {
     "name": "stdout",
     "output_type": "stream",
     "text": [
      "[['H', 1], ['D', 1], ['F', 2], ['G', 2], ['E', 3], ['C', 4], ['A', 5], ['B', 7]]\n"
     ]
    }
   ],
   "source": [
    "from operator import itemgetter\n",
    "charList=[]\n",
    "for key in charDict.keys():\n",
    "    charList.append([key,charDict[key]])\n",
    "charList=sorted(charList,key=itemgetter(1))\n",
    "print(charList)"
   ]
  },
  {
   "cell_type": "code",
   "execution_count": 109,
   "metadata": {},
   "outputs": [],
   "source": [
    "class Node:\n",
    "    def __init__(self,name=None,count=None):\n",
    "        self.name=name\n",
    "        self.count=count"
   ]
  },
  {
   "cell_type": "code",
   "execution_count": 110,
   "metadata": {},
   "outputs": [],
   "source": [
    "import heapq\n",
    "class Tree:\n",
    "    def __init__(self):\n",
    "        self.nodeList=[]\n",
    "        self.finalDict={}\n",
    "    def createNode(self,charList):\n",
    "        for element in charList:\n",
    "            node=Node(element[0],element[1])\n",
    "            self.nodeList.append(node)\n",
    "            self.finalDict[element[0]]=''\n",
    "    def showNodes(self):\n",
    "        for node in self.nodeList:\n",
    "            print(node.name,node.count)\n",
    "    def sortNodes(self):\n",
    "        self.nodeList.sort(key=lambda x: x.count,reverse=False)\n",
    "    def updateNodePaths(self,a,b):\n",
    "        for c in a:\n",
    "            self.finalDict[c]='0'+self.finalDict[c]\n",
    "        for c in b:\n",
    "            self.finalDict[c]='1'+self.finalDict[c]\n",
    "    def makeCode(self):\n",
    "        while len(self.nodeList)>1:\n",
    "            a=self.nodeList[0]\n",
    "            self.nodeList=self.nodeList[1:]\n",
    "            b=self.nodeList[0]\n",
    "            self.nodeList=self.nodeList[1:]\n",
    "            self.updateNodePaths(a.name,b.name)\n",
    "            name=a.name+b.name\n",
    "            count=a.count+b.count\n",
    "            node=Node(name,count)\n",
    "            self.nodeList.append(node)\n",
    "            self.sortNodes()\n",
    "        #print(self.finalDict)\n",
    "        return self.finalDict\n"
   ]
  },
  {
   "cell_type": "code",
   "execution_count": null,
   "metadata": {},
   "outputs": [],
   "source": []
  },
  {
   "cell_type": "code",
   "execution_count": null,
   "metadata": {},
   "outputs": [],
   "source": []
  },
  {
   "cell_type": "code",
   "execution_count": null,
   "metadata": {},
   "outputs": [],
   "source": []
  },
  {
   "cell_type": "code",
   "execution_count": null,
   "metadata": {},
   "outputs": [],
   "source": []
  },
  {
   "cell_type": "code",
   "execution_count": 111,
   "metadata": {},
   "outputs": [],
   "source": [
    "def scanner(metaMessage,message):\n",
    "    message=message.split(':')\n",
    "    print(message)\n",
    "    actualMessage=''\n",
    "    for m in message:\n",
    "        actualMessage+=metaMessage[m][0]\n",
    "    print(actualMessage)"
   ]
  },
  {
   "cell_type": "code",
   "execution_count": 112,
   "metadata": {},
   "outputs": [
    {
     "name": "stdout",
     "output_type": "stream",
     "text": [
      "{'0100': ['H', 1], '0101': ['D', 1], '1110': ['F', 2], '1111': ['G', 2], '011': ['E', 3], '110': ['C', 4], '00': ['A', 5], '10': ['B', 7]} 00:10:1110:00:00:10:1111:10:10:110:10:00:10:10:110:110:110:00:011:011:011:0100:1111:0101:1110\n",
      "['00', '10', '1110', '00', '00', '10', '1111', '10', '10', '110', '10', '00', '10', '10', '110', '110', '110', '00', '011', '011', '011', '0100', '1111', '0101', '1110']\n",
      "ABFAABGBBCBABBCCCAEEEHGDF\n"
     ]
    }
   ],
   "source": [
    "if __name__==\"__main__\":\n",
    "    #sender\n",
    "    tree=Tree()\n",
    "    tree.createNode(charList)\n",
    "    tree.sortNodes()\n",
    "    newDict=tree.makeCode()\n",
    "    metaMessage={}\n",
    "    message=\"\"\n",
    "    for item in charList:\n",
    "        metaMessage[newDict[item[0]]]=item\n",
    "    for c in messageString:\n",
    "        message=message+newDict[c]+\":\"\n",
    "    message=message[:-1]\n",
    "    #Receiver\n",
    "    print(metaMessage,message)\n",
    "    scanner(metaMessage,message)"
   ]
  }
 ],
 "metadata": {
  "kernelspec": {
   "display_name": "Python 3",
   "language": "python",
   "name": "python3"
  },
  "language_info": {
   "codemirror_mode": {
    "name": "ipython",
    "version": 3
   },
   "file_extension": ".py",
   "mimetype": "text/x-python",
   "name": "python",
   "nbconvert_exporter": "python",
   "pygments_lexer": "ipython3",
   "version": "3.7.10"
  }
 },
 "nbformat": 4,
 "nbformat_minor": 2
}
