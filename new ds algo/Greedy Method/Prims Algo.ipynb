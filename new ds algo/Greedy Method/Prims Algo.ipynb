{
 "cells": [
  {
   "cell_type": "raw",
   "metadata": {},
   "source": [
    "minimal cost spanning tree : minimization problem\n",
    "spanning tree, means no loop can happen,all node must present :constraint\n",
    "select the mininum cost aadjacent path first :known selection method so greedy\n",
    "time O(VlogE)"
   ]
  },
  {
   "cell_type": "code",
   "execution_count": 114,
   "metadata": {},
   "outputs": [
    {
     "data": {
      "text/plain": [
       "[[0, 28, 0, 0, 0, 10, 0],\n",
       " [28, 0, 16, 0, 0, 0, 14],\n",
       " [0, 16, 0, 12, 0, 0, 0],\n",
       " [0, 0, 12, 0, 22, 0, 18],\n",
       " [0, 0, 0, 22, 0, 25, 24],\n",
       " [10, 0, 0, 0, 25, 0, 0],\n",
       " [0, 14, 18, 0, 22, 0, 0]]"
      ]
     },
     "execution_count": 114,
     "metadata": {},
     "output_type": "execute_result"
    }
   ],
   "source": [
    "from operator import itemgetter\n",
    "graph=[\n",
    "    [0,28,0,0,0,10,0],\n",
    "    [28,0,16,0,0,0,14],\n",
    "    [0,16,0,12,0,0,0],\n",
    "    [0,0,12,0,22,0,18],\n",
    "    [0,0,0,22,0,25,24],\n",
    "    [10,0,0,0,25,0,0],\n",
    "    [0,14,18,0,22,0,0]\n",
    "]\n",
    "graph"
   ]
  },
  {
   "cell_type": "code",
   "execution_count": 115,
   "metadata": {},
   "outputs": [],
   "source": [
    "###main code\n",
    "def currentMinAdjacent(givenList):\n",
    "    adj=[]\n",
    "    for vertex in givenList:\n",
    "        for n in graph[vertex]:\n",
    "            #if it is adjacent and the node is not in list(avoids looping)\n",
    "            if n and graph[vertex].index(n) not in givenList:\n",
    "                adj.append([vertex,graph[vertex].index(n),n])\n",
    "    adj=sorted(adj,key=itemgetter(2))\n",
    "    if not len(adj):\n",
    "        return None\n",
    "    return adj[0]"
   ]
  },
  {
   "cell_type": "code",
   "execution_count": 116,
   "metadata": {},
   "outputs": [],
   "source": [
    "def createSpanningTree(startingNode):\n",
    "    parentChild=[[None,startingNode]]\n",
    "    tree=[startingNode]\n",
    "    l=currentMinAdjacent(tree)\n",
    "    cost=0\n",
    "    while l:\n",
    "        cost+=l[2]\n",
    "        parentChild.append(l[:2])\n",
    "        tree.append(l[1])\n",
    "        l=currentMinAdjacent(tree)\n",
    "    return tree,cost,parentChild"
   ]
  },
  {
   "cell_type": "code",
   "execution_count": 117,
   "metadata": {},
   "outputs": [
    {
     "data": {
      "text/plain": [
       "([6, 1, 2, 3, 4, 5, 0],\n",
       " 99,\n",
       " [[None, 6], [6, 1], [1, 2], [2, 3], [6, 4], [4, 5], [5, 0]])"
      ]
     },
     "execution_count": 117,
     "metadata": {},
     "output_type": "execute_result"
    }
   ],
   "source": [
    "createSpanningTree(6)"
   ]
  },
  {
   "cell_type": "code",
   "execution_count": null,
   "metadata": {},
   "outputs": [],
   "source": []
  },
  {
   "cell_type": "raw",
   "metadata": {},
   "source": [
    "def findAdjacent(peek,givenList):\n",
    "    adjacent=[]\n",
    "    for i in graph[peek]:\n",
    "        if i and i in givenList:\n",
    "            adjacent.append(i)\n",
    "    return adjacent"
   ]
  },
  {
   "cell_type": "raw",
   "metadata": {},
   "source": [
    "def isLooped(givenList):\n",
    "    nList={}\n",
    "    for l in givenList:\n",
    "        nList[l]=0\n",
    "    s=[]\n",
    "    s.append(givenList[0])\n",
    "    while len(s):\n",
    "        peek=s[-1]\n",
    "        adj=findAdjacent(peek,givenList)\n",
    "        a1=[]\n",
    "        for a in adj:\n",
    "            if nList[a]==0:\n",
    "                if a in s:\n",
    "                    return True\n",
    "                a1.append(a)\n",
    "        nList[peek]=1\n",
    "        s=s[:-1]\n",
    "        s+=a1\n",
    "    return False"
   ]
  },
  {
   "cell_type": "code",
   "execution_count": null,
   "metadata": {},
   "outputs": [],
   "source": []
  }
 ],
 "metadata": {
  "kernelspec": {
   "display_name": "Python 3",
   "language": "python",
   "name": "python3"
  },
  "language_info": {
   "codemirror_mode": {
    "name": "ipython",
    "version": 3
   },
   "file_extension": ".py",
   "mimetype": "text/x-python",
   "name": "python",
   "nbconvert_exporter": "python",
   "pygments_lexer": "ipython3",
   "version": "3.7.6"
  }
 },
 "nbformat": 4,
 "nbformat_minor": 2
}
