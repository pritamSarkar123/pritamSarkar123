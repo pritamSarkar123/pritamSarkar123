{
 "cells": [
  {
   "cell_type": "raw",
   "metadata": {},
   "source": [
    "Recurssive"
   ]
  },
  {
   "cell_type": "code",
   "execution_count": 19,
   "metadata": {},
   "outputs": [],
   "source": [
    "def decimalToBinaryRecurssive(num):\n",
    "    if num>1:\n",
    "        decimalToBinaryRecurssive(num//2)\n",
    "    print(num%2,end='')"
   ]
  },
  {
   "cell_type": "code",
   "execution_count": 20,
   "metadata": {},
   "outputs": [
    {
     "name": "stdout",
     "output_type": "stream",
     "text": [
      "1010"
     ]
    }
   ],
   "source": [
    "decimalToBinaryRecurssive(10)"
   ]
  },
  {
   "cell_type": "code",
   "execution_count": 21,
   "metadata": {},
   "outputs": [],
   "source": [
    "def decimalToBinaryRecurssive8bit(num,i=8):\n",
    "    if num>1 or i>0:\n",
    "        decimalToBinaryRecurssive8bit(num//2,i-1)\n",
    "    print(num%2,end='')"
   ]
  },
  {
   "cell_type": "code",
   "execution_count": 22,
   "metadata": {},
   "outputs": [
    {
     "name": "stdout",
     "output_type": "stream",
     "text": [
      "010000000"
     ]
    }
   ],
   "source": [
    "decimalToBinaryRecurssive8bit(128)"
   ]
  },
  {
   "cell_type": "raw",
   "metadata": {},
   "source": [
    "Iterative"
   ]
  },
  {
   "cell_type": "code",
   "execution_count": 23,
   "metadata": {},
   "outputs": [],
   "source": [
    "def decimalToBinaryIterative(num):\n",
    "    binary=\"\"\n",
    "    while num>0:\n",
    "        binary+=str(num%2)\n",
    "        num=num//2\n",
    "    binary=binary[::-1]\n",
    "    print(binary)"
   ]
  },
  {
   "cell_type": "code",
   "execution_count": 24,
   "metadata": {},
   "outputs": [
    {
     "name": "stdout",
     "output_type": "stream",
     "text": [
      "1010\n"
     ]
    }
   ],
   "source": [
    "decimalToBinaryIterative(10)"
   ]
  },
  {
   "cell_type": "code",
   "execution_count": 25,
   "metadata": {},
   "outputs": [],
   "source": [
    "def decimalToBinaryIterative8bit(num,i=8):\n",
    "    binary=\"\"\n",
    "    while num>0 or i>0:\n",
    "        binary+=str(num%2)\n",
    "        num=num//2\n",
    "        i-=1\n",
    "    binary=binary[::-1]\n",
    "    print(binary)"
   ]
  },
  {
   "cell_type": "code",
   "execution_count": 26,
   "metadata": {},
   "outputs": [
    {
     "name": "stdout",
     "output_type": "stream",
     "text": [
      "00001010\n"
     ]
    }
   ],
   "source": [
    "decimalToBinaryIterative8bit(10)"
   ]
  },
  {
   "cell_type": "raw",
   "metadata": {},
   "source": [
    "Using bin"
   ]
  },
  {
   "cell_type": "code",
   "execution_count": 30,
   "metadata": {},
   "outputs": [
    {
     "data": {
      "text/plain": [
       "'1100100'"
      ]
     },
     "execution_count": 30,
     "metadata": {},
     "output_type": "execute_result"
    }
   ],
   "source": [
    "bin(100)[2:]"
   ]
  },
  {
   "cell_type": "code",
   "execution_count": 36,
   "metadata": {},
   "outputs": [
    {
     "data": {
      "text/plain": [
       "'00000001'"
      ]
     },
     "execution_count": 36,
     "metadata": {},
     "output_type": "execute_result"
    }
   ],
   "source": [
    "#8bit of bin\n",
    "binary=bin(1)[2:]\n",
    "zeroes=8-len(binary)\n",
    "for i in range(zeroes):\n",
    "    binary='0'+binary\n",
    "binary"
   ]
  },
  {
   "cell_type": "code",
   "execution_count": null,
   "metadata": {},
   "outputs": [],
   "source": []
  }
 ],
 "metadata": {
  "kernelspec": {
   "display_name": "Python 3",
   "language": "python",
   "name": "python3"
  },
  "language_info": {
   "codemirror_mode": {
    "name": "ipython",
    "version": 3
   },
   "file_extension": ".py",
   "mimetype": "text/x-python",
   "name": "python",
   "nbconvert_exporter": "python",
   "pygments_lexer": "ipython3",
   "version": "3.7.3"
  }
 },
 "nbformat": 4,
 "nbformat_minor": 2
}
