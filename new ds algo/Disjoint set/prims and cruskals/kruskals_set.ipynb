{
 "cells": [
  {
   "cell_type": "code",
   "execution_count": 191,
   "metadata": {},
   "outputs": [],
   "source": [
    "graph=[\n",
    "    [0,28,0,0,0,10,0],\n",
    "    [28,0,16,0,0,0,14],\n",
    "    [0,16,0,12,0,0,0],\n",
    "    [0,0,12,0,22,0,18],\n",
    "    [0,0,0,22,0,25,24],\n",
    "    [10,0,0,0,25,0,0],\n",
    "    [0,14,18,0,24,0,0]\n",
    "]"
   ]
  },
  {
   "cell_type": "code",
   "execution_count": 192,
   "metadata": {},
   "outputs": [],
   "source": [
    "Edges=[]\n",
    "Set=[]\n",
    "U=set([])"
   ]
  },
  {
   "cell_type": "code",
   "execution_count": 193,
   "metadata": {},
   "outputs": [],
   "source": [
    "def prepareU():\n",
    "    global U\n",
    "    for i in range(len(graph)):\n",
    "        U.add(i)\n",
    "    print(f'initial universal set {U}')"
   ]
  },
  {
   "cell_type": "code",
   "execution_count": 194,
   "metadata": {},
   "outputs": [],
   "source": [
    "def prepareEdges():\n",
    "    global Edges\n",
    "    for i in range(len(graph)):\n",
    "        for j in range(i+1,len(graph)):\n",
    "            if graph[i][j]:\n",
    "                Edges.append([graph[i][j],0,[i,j]])\n",
    "    Edges.sort(key=lambda x:x[0])\n",
    "    print(f'initial edges {Edges}')"
   ]
  },
  {
   "cell_type": "code",
   "execution_count": 195,
   "metadata": {},
   "outputs": [],
   "source": [
    "def initialSet():\n",
    "    global Set,U,Edges\n",
    "    for edge in Edges:\n",
    "        if edge[-1][0] in U and edge[-1][1] in U:\n",
    "            U.remove(edge[-1][0])\n",
    "            U.remove(edge[-1][1])\n",
    "            Edges[Edges.index(edge)][1]=1\n",
    "            Set.append(set([edge[-1][0],edge[-1][1]]))\n",
    "    print(f'initial set {Set} and remaining universal Set {U}')"
   ]
  },
  {
   "cell_type": "code",
   "execution_count": 196,
   "metadata": {},
   "outputs": [],
   "source": [
    "def kruskal():\n",
    "    global U,Set,Edges\n",
    "    for edge in Edges:\n",
    "        if edge[1]!=1:\n",
    "            t1=None\n",
    "            t2=None\n",
    "            t3=None\n",
    "            for i in Set:\n",
    "                if edge[-1][0] in i:\n",
    "                    t1=i\n",
    "            for i in Set:\n",
    "                if edge[-1][1] in i:\n",
    "                    t2=i\n",
    "            if not t1:\n",
    "                if edge[-1][0] in U: \n",
    "                    U.remove(edge[-1][0])\n",
    "                    t3=t2.union({edge[-1][0]})\n",
    "                    Set.remove(t2)\n",
    "                    Set.append(t3)\n",
    "                Edges[Edges.index(edge)][1]=1\n",
    "            elif not t2:\n",
    "                if edge[-1][1] in U: \n",
    "                    U.remove(edge[-1][1])\n",
    "                    t3=t1.union({edge[-1][1]})\n",
    "                    Set.remove(t1)\n",
    "                    Set.append(t3)\n",
    "                Edges[Edges.index(edge)][1]=1\n",
    "            elif t1.difference(t2):\n",
    "                t3=t1.union(t2)\n",
    "                Set.remove(t1)\n",
    "                Set.remove(t2)\n",
    "                Set.append(t3)\n",
    "                Edges[Edges.index(edge)][1]=1\n",
    "            elif not t1.difference(t2):\n",
    "                print(f'Forming Cycle by {edge}')\n",
    "                Edges[Edges.index(edge)][1]=-1\n",
    "    print(Edges)"
   ]
  },
  {
   "cell_type": "code",
   "execution_count": 197,
   "metadata": {},
   "outputs": [
    {
     "name": "stdout",
     "output_type": "stream",
     "text": [
      "initial universal set {0, 1, 2, 3, 4, 5, 6}\n",
      "initial edges [[10, 0, [0, 5]], [12, 0, [2, 3]], [14, 0, [1, 6]], [16, 0, [1, 2]], [18, 0, [3, 6]], [22, 0, [3, 4]], [24, 0, [4, 6]], [25, 0, [4, 5]], [28, 0, [0, 1]]]\n",
      "initial set [{0, 5}, {2, 3}, {1, 6}] and remaining universal Set {4}\n",
      "Forming Cycle by [18, 0, [3, 6]]\n",
      "Forming Cycle by [24, 0, [4, 6]]\n",
      "Forming Cycle by [28, 0, [0, 1]]\n",
      "[[10, 1, [0, 5]], [12, 1, [2, 3]], [14, 1, [1, 6]], [16, 1, [1, 2]], [18, -1, [3, 6]], [22, 1, [3, 4]], [24, -1, [4, 6]], [25, 1, [4, 5]], [28, -1, [0, 1]]]\n",
      "final edges [[0, 5], [2, 3], [1, 6], [1, 2], [3, 4], [4, 5]]\n",
      "total cost 99\n",
      "set [{0, 1, 2, 3, 4, 5, 6}]\n"
     ]
    }
   ],
   "source": [
    "if __name__==\"__main__\":\n",
    "    edges=[]\n",
    "    cost=0\n",
    "    prepareU()\n",
    "    prepareEdges()\n",
    "    initialSet()\n",
    "    kruskal()\n",
    "    for e in Edges:\n",
    "        if e[1]==1:\n",
    "            edges.append([e[-1][0],e[-1][1]])\n",
    "            cost+=e[0]\n",
    "    print(f'final edges {edges}')\n",
    "    print(f'total cost {cost}')\n",
    "    print(f'set {Set}')"
   ]
  }
 ],
 "metadata": {
  "kernelspec": {
   "display_name": "Python 3",
   "language": "python",
   "name": "python3"
  },
  "language_info": {
   "codemirror_mode": {
    "name": "ipython",
    "version": 3
   },
   "file_extension": ".py",
   "mimetype": "text/x-python",
   "name": "python",
   "nbconvert_exporter": "python",
   "pygments_lexer": "ipython3",
   "version": "3.7.6"
  }
 },
 "nbformat": 4,
 "nbformat_minor": 4
}
