{
 "cells": [
  {
   "cell_type": "code",
   "execution_count": 59,
   "metadata": {},
   "outputs": [],
   "source": [
    "graph=[\n",
    "    [0,28,0,0,0,10,0],\n",
    "    [28,0,16,0,0,0,14],\n",
    "    [0,16,0,12,0,0,0],\n",
    "    [0,0,12,0,22,0,18],\n",
    "    [0,0,0,22,0,25,24],\n",
    "    [10,0,0,0,25,0,0],\n",
    "    [0,14,18,0,24,0,0]\n",
    "]"
   ]
  },
  {
   "cell_type": "code",
   "execution_count": 60,
   "metadata": {},
   "outputs": [],
   "source": [
    "visited={}\n",
    "for i in range(len(graph)):\n",
    "    visited[i]=0"
   ]
  },
  {
   "cell_type": "code",
   "execution_count": 61,
   "metadata": {},
   "outputs": [],
   "source": [
    "Nodes=[]\n",
    "Edges=[]\n",
    "TotalCost=0"
   ]
  },
  {
   "cell_type": "code",
   "execution_count": 62,
   "metadata": {},
   "outputs": [],
   "source": [
    "def getNotVisitedAdjacents():\n",
    "    global Nodes\n",
    "    adjacents=[]\n",
    "    for node in Nodes:\n",
    "        for n in graph[node]:\n",
    "            if n and not visited[graph[node].index(n)]: #getting not visited adjacents,it removes cycle\n",
    "                adjacents.append([node,graph[node].index(n),n])\n",
    "        adjacents.sort(key=lambda x:x[2])\n",
    "    return adjacents"
   ]
  },
  {
   "cell_type": "code",
   "execution_count": 63,
   "metadata": {},
   "outputs": [],
   "source": [
    "def minAdjEdge():\n",
    "    global Nodes,TotalCost,visited\n",
    "    adjacents=getNotVisitedAdjacents()\n",
    "    \n",
    "    minAdjNode=adjacents[0][1]\n",
    "    node=adjacents[0][0]\n",
    "    cost=adjacents[0][2]\n",
    "    \n",
    "    visited[minAdjNode]=1\n",
    "    Nodes.append(minAdjNode)\n",
    "    Edges.append([[node,minAdjNode],[cost]])\n",
    "    TotalCost+=cost"
   ]
  },
  {
   "cell_type": "code",
   "execution_count": 64,
   "metadata": {},
   "outputs": [
    {
     "name": "stdout",
     "output_type": "stream",
     "text": [
      "enter starting node 3\n",
      "[3, 2]\n",
      "[[[3, 2], [12]]]\n",
      "12\n",
      "[3, 2, 1]\n",
      "[[[3, 2], [12]], [[2, 1], [16]]]\n",
      "28\n",
      "[3, 2, 1, 6]\n",
      "[[[3, 2], [12]], [[2, 1], [16]], [[1, 6], [14]]]\n",
      "42\n",
      "[3, 2, 1, 6, 4]\n",
      "[[[3, 2], [12]], [[2, 1], [16]], [[1, 6], [14]], [[3, 4], [22]]]\n",
      "64\n",
      "[3, 2, 1, 6, 4, 5]\n",
      "[[[3, 2], [12]], [[2, 1], [16]], [[1, 6], [14]], [[3, 4], [22]], [[4, 5], [25]]]\n",
      "89\n",
      "[3, 2, 1, 6, 4, 5, 0]\n",
      "[[[3, 2], [12]], [[2, 1], [16]], [[1, 6], [14]], [[3, 4], [22]], [[4, 5], [25]], [[5, 0], [10]]]\n",
      "99\n"
     ]
    }
   ],
   "source": [
    "if __name__==\"__main__\":\n",
    "    global Nodes,visited\n",
    "    sn=int(input(\"enter starting node \"))\n",
    "    Nodes.append(sn)\n",
    "    visited[sn]=1\n",
    "    while len(Nodes)<len(graph):\n",
    "        minAdjEdge()\n",
    "        print(Nodes)\n",
    "        print(Edges)\n",
    "        print(TotalCost)"
   ]
  }
 ],
 "metadata": {
  "kernelspec": {
   "display_name": "Python 3",
   "language": "python",
   "name": "python3"
  },
  "language_info": {
   "codemirror_mode": {
    "name": "ipython",
    "version": 3
   },
   "file_extension": ".py",
   "mimetype": "text/x-python",
   "name": "python",
   "nbconvert_exporter": "python",
   "pygments_lexer": "ipython3",
   "version": "3.7.6"
  }
 },
 "nbformat": 4,
 "nbformat_minor": 4
}
