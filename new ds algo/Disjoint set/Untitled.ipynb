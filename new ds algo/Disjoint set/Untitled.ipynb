{
 "cells": [
  {
   "cell_type": "raw",
   "metadata": {},
   "source": [
    "time=O(n^2)\n",
    "############### works only for even no of nodes better version on kruskal"
   ]
  },
  {
   "cell_type": "code",
   "execution_count": 1,
   "metadata": {},
   "outputs": [],
   "source": [
    "graph=[\n",
    "    [0,1,0,1,0,0,0,0],\n",
    "    [1,0,1,0,0,0,0,0],\n",
    "    [0,1,0,1,0,0,0,0],\n",
    "    [1,0,1,0,1,0,0,0],\n",
    "    [0,0,0,1,0,1,1,0],\n",
    "    [0,0,0,0,1,0,0,1],\n",
    "    [0,0,0,0,1,0,0,1],\n",
    "    [0,0,0,0,0,1,1,0]\n",
    "]"
   ]
  },
  {
   "cell_type": "code",
   "execution_count": 2,
   "metadata": {},
   "outputs": [
    {
     "data": {
      "text/plain": [
       "{0, 1, 2, 3, 4, 5, 6, 7}"
      ]
     },
     "execution_count": 2,
     "metadata": {},
     "output_type": "execute_result"
    }
   ],
   "source": [
    "U=set([])\n",
    "for i in range(len(graph)):\n",
    "    U.add(i)\n",
    "U"
   ]
  },
  {
   "cell_type": "code",
   "execution_count": 3,
   "metadata": {},
   "outputs": [
    {
     "data": {
      "text/plain": [
       "[[0, 1], [0, 3], [1, 2], [2, 3], [3, 4], [4, 5], [4, 6], [5, 7], [6, 7]]"
      ]
     },
     "execution_count": 3,
     "metadata": {},
     "output_type": "execute_result"
    }
   ],
   "source": [
    "edges=[]\n",
    "for i in range(len(graph)):\n",
    "    for j in range(i+1,len(graph)):\n",
    "        if graph[i][j]:\n",
    "            edges.append([i,j])\n",
    "edges"
   ]
  },
  {
   "cell_type": "code",
   "execution_count": 4,
   "metadata": {},
   "outputs": [],
   "source": [
    "Set=[]\n",
    "initialEdges=[]\n",
    "def initialSet():\n",
    "    global U,Set,edges,initialEdges\n",
    "    for e in edges:\n",
    "        if e[0] in U and e[1] in U:\n",
    "            U.remove(e[0])\n",
    "            U.remove(e[1])\n",
    "            print(set([e[0],e[1]]))\n",
    "            Set.append(set([e[0],e[1]]))  \n",
    "            initialEdges.append(e)\n",
    "            edges.remove(e)\n"
   ]
  },
  {
   "cell_type": "code",
   "execution_count": 5,
   "metadata": {},
   "outputs": [
    {
     "name": "stdout",
     "output_type": "stream",
     "text": [
      "{0, 1}\n",
      "{2, 3}\n",
      "{4, 5}\n",
      "{6, 7}\n"
     ]
    }
   ],
   "source": [
    "initialSet()"
   ]
  },
  {
   "cell_type": "code",
   "execution_count": 6,
   "metadata": {},
   "outputs": [],
   "source": [
    "def addEdge(edge):\n",
    "    global Set,edges,U\n",
    "    temp1=None\n",
    "    temp2=None\n",
    "    temp3=None\n",
    "    for i in Set:\n",
    "        if edge[0] in i:\n",
    "            temp1=i\n",
    "    for i in Set:\n",
    "        if edge[1] in i:\n",
    "            temp2=i\n",
    "    if not temp1:\n",
    "        if edge[0] in U:\n",
    "            U.remove(edge[0])\n",
    "            temp3=temp2.union(edge[0])\n",
    "            Set.remove(temp2)\n",
    "            Set.append(temp3)\n",
    "    elif not temp2:\n",
    "        if edge[1] in U:\n",
    "            U.remove(edge[1])\n",
    "            temp3=temp1.union(edge[1])\n",
    "            Set.remove(temp1)\n",
    "            Set.append(temp3)\n",
    "    elif temp1.difference(temp2):\n",
    "        temp3=temp1.union(temp2)\n",
    "        Set.remove(temp1)\n",
    "        Set.remove(temp2)\n",
    "        Set.append(temp3)\n",
    "        return True\n",
    "    elif not temp1.difference(temp2):\n",
    "        print(f'Forming Cycle by {edge}')\n",
    "        return False\n",
    "    "
   ]
  },
  {
   "cell_type": "code",
   "execution_count": 7,
   "metadata": {},
   "outputs": [
    {
     "name": "stdout",
     "output_type": "stream",
     "text": [
      "Forming Cycle by [1, 2]\n",
      "Forming Cycle by [5, 7]\n",
      "added edges [[0, 1], [2, 3], [4, 5], [6, 7], [0, 3], [3, 4], [4, 6]]\n",
      "final set [{0, 1, 2, 3, 4, 5, 6, 7}]\n"
     ]
    }
   ],
   "source": [
    "l=[]\n",
    "for edge in edges:\n",
    "    if not addEdge(edge):\n",
    "        l.append(edge)\n",
    "for e in l:\n",
    "    edges.remove(e)\n",
    "print(f'added edges {initialEdges+edges}')\n",
    "print(f'final set {Set}')   "
   ]
  },
  {
   "cell_type": "code",
   "execution_count": null,
   "metadata": {},
   "outputs": [],
   "source": []
  },
  {
   "cell_type": "code",
   "execution_count": null,
   "metadata": {},
   "outputs": [],
   "source": []
  },
  {
   "cell_type": "code",
   "execution_count": null,
   "metadata": {},
   "outputs": [],
   "source": []
  },
  {
   "cell_type": "code",
   "execution_count": null,
   "metadata": {},
   "outputs": [],
   "source": []
  },
  {
   "cell_type": "code",
   "execution_count": null,
   "metadata": {},
   "outputs": [],
   "source": []
  },
  {
   "cell_type": "code",
   "execution_count": null,
   "metadata": {},
   "outputs": [],
   "source": []
  }
 ],
 "metadata": {
  "kernelspec": {
   "display_name": "Python 3",
   "language": "python",
   "name": "python3"
  },
  "language_info": {
   "codemirror_mode": {
    "name": "ipython",
    "version": 3
   },
   "file_extension": ".py",
   "mimetype": "text/x-python",
   "name": "python",
   "nbconvert_exporter": "python",
   "pygments_lexer": "ipython3",
   "version": "3.7.6"
  }
 },
 "nbformat": 4,
 "nbformat_minor": 4
}
