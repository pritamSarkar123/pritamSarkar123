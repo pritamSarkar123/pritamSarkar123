{
 "cells": [
  {
   "cell_type": "raw",
   "metadata": {},
   "source": [
    "divide and conquer\n",
    "\n",
    "time complexity:\n",
    "    total log2(n) steps, in each step merging of n numbers happning\n",
    "    so O(nlog2(n))\n",
    "space complexity:\n",
    "    total log2(n) steps of recurssion, so this no of stack occupied, and each step n sized auxilary array required\n",
    "    so O(nlog2(n))\n",
    "    \n",
    "stable\n",
    "good for n>15 inputs\n",
    "applicable for linked list"
   ]
  },
  {
   "cell_type": "code",
   "execution_count": 33,
   "metadata": {},
   "outputs": [],
   "source": [
    "A=[]"
   ]
  },
  {
   "cell_type": "code",
   "execution_count": 34,
   "metadata": {},
   "outputs": [],
   "source": [
    "def merge(l,mid,h):\n",
    "    global A\n",
    "    i=l\n",
    "    j=mid+1\n",
    "    m=mid\n",
    "    n=h\n",
    "    c=[] #auxilary array\n",
    "    while i<=m and j<=n:\n",
    "        if A[i]<A[j]:\n",
    "            c.append(A[i])\n",
    "            i+=1\n",
    "        else:\n",
    "            c.append(A[j])\n",
    "            j+=1\n",
    "    while i<=m: #means j finishes before\n",
    "        c.append(A[i])\n",
    "        i+=1\n",
    "    while j<=n: #means i finishes before\n",
    "        c.append(A[j])\n",
    "        j+=1\n",
    "    i=l\n",
    "    for val in c:\n",
    "        A[i]=val\n",
    "        i+=1\n",
    "    del c"
   ]
  },
  {
   "cell_type": "code",
   "execution_count": 35,
   "metadata": {},
   "outputs": [],
   "source": [
    "def mergeSort(l,h):\n",
    "    global A\n",
    "    if l<h:\n",
    "        mid=(l+h)//2\n",
    "        mergeSort(l,mid)\n",
    "        mergeSort(mid+1,h)\n",
    "        merge(l,mid,h)"
   ]
  },
  {
   "cell_type": "code",
   "execution_count": 36,
   "metadata": {},
   "outputs": [
    {
     "name": "stdout",
     "output_type": "stream",
     "text": [
      "[10, 16]\n",
      "[8, 10, 16]\n",
      "[12, 15]\n",
      "[8, 10, 12, 15, 16]\n",
      "[3, 6]\n",
      "[5, 9]\n",
      "[3, 5, 6, 9]\n",
      "[3, 5, 6, 8, 9, 10, 12, 15, 16]\n"
     ]
    }
   ],
   "source": [
    "A=[10,16,8,12,15,6,3,9,5]\n",
    "mergeSort(0,len(A)-1)\n",
    "\n"
   ]
  },
  {
   "cell_type": "code",
   "execution_count": 37,
   "metadata": {},
   "outputs": [
    {
     "name": "stdout",
     "output_type": "stream",
     "text": [
      "[3, 5, 6, 8, 9, 10, 12, 15, 16]\n"
     ]
    }
   ],
   "source": [
    "print(A)"
   ]
  },
  {
   "cell_type": "code",
   "execution_count": null,
   "metadata": {},
   "outputs": [],
   "source": []
  },
  {
   "cell_type": "code",
   "execution_count": null,
   "metadata": {},
   "outputs": [],
   "source": []
  },
  {
   "cell_type": "code",
   "execution_count": null,
   "metadata": {},
   "outputs": [],
   "source": []
  },
  {
   "cell_type": "code",
   "execution_count": null,
   "metadata": {},
   "outputs": [],
   "source": []
  }
 ],
 "metadata": {
  "kernelspec": {
   "display_name": "Python 3",
   "language": "python",
   "name": "python3"
  },
  "language_info": {
   "codemirror_mode": {
    "name": "ipython",
    "version": 3
   },
   "file_extension": ".py",
   "mimetype": "text/x-python",
   "name": "python",
   "nbconvert_exporter": "python",
   "pygments_lexer": "ipython3",
   "version": "3.7.3"
  }
 },
 "nbformat": 4,
 "nbformat_minor": 2
}
