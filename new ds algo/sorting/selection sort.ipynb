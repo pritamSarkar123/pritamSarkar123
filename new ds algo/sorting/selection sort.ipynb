{
 "cells": [
  {
   "cell_type": "raw",
   "metadata": {},
   "source": [
    "space complexity:O(n) inplace sorting algo\n",
    "time complexity:\n",
    "    external loop n-2 times\n",
    "    1st step of external n-1 times internal looping\n",
    "    2nd step of external n-2 times internal looping\n",
    "    .\n",
    "    .\n",
    "    .\n",
    "    n-1th step of external 2 times internal looping\n",
    "    n-2th step of external 1 times internal looping\n",
    "total: (n-1)+(n-2)+(n-3)+....+3+2+1=n(n-1)/2 times of looping,, then O(n^2)"
   ]
  },
  {
   "cell_type": "code",
   "execution_count": 1,
   "metadata": {},
   "outputs": [],
   "source": [
    "def selectionSort(*args):\n",
    "    A=list(args)\n",
    "    l=len(A)\n",
    "    for i in range(0,l-1): #upto 2nd last element\n",
    "        imin=i\n",
    "        for j in range(i+1,l):\n",
    "            if A[j]<A[imin]:\n",
    "                imin=j\n",
    "        A[i],A[imin]=A[imin],A[i]\n",
    "    print(A)"
   ]
  },
  {
   "cell_type": "code",
   "execution_count": 2,
   "metadata": {},
   "outputs": [
    {
     "name": "stdout",
     "output_type": "stream",
     "text": [
      "[1, 2, 3, 5, 6]\n"
     ]
    }
   ],
   "source": [
    "selectionSort(5,6,3,2,1)"
   ]
  },
  {
   "cell_type": "code",
   "execution_count": null,
   "metadata": {},
   "outputs": [],
   "source": []
  }
 ],
 "metadata": {
  "kernelspec": {
   "display_name": "Python 3",
   "language": "python",
   "name": "python3"
  },
  "language_info": {
   "codemirror_mode": {
    "name": "ipython",
    "version": 3
   },
   "file_extension": ".py",
   "mimetype": "text/x-python",
   "name": "python",
   "nbconvert_exporter": "python",
   "pygments_lexer": "ipython3",
   "version": "3.7.3"
  }
 },
 "nbformat": 4,
 "nbformat_minor": 2
}
