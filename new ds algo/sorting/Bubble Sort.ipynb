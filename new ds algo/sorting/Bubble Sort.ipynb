{
 "cells": [
  {
   "cell_type": "raw",
   "metadata": {},
   "source": [
    "time complexity O(n^2)\n",
    "stable\n",
    "not for linked list"
   ]
  },
  {
   "cell_type": "code",
   "execution_count": 11,
   "metadata": {},
   "outputs": [],
   "source": [
    "def bubble(A):\n",
    "    n=len(A)\n",
    "    for i in range(0,n):#passes\n",
    "        flag=False\n",
    "        for j in range(0,n-1-i): #i=0->j=n-2\n",
    "            if A[j]>A[j+1]:\n",
    "                flag=True\n",
    "                A[j],A[j+1]=A[j+1],A[j]\n",
    "        if flag==False:\n",
    "            break\n",
    "    return A"
   ]
  },
  {
   "cell_type": "code",
   "execution_count": 12,
   "metadata": {},
   "outputs": [
    {
     "name": "stdout",
     "output_type": "stream",
     "text": [
      "[830, 670, 607, 501, 912, 969, 930, 459, 749, 677, 521, 626, 986, 471, 890, 960, 900, 609, 947, 526]\n"
     ]
    }
   ],
   "source": [
    "import random\n",
    "A=[]\n",
    "for i in range(20):\n",
    "    A.append(random.randint(399,1000))\n",
    "print(A)"
   ]
  },
  {
   "cell_type": "code",
   "execution_count": 13,
   "metadata": {},
   "outputs": [
    {
     "name": "stdout",
     "output_type": "stream",
     "text": [
      "[459, 471, 501, 521, 526, 607, 609, 626, 670, 677, 749, 830, 890, 900, 912, 930, 947, 960, 969, 986]\n"
     ]
    }
   ],
   "source": [
    "A=bubble(A)\n",
    "print(A)"
   ]
  },
  {
   "cell_type": "code",
   "execution_count": null,
   "metadata": {},
   "outputs": [],
   "source": []
  },
  {
   "cell_type": "code",
   "execution_count": null,
   "metadata": {},
   "outputs": [],
   "source": []
  }
 ],
 "metadata": {
  "kernelspec": {
   "display_name": "Python 3",
   "language": "python",
   "name": "python3"
  },
  "language_info": {
   "codemirror_mode": {
    "name": "ipython",
    "version": 3
   },
   "file_extension": ".py",
   "mimetype": "text/x-python",
   "name": "python",
   "nbconvert_exporter": "python",
   "pygments_lexer": "ipython3",
   "version": "3.7.3"
  }
 },
 "nbformat": 4,
 "nbformat_minor": 2
}
