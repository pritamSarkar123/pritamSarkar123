{
 "cells": [
  {
   "cell_type": "raw",
   "metadata": {},
   "source": [
    "[smaller]midelement[greater]\n",
    "\n",
    "time complexity:\n",
    "    best:\n",
    "        each time partition created at middle, so log2(n) steps, n comparison in each step\n",
    "        so O(nlog2(n))\n",
    "    worst:\n",
    "        each time partition created at one end, so n steps, n comparisons in each step\n",
    "        so O(n^2)\n",
    "space complexity:\n",
    "    no auxilary array required\n",
    "    best:\n",
    "        log2(n) steps, so stack size log2(n), O(log2(n))\n",
    "    worst:\n",
    "        n steps, so stack size n, O(n)\n",
    "     \n",
    "1 select middle element as pivot\n",
    "2 select random element as pivot"
   ]
  },
  {
   "cell_type": "code",
   "execution_count": 164,
   "metadata": {},
   "outputs": [],
   "source": [
    "import random\n",
    "B=[]\n",
    "for x in range(100):\n",
    "    B.append(random.randint(80,1000))"
   ]
  },
  {
   "cell_type": "code",
   "execution_count": null,
   "metadata": {},
   "outputs": [],
   "source": []
  },
  {
   "cell_type": "code",
   "execution_count": 165,
   "metadata": {},
   "outputs": [],
   "source": [
    "## avoiding duplicate value\n",
    "def unique(A):\n",
    "    dic={}\n",
    "    C=[]\n",
    "    for x in A:\n",
    "        count=1\n",
    "        if x not in C:\n",
    "            C.append(x)\n",
    "        else:\n",
    "            count+=1\n",
    "            dic[x]=count\n",
    "    return dic,C"
   ]
  },
  {
   "cell_type": "code",
   "execution_count": 166,
   "metadata": {},
   "outputs": [],
   "source": [
    "#keeping duplicate value\n",
    "def multiple(dic,A):\n",
    "    for k in dic.keys():\n",
    "        ind=A.index(k)\n",
    "        v=[]\n",
    "        for i in range(dic[k]):\n",
    "            v.append(k)\n",
    "        A=A[:ind]+v+A[ind+1:]\n",
    "    return A"
   ]
  },
  {
   "cell_type": "markdown",
   "metadata": {},
   "source": [
    "# Pivot at initial position"
   ]
  },
  {
   "cell_type": "code",
   "execution_count": 167,
   "metadata": {},
   "outputs": [],
   "source": [
    "A=[]"
   ]
  },
  {
   "cell_type": "code",
   "execution_count": 168,
   "metadata": {},
   "outputs": [],
   "source": [
    "def partition(l,h):\n",
    "    global A\n",
    "    pivot=A[l] #initial pivot\n",
    "    i=l\n",
    "    j=h\n",
    "    pivotSwapped=False\n",
    "    while j>i:\n",
    "        while True:\n",
    "            if A[i]>pivot or A[i]==A[h]: #i can go atmost h\n",
    "                break\n",
    "            i+=1\n",
    "        while True:\n",
    "            if A[j]<=pivot: #j can go atmost pivot position\n",
    "                break\n",
    "            j-=1\n",
    "        if i<j:\n",
    "            if A[j]==pivot:\n",
    "                pivotSwapped=True\n",
    "            A[i],A[j]=A[j],A[i]\n",
    "            #print(A[l:h+1])\n",
    "    if pivotSwapped==False:\n",
    "        A[j],A[l]=A[l],A[j]\n",
    "    return j\n",
    "    "
   ]
  },
  {
   "cell_type": "code",
   "execution_count": 169,
   "metadata": {},
   "outputs": [],
   "source": [
    "def quickSort(l,h):\n",
    "    global A\n",
    "    if l<h:\n",
    "        j=partition(l,h)\n",
    "        quickSort(l,j)\n",
    "        quickSort(j+1,h)"
   ]
  },
  {
   "cell_type": "code",
   "execution_count": 170,
   "metadata": {},
   "outputs": [
    {
     "name": "stdout",
     "output_type": "stream",
     "text": [
      "[81, 106, 107, 109, 111, 138, 160, 167, 185, 193, 194, 200, 212, 213, 216, 217, 217, 228, 230, 242, 272, 288, 291, 294, 297, 310, 320, 326, 333, 336, 339, 346, 348, 368, 372, 379, 380, 412, 414, 421, 421, 463, 464, 480, 488, 489, 496, 502, 510, 511, 514, 520, 520, 523, 542, 543, 545, 553, 570, 572, 589, 594, 608, 635, 638, 649, 655, 672, 692, 698, 701, 703, 725, 730, 735, 736, 743, 753, 780, 785, 786, 799, 805, 807, 813, 813, 837, 843, 852, 888, 912, 927, 939, 942, 943, 967, 969, 985, 994, 998]\n"
     ]
    }
   ],
   "source": [
    "#A=[10,16,8,12,15,6,3,9,5]\n",
    "A=B\n",
    "dic={}\n",
    "dic,A=unique(A)\n",
    "A.append(max(A)+1)\n",
    "quickSort(0,len(A)-1)\n",
    "A=A[:-1]\n",
    "A=multiple(dic,A)\n",
    "print(A)"
   ]
  },
  {
   "cell_type": "markdown",
   "metadata": {},
   "source": [
    "# Pivot at middle"
   ]
  },
  {
   "cell_type": "code",
   "execution_count": 171,
   "metadata": {},
   "outputs": [],
   "source": [
    "A=[]"
   ]
  },
  {
   "cell_type": "code",
   "execution_count": 172,
   "metadata": {},
   "outputs": [],
   "source": [
    "def partitionMid(l,h):\n",
    "    global A\n",
    "    mid=(l+h)//2\n",
    "    pivot=A[mid]\n",
    "    i=l\n",
    "    j=h\n",
    "    pivotSwapped=False\n",
    "    while j>i:\n",
    "        while True:\n",
    "            if A[i]>pivot or A[i]==A[h]: #i can go atmost h\n",
    "                break\n",
    "            i+=1\n",
    "        while True:\n",
    "            if A[j]<=pivot: #j can go atmost pivot position\n",
    "                break\n",
    "            j-=1\n",
    "        if i<j:\n",
    "            if A[j]==pivot:\n",
    "                pivotSwapped=True\n",
    "            A[i],A[j]=A[j],A[i]\n",
    "            #print(A[l:h+1])\n",
    "\n",
    "    if pivotSwapped==False:        \n",
    "        A[j],A[mid]=A[mid],A[j]\n",
    "    return j\n",
    "    "
   ]
  },
  {
   "cell_type": "code",
   "execution_count": 173,
   "metadata": {},
   "outputs": [],
   "source": [
    "def quickSortMid(l,h):\n",
    "    global A\n",
    "    if l<h:\n",
    "        j=partitionMid(l,h)\n",
    "        quickSortMid(l,j)\n",
    "        quickSortMid(j+1,h)"
   ]
  },
  {
   "cell_type": "code",
   "execution_count": 174,
   "metadata": {},
   "outputs": [
    {
     "name": "stdout",
     "output_type": "stream",
     "text": [
      "[81, 106, 107, 109, 111, 138, 160, 167, 185, 193, 194, 200, 212, 213, 216, 217, 217, 228, 230, 242, 272, 288, 291, 294, 297, 310, 320, 326, 333, 336, 339, 346, 348, 368, 372, 379, 380, 412, 414, 421, 421, 463, 464, 480, 488, 489, 496, 502, 510, 511, 514, 520, 520, 523, 542, 543, 545, 553, 570, 572, 589, 594, 608, 635, 638, 649, 655, 672, 692, 698, 701, 703, 725, 730, 735, 736, 743, 753, 780, 785, 786, 799, 805, 807, 813, 813, 837, 843, 852, 888, 912, 927, 939, 942, 943, 967, 969, 985, 994, 998]\n"
     ]
    }
   ],
   "source": [
    "#A=[10,16,8,12,15,6,3,9,5]\n",
    "#A=sorted(A,reverse=True)\n",
    "A=B\n",
    "dic={}\n",
    "dic,A=unique(A)\n",
    "A.append(max(A)+1)\n",
    "quickSortMid(0,len(A)-1)\n",
    "\n",
    "A=A[:-1]\n",
    "A=multiple(dic,A)\n",
    "print(A)"
   ]
  },
  {
   "cell_type": "markdown",
   "metadata": {},
   "source": [
    "# pivot at random position"
   ]
  },
  {
   "cell_type": "code",
   "execution_count": 175,
   "metadata": {},
   "outputs": [],
   "source": [
    "import random"
   ]
  },
  {
   "cell_type": "code",
   "execution_count": 176,
   "metadata": {},
   "outputs": [],
   "source": [
    "A=[]"
   ]
  },
  {
   "cell_type": "code",
   "execution_count": 177,
   "metadata": {},
   "outputs": [],
   "source": [
    "def partitionrand(l,h):\n",
    "    global A\n",
    "    mid=random.randint(l,h-1) #keeping h=pivot position waste of loop\n",
    "    pivot=A[mid]\n",
    "    i=l\n",
    "    j=h\n",
    "    pivotSwapped=False\n",
    "    while j>i:\n",
    "        while True:\n",
    "            if A[i]>pivot or A[i]==A[h]: #i can go atmost h\n",
    "                break\n",
    "            i+=1\n",
    "        while True:\n",
    "            if A[j]<=pivot: #j can go atmost pivot position\n",
    "                break\n",
    "            j-=1\n",
    "        if i<j:\n",
    "            if A[j]==pivot:\n",
    "                pivotSwapped=True\n",
    "            A[i],A[j]=A[j],A[i]\n",
    "            #print(A[l:h+1])\n",
    "\n",
    "    if pivotSwapped==False:        \n",
    "        A[j],A[mid]=A[mid],A[j]\n",
    "    return j"
   ]
  },
  {
   "cell_type": "code",
   "execution_count": 178,
   "metadata": {},
   "outputs": [],
   "source": [
    "def quickSortrand(l,h):\n",
    "    global A\n",
    "    if l<h:\n",
    "        j=partitionrand(l,h)\n",
    "        quickSortrand(l,j)\n",
    "        quickSortrand(j+1,h)"
   ]
  },
  {
   "cell_type": "code",
   "execution_count": 179,
   "metadata": {},
   "outputs": [
    {
     "name": "stdout",
     "output_type": "stream",
     "text": [
      "[81, 106, 107, 109, 111, 138, 160, 167, 185, 193, 194, 200, 212, 213, 216, 217, 217, 228, 230, 242, 272, 288, 291, 294, 297, 310, 320, 326, 333, 336, 339, 346, 348, 368, 372, 379, 380, 412, 414, 421, 421, 463, 464, 480, 488, 489, 496, 502, 510, 511, 514, 520, 520, 523, 542, 543, 545, 553, 570, 572, 589, 594, 608, 635, 638, 649, 655, 672, 692, 698, 701, 703, 725, 730, 735, 736, 743, 753, 780, 785, 786, 799, 805, 807, 813, 813, 837, 843, 852, 888, 912, 927, 939, 942, 943, 967, 969, 985, 994, 998]\n"
     ]
    }
   ],
   "source": [
    "#A=[10,16,8,12,15,6,3,9,5]\n",
    "#A=sorted(A,reverse=True)\n",
    "A=B\n",
    "dic={}\n",
    "dic,A=unique(A)\n",
    "A.append(max(A)+1)\n",
    "quickSortrand(0,len(A)-1)\n",
    "\n",
    "A=A[:-1]\n",
    "A=multiple(dic,A)\n",
    "print(A)"
   ]
  },
  {
   "cell_type": "code",
   "execution_count": null,
   "metadata": {},
   "outputs": [],
   "source": []
  },
  {
   "cell_type": "code",
   "execution_count": null,
   "metadata": {},
   "outputs": [],
   "source": []
  },
  {
   "cell_type": "code",
   "execution_count": null,
   "metadata": {},
   "outputs": [],
   "source": []
  },
  {
   "cell_type": "code",
   "execution_count": null,
   "metadata": {},
   "outputs": [],
   "source": []
  },
  {
   "cell_type": "code",
   "execution_count": null,
   "metadata": {},
   "outputs": [],
   "source": []
  },
  {
   "cell_type": "code",
   "execution_count": null,
   "metadata": {},
   "outputs": [],
   "source": []
  },
  {
   "cell_type": "code",
   "execution_count": null,
   "metadata": {},
   "outputs": [],
   "source": []
  },
  {
   "cell_type": "code",
   "execution_count": null,
   "metadata": {},
   "outputs": [],
   "source": []
  }
 ],
 "metadata": {
  "kernelspec": {
   "display_name": "Python 3",
   "language": "python",
   "name": "python3"
  },
  "language_info": {
   "codemirror_mode": {
    "name": "ipython",
    "version": 3
   },
   "file_extension": ".py",
   "mimetype": "text/x-python",
   "name": "python",
   "nbconvert_exporter": "python",
   "pygments_lexer": "ipython3",
   "version": "3.7.3"
  }
 },
 "nbformat": 4,
 "nbformat_minor": 2
}
