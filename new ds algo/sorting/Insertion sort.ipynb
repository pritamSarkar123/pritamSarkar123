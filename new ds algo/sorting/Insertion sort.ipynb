{
 "cells": [
  {
   "cell_type": "raw",
   "metadata": {},
   "source": [
    "Insertion sort\n",
    "best case O(n)\n",
    "    eg: 1 2 3 4 5, sorted array \n",
    "        or\n",
    "        nearly sorted array like 1 2 3 5 4 takes O(n)\n",
    "        \n",
    "worst case O(n^2):\n",
    "    eg: reversed array\n",
    "        \n",
    "youtube link : https://www.youtube.com/watch?v=i-SKeOcBwko&t=750s"
   ]
  },
  {
   "cell_type": "code",
   "execution_count": 17,
   "metadata": {},
   "outputs": [],
   "source": [
    "def insertionSort(*args):\n",
    "    l=len(args)\n",
    "    A=list(args)\n",
    "    for i in range(1,l):\n",
    "        value=A[i]\n",
    "        hole=i\n",
    "        #element exhist before hole and the element is > the value\n",
    "        while hole>0 and A[hole-1]>value:\n",
    "            A[hole]=A[hole-1] #place hole-1 value to hole\n",
    "            hole-=1 #shift the hole forward\n",
    "        A[hole]=value #place the value to the current hole\n",
    "    print(A)"
   ]
  },
  {
   "cell_type": "code",
   "execution_count": 19,
   "metadata": {},
   "outputs": [
    {
     "name": "stdout",
     "output_type": "stream",
     "text": [
      "[1, 1, 2, 3, 4, 5]\n"
     ]
    }
   ],
   "source": [
    "insertionSort(5,2,3,4,1,1)"
   ]
  },
  {
   "cell_type": "code",
   "execution_count": null,
   "metadata": {},
   "outputs": [],
   "source": []
  }
 ],
 "metadata": {
  "kernelspec": {
   "display_name": "Python 3",
   "language": "python",
   "name": "python3"
  },
  "language_info": {
   "codemirror_mode": {
    "name": "ipython",
    "version": 3
   },
   "file_extension": ".py",
   "mimetype": "text/x-python",
   "name": "python",
   "nbconvert_exporter": "python",
   "pygments_lexer": "ipython3",
   "version": "3.7.3"
  }
 },
 "nbformat": 4,
 "nbformat_minor": 2
}
