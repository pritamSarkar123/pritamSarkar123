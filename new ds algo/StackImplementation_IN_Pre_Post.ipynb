{
 "cells": [
  {
   "cell_type": "code",
   "execution_count": 349,
   "metadata": {},
   "outputs": [],
   "source": [
    "class Stack:\n",
    "    def __init__(self):\n",
    "        self.stack=[]\n",
    "    def push(self,value):\n",
    "        self.stack.append(value)\n",
    "    def pop(self):\n",
    "        if len(self.stack)==0:\n",
    "            return None\n",
    "        else:\n",
    "            value=self.stack[-1]\n",
    "            self.stack=self.stack[:-1]\n",
    "            return value\n",
    "    def peek(self):\n",
    "        if len(self.stack)==0:\n",
    "            return None\n",
    "        else:\n",
    "            return self.stack[-1]\n",
    "    def lenght(self):\n",
    "        return len(self.stack)\n",
    "    def show(self):\n",
    "        return self.stack\n",
    "    def empty(self):\n",
    "        if len(self.stack)==0:\n",
    "            return True\n",
    "        else:\n",
    "            return False"
   ]
  },
  {
   "cell_type": "raw",
   "metadata": {},
   "source": [
    "\n",
    "Infix > Post:\n",
    "\tscan s through the whole string:\n",
    "\t\tcondi 1: if s is an operand then add it to the eqution\n",
    "\t\tcondi 2: if s is an operator\n",
    "\t\t \t\tc1: not ( and not  ) then:\n",
    "\t\t\t\t\tuntil: stack is not empty and top is not ( and top_priority > s_priority then:\n",
    "\t\t\t\t\t\t\tadd top to the equation and pop it\n",
    "\t\t\t\t\totherwise: push the operator in stack\n",
    "\t\t\t\tc2: if s is ( then push it into stack\n",
    "\t\t\t\tc3: if s is ) then :\n",
    "\t\t\t\t\tuntil : and top is not ( then:\n",
    "\t\t\t\t\t\t\tadd top to the eqution in stack\n",
    "\t\t\t\t\totherwise: pop out the (\n",
    "\tpop out all remainings and add to the equation after scanning of entire strings finishes\n",
    "\treturn eqution\n"
   ]
  },
  {
   "cell_type": "code",
   "execution_count": 350,
   "metadata": {},
   "outputs": [],
   "source": [
    "operatorPre={\"+\":0,\"-\":0,\"/\":1,\"*\":1,\"%\":1,\"(\":2,\")\":2}\n",
    "def operator(arg):\n",
    "    operatorList=[\"+\",\"-\",\"/\",\"*\",\"%\",\"(\",\")\"]\n",
    "    if arg in operatorList:\n",
    "        return True\n",
    "    else:\n",
    "        return False"
   ]
  },
  {
   "cell_type": "code",
   "execution_count": 351,
   "metadata": {},
   "outputs": [],
   "source": [
    "def infixToPostfix(string):\n",
    "    if operator(string[0]):\n",
    "        return None\n",
    "    else:\n",
    "        stack=Stack()\n",
    "        string=string.split()\n",
    "        equ=\"\"\n",
    "        for s in string:\n",
    "            if not operator(s):\n",
    "                equ=equ+s+\" \"\n",
    "            else:\n",
    "                if s!='(' and s!=')':\n",
    "                    while not stack.empty() and stack.peek()!='(' and operatorPre[s]<operatorPre[stack.peek()]:\n",
    "                        equ=equ+stack.peek()+\" \"\n",
    "                        stack.pop()\n",
    "                    stack.push(s)\n",
    "                if s=='(':\n",
    "                    stack.push(s)\n",
    "                if s==')':\n",
    "                    while stack.peek()!='(' and not stack.empty():\n",
    "                        equ=equ+stack.peek()+\" \"\n",
    "                    stack.pop()\n",
    "        while not stack.empty():\n",
    "            equ=equ+stack.peek()+\" \"\n",
    "            stack.pop()\n",
    "        string=equ[:-1]\n",
    "        del stack\n",
    "        equ=\"\"\n",
    "        return string"
   ]
  },
  {
   "cell_type": "code",
   "execution_count": 352,
   "metadata": {},
   "outputs": [
    {
     "data": {
      "text/plain": [
       "'a b +'"
      ]
     },
     "execution_count": 352,
     "metadata": {},
     "output_type": "execute_result"
    }
   ],
   "source": [
    "infixToPostfix(\"a + b\")"
   ]
  },
  {
   "cell_type": "raw",
   "metadata": {},
   "source": [
    "\n",
    "Infix>Prefix:\n",
    "\tif string[0] is a operator then it is not an Infix:\n",
    "\t\treturn None\n",
    "\tstring=rev(string)\n",
    "\tstring=Infix>postfix\n",
    "\tstring=rev(string)\n",
    "\tstirng=removing_first_space(string)\n",
    "\treturn string\n",
    "\n"
   ]
  },
  {
   "cell_type": "code",
   "execution_count": 353,
   "metadata": {},
   "outputs": [],
   "source": [
    "def infixToPrefix(string):\n",
    "    if operator(string[0]):\n",
    "        return None\n",
    "    string=string[::-1]\n",
    "    string=infixToPostfix(string)\n",
    "    string=string[::-1]\n",
    "    return string"
   ]
  },
  {
   "cell_type": "code",
   "execution_count": 354,
   "metadata": {},
   "outputs": [
    {
     "data": {
      "text/plain": [
       "'- + s * d c f'"
      ]
     },
     "execution_count": 354,
     "metadata": {},
     "output_type": "execute_result"
    }
   ],
   "source": [
    "infixToPrefix(\"s + d * c - f\")"
   ]
  },
  {
   "cell_type": "raw",
   "metadata": {},
   "source": [
    "\n",
    "Postfix>Infix:\n",
    "\tif string[0] is a operator then it is not an Postfix:\n",
    "\t\treturn None\n",
    "\teqution=\"\"\n",
    "\tscan s through the whole string:\n",
    "\t\tcondi 1: if s is an operand push\n",
    "\t\tcondi 2: if s is an operator then:\n",
    "\t\t\t\ta=pop()\n",
    "\t\t\t\tb=pop()\n",
    "\t\t\t\teqution=eqution+b+s+a\n",
    "\t\t\t\tpush the eqution\n",
    "\t\t\t\teqution=\"\"\n",
    "\tatlast eqution=pop()\n",
    "\treturn eqution\n",
    "\n"
   ]
  },
  {
   "cell_type": "code",
   "execution_count": 355,
   "metadata": {},
   "outputs": [],
   "source": [
    "def postfixToInfix(string):\n",
    "    if operator(string[0]):\n",
    "        return None\n",
    "    stack=Stack()\n",
    "    string=string.split(\" \")\n",
    "    for s in string:\n",
    "        if not operator(s):\n",
    "            stack.push(s)\n",
    "        else:\n",
    "            equ=\"\"\n",
    "            a=stack.pop()\n",
    "            b=stack.pop()\n",
    "            equ=equ+b+\" \"+s+\" \"+a\n",
    "            stack.push(equ)\n",
    "    string=stack.pop()\n",
    "    del stack\n",
    "    return string"
   ]
  },
  {
   "cell_type": "code",
   "execution_count": 356,
   "metadata": {},
   "outputs": [
    {
     "data": {
      "text/plain": [
       "'A + B + C + D'"
      ]
     },
     "execution_count": 356,
     "metadata": {},
     "output_type": "execute_result"
    }
   ],
   "source": [
    "postfixToInfix(\"A B + C + D +\")"
   ]
  },
  {
   "cell_type": "raw",
   "metadata": {},
   "source": [
    "Prefix>Infix:\n",
    "\tif string[0] is not a operator then it is not an Prefix:\n",
    "\t\treturn None\n",
    "\teqution=\"\"\n",
    "    right to left scan ##################\n",
    "\tscan s through the whole string:\n",
    "\t\tcondi 1: if s is an operand push\n",
    "\t\tcondi 2: if s is an operator then:\n",
    "\t\t\t\ta=pop()\n",
    "\t\t\t\tb=pop()\n",
    "\t\t\t\teqution=eqution+a+s+b\n",
    "\t\t\t\tpush the eqution\n",
    "\t\t\t\teqution=\"\"\n",
    "\tatlast eqution=pop()\n",
    "\treturn eqution"
   ]
  },
  {
   "cell_type": "code",
   "execution_count": 357,
   "metadata": {},
   "outputs": [],
   "source": [
    "def prefixToInfix(string):\n",
    "    if not operator(string[0]):\n",
    "        return None\n",
    "    else:\n",
    "        equ=\"\"\n",
    "        stack=Stack()\n",
    "        string=string.split(\" \")\n",
    "        l=len(string)\n",
    "        i=l-1\n",
    "        while i>=0:\n",
    "            if not operator(string[i]):\n",
    "                stack.push(string[i])\n",
    "            else:\n",
    "                a=stack.pop()\n",
    "                b=stack.pop()\n",
    "                equ=equ+a+\" \"+string[i]+\" \"+b\n",
    "                stack.push(equ)\n",
    "                equ=\"\"\n",
    "            i-=1\n",
    "        string=stack.pop()\n",
    "        del stack\n",
    "        return string"
   ]
  },
  {
   "cell_type": "code",
   "execution_count": 358,
   "metadata": {},
   "outputs": [
    {
     "data": {
      "text/plain": [
       "'A + B + C + D'"
      ]
     },
     "execution_count": 358,
     "metadata": {},
     "output_type": "execute_result"
    }
   ],
   "source": [
    "prefixToInfix(\"+ + + A B C D\")"
   ]
  },
  {
   "cell_type": "raw",
   "metadata": {},
   "source": [
    "Prefix>Postfix:\n",
    "\tif string[0] is not a operator then it is not an Prefix:\n",
    "\t\treturn None\n",
    "\tstring=Prefix>Infix\n",
    "\tstring=Infix>Postfix\n",
    "\n",
    "Postfix>Prefix:\n",
    "\tif string[0] is a operator then it is not an Postfix:\n",
    "\t\treturn None\n",
    "\tstring=Postfix>Infix\n",
    "\tstring=Infix>Prefix\n"
   ]
  },
  {
   "cell_type": "code",
   "execution_count": 359,
   "metadata": {},
   "outputs": [],
   "source": [
    "def prefixToPostfix(string):\n",
    "    if not operator(string[0]):\n",
    "        return None\n",
    "    string=prefixToInfix(string)\n",
    "    string=infixToPostfix(string)\n",
    "    return string"
   ]
  },
  {
   "cell_type": "code",
   "execution_count": 360,
   "metadata": {},
   "outputs": [],
   "source": [
    "def postfixToPrefix(string):\n",
    "    if operator(string[0]):\n",
    "        return None\n",
    "    string=postfixToInfix(string)\n",
    "    string=infixToPrefix(string)\n",
    "    return string"
   ]
  },
  {
   "cell_type": "code",
   "execution_count": 361,
   "metadata": {},
   "outputs": [
    {
     "data": {
      "text/plain": [
       "'A B C D + + +'"
      ]
     },
     "execution_count": 361,
     "metadata": {},
     "output_type": "execute_result"
    }
   ],
   "source": [
    "prefixToPostfix(\"+ + + A B C D\")"
   ]
  },
  {
   "cell_type": "code",
   "execution_count": 362,
   "metadata": {},
   "outputs": [
    {
     "data": {
      "text/plain": [
       "'+ + + A B C D'"
      ]
     },
     "execution_count": 362,
     "metadata": {},
     "output_type": "execute_result"
    }
   ],
   "source": [
    "postfixToPrefix(\"A B C D + + +\")"
   ]
  },
  {
   "cell_type": "code",
   "execution_count": null,
   "metadata": {},
   "outputs": [],
   "source": []
  }
 ],
 "metadata": {
  "kernelspec": {
   "display_name": "Python 3",
   "language": "python",
   "name": "python3"
  },
  "language_info": {
   "codemirror_mode": {
    "name": "ipython",
    "version": 3
   },
   "file_extension": ".py",
   "mimetype": "text/x-python",
   "name": "python",
   "nbconvert_exporter": "python",
   "pygments_lexer": "ipython3",
   "version": "3.7.3"
  }
 },
 "nbformat": 4,
 "nbformat_minor": 2
}
